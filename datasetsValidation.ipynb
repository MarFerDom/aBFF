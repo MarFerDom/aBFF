{
 "cells": [
  {
   "cell_type": "code",
   "execution_count": 1,
   "id": "b776b7b5-f831-4193-83ae-186272679b6e",
   "metadata": {},
   "outputs": [],
   "source": [
    "import pandas as pd\n",
    "import numpy as np\n",
    "import os\n",
    "#full_data = pd.DataFrame({}, columns=[])\n",
    "filepath = \"./dataset/\"\n",
    "files = [s for s in os.listdir(filepath) if \"BoT\" in s]\n",
    "temp = []\n",
    "for file in files:\n",
    "    temp.append(pd.read_csv(filepath+file, sep=','))\n",
    "full_data = pd.concat(temp, ignore_index=True)\n",
    "\n",
    "# another for comparison\n",
    "temp = pd.read_csv(filepath+\"attack_CIC.csv\", sep=',')"
   ]
  },
  {
   "cell_type": "code",
   "execution_count": 5,
   "id": "50e0a38d-2899-44b4-8168-d835b81b22f3",
   "metadata": {},
   "outputs": [
    {
     "data": {
      "text/plain": [
       "Index(['Flow ID', 'Src IP', 'Src Port', 'Dst IP', 'Dst Port', 'Protocol',\n",
       "       'Timestamp', 'Flow Duration', 'Tot Fwd Pkts', 'Tot Bwd Pkts',\n",
       "       'TotLen Fwd Pkts', 'TotLen Bwd Pkts', 'Fwd Pkt Len Max',\n",
       "       'Fwd Pkt Len Min', 'Fwd Pkt Len Mean', 'Fwd Pkt Len Std',\n",
       "       'Bwd Pkt Len Max', 'Bwd Pkt Len Min', 'Bwd Pkt Len Mean',\n",
       "       'Bwd Pkt Len Std', 'Flow Byts/s', 'Flow Pkts/s', 'Flow IAT Mean',\n",
       "       'Flow IAT Std', 'Flow IAT Max', 'Flow IAT Min', 'Fwd IAT Tot',\n",
       "       'Fwd IAT Mean', 'Fwd IAT Std', 'Fwd IAT Max', 'Fwd IAT Min',\n",
       "       'Bwd IAT Tot', 'Bwd IAT Mean', 'Bwd IAT Std', 'Bwd IAT Max',\n",
       "       'Bwd IAT Min', 'Fwd PSH Flags', 'Bwd PSH Flags', 'Fwd URG Flags',\n",
       "       'Bwd URG Flags', 'Fwd Header Len', 'Bwd Header Len', 'Fwd Pkts/s',\n",
       "       'Bwd Pkts/s', 'Pkt Len Min', 'Pkt Len Max', 'Pkt Len Mean',\n",
       "       'Pkt Len Std', 'Pkt Len Var', 'FIN Flag Cnt', 'SYN Flag Cnt',\n",
       "       'RST Flag Cnt', 'PSH Flag Cnt', 'ACK Flag Cnt', 'URG Flag Cnt',\n",
       "       'CWE Flag Count', 'ECE Flag Cnt', 'Down/Up Ratio', 'Pkt Size Avg',\n",
       "       'Fwd Seg Size Avg', 'Bwd Seg Size Avg', 'Fwd Byts/b Avg',\n",
       "       'Fwd Pkts/b Avg', 'Fwd Blk Rate Avg', 'Bwd Byts/b Avg',\n",
       "       'Bwd Pkts/b Avg', 'Bwd Blk Rate Avg', 'Subflow Fwd Pkts',\n",
       "       'Subflow Fwd Byts', 'Subflow Bwd Pkts', 'Subflow Bwd Byts',\n",
       "       'Init Fwd Win Byts', 'Init Bwd Win Byts', 'Fwd Act Data Pkts',\n",
       "       'Fwd Seg Size Min', 'Active Mean', 'Active Std', 'Active Max',\n",
       "       'Active Min', 'Idle Mean', 'Idle Std', 'Idle Max', 'Idle Min', 'Label',\n",
       "       'Attack'],\n",
       "      dtype='object')"
      ]
     },
     "execution_count": 5,
     "metadata": {},
     "output_type": "execute_result"
    }
   ],
   "source": [
    "full_data.columns#dtypes[full_data.dtypes != object]"
   ]
  },
  {
   "cell_type": "markdown",
   "id": "1ed4d36a-5330-4eeb-a415-09ee7d1394da",
   "metadata": {},
   "source": [
    "### show difference in feature names"
   ]
  },
  {
   "cell_type": "code",
   "execution_count": 17,
   "id": "c648d80e-356b-48f4-afd6-839b054146f5",
   "metadata": {
    "collapsed": true,
    "jupyter": {
     "outputs_hidden": true
    },
    "tags": []
   },
   "outputs": [
    {
     "name": "stdout",
     "output_type": "stream",
     "text": [
      "['Flow ID', 'Src IP', 'Src Port', 'Dst IP', 'Dst Port', 'Protocol', 'Timestamp', 'Flow Duration', 'Tot Fwd Pkts', 'Tot Bwd Pkts', 'TotLen Fwd Pkts', 'TotLen Bwd Pkts', 'Fwd Pkt Len Max', 'Fwd Pkt Len Min', 'Fwd Pkt Len Mean', 'Fwd Pkt Len Std', 'Bwd Pkt Len Max', 'Bwd Pkt Len Min', 'Bwd Pkt Len Mean', 'Bwd Pkt Len Std', 'Flow Byts/s', 'Flow Pkts/s', 'Flow IAT Mean', 'Flow IAT Std', 'Flow IAT Max', 'Flow IAT Min', 'Fwd IAT Tot', 'Fwd IAT Mean', 'Fwd IAT Std', 'Fwd IAT Max', 'Fwd IAT Min', 'Bwd IAT Tot', 'Bwd IAT Mean', 'Bwd IAT Std', 'Bwd IAT Max', 'Bwd IAT Min', 'Fwd PSH Flags', 'Bwd PSH Flags', 'Fwd URG Flags', 'Bwd URG Flags', 'Fwd Header Len', 'Bwd Header Len', 'Fwd Pkts/s', 'Bwd Pkts/s', 'Pkt Len Min', 'Pkt Len Max', 'Pkt Len Mean', 'Pkt Len Std', 'Pkt Len Var', 'FIN Flag Cnt', 'SYN Flag Cnt', 'RST Flag Cnt', 'PSH Flag Cnt', 'ACK Flag Cnt', 'URG Flag Cnt', 'CWE Flag Count', 'ECE Flag Cnt', 'Down/Up Ratio', 'Pkt Size Avg', 'Fwd Seg Size Avg', 'Bwd Seg Size Avg', 'Fwd Byts/b Avg', 'Fwd Pkts/b Avg', 'Fwd Blk Rate Avg', 'Bwd Byts/b Avg', 'Bwd Pkts/b Avg', 'Bwd Blk Rate Avg', 'Subflow Fwd Pkts', 'Subflow Fwd Byts', 'Subflow Bwd Pkts', 'Subflow Bwd Byts', 'Init Fwd Win Byts', 'Init Bwd Win Byts', 'Fwd Act Data Pkts', 'Fwd Seg Size Min', 'Active Mean', 'Active Std', 'Active Max', 'Active Min', 'Idle Mean', 'Idle Std', 'Idle Max', 'Idle Min', 'Attack']\n",
      "['src_ip', 'dst_ip', 'src_port', 'dst_port', 'protocol', 'timestamp', 'flow_duration', 'flow_byts_s', 'flow_pkts_s', 'fwd_pkts_s', 'bwd_pkts_s', 'tot_fwd_pkts', 'tot_bwd_pkts', 'totlen_fwd_pkts', 'totlen_bwd_pkts', 'fwd_pkt_len_max', 'fwd_pkt_len_min', 'fwd_pkt_len_mean', 'fwd_pkt_len_std', 'bwd_pkt_len_max', 'bwd_pkt_len_min', 'bwd_pkt_len_mean', 'bwd_pkt_len_std', 'pkt_len_max', 'pkt_len_min', 'pkt_len_mean', 'pkt_len_std', 'pkt_len_var', 'fwd_header_len', 'bwd_header_len', 'fwd_seg_size_min', 'fwd_act_data_pkts', 'flow_iat_mean', 'flow_iat_max', 'flow_iat_min', 'flow_iat_std', 'fwd_iat_tot', 'fwd_iat_max', 'fwd_iat_min', 'fwd_iat_mean', 'fwd_iat_std', 'bwd_iat_tot', 'bwd_iat_max', 'bwd_iat_min', 'bwd_iat_mean', 'bwd_iat_std', 'fwd_psh_flags', 'bwd_psh_flags', 'fwd_urg_flags', 'bwd_urg_flags', 'fin_flag_cnt', 'syn_flag_cnt', 'rst_flag_cnt', 'psh_flag_cnt', 'ack_flag_cnt', 'urg_flag_cnt', 'ece_flag_cnt', 'down_up_ratio', 'pkt_size_avg', 'init_fwd_win_byts', 'init_bwd_win_byts', 'active_max', 'active_min', 'active_mean', 'active_std', 'idle_max', 'idle_min', 'idle_mean', 'idle_std', 'fwd_byts_b_avg', 'fwd_pkts_b_avg', 'bwd_byts_b_avg', 'bwd_pkts_b_avg', 'fwd_blk_rate_avg', 'bwd_blk_rate_avg', 'fwd_seg_size_avg', 'bwd_seg_size_avg', 'cwe_flag_count', 'subflow_fwd_pkts', 'subflow_bwd_pkts', 'subflow_fwd_byts', 'subflow_bwd_byts', 'flow_ID']\n"
     ]
    }
   ],
   "source": [
    "print([x for x in full_data.columns.values if x not in temp.columns.values] )\n",
    "print([x for x in temp.columns.values if x not in full_data.columns.values] ) #[x for x in teste if x not in temp.columns]"
   ]
  },
  {
   "cell_type": "markdown",
   "id": "01fefdd5-2430-482d-b00a-1c84c647dbd3",
   "metadata": {},
   "source": [
    "### test feature names sorting method"
   ]
  },
  {
   "cell_type": "code",
   "execution_count": 18,
   "id": "7864c1e3-25e3-4d47-8f0b-f13ab9e89c16",
   "metadata": {},
   "outputs": [],
   "source": [
    "test = full_data.columns\n",
    "test = test.to_series().apply(lambda x: x.strip().replace(\" \",\"_\").replace(\"/\", \"_\").casefold())"
   ]
  },
  {
   "cell_type": "markdown",
   "id": "14f95d8d-a906-411a-bc6c-b8281deb837e",
   "metadata": {},
   "source": [
    "### see if it solved"
   ]
  },
  {
   "cell_type": "code",
   "execution_count": 19,
   "id": "a9f2b5a2-8bd0-4f41-b0d1-a513fd28511c",
   "metadata": {},
   "outputs": [
    {
     "name": "stdout",
     "output_type": "stream",
     "text": [
      "['flow_id', 'label', 'attack']\n",
      "['flow_ID', 'Label']\n"
     ]
    }
   ],
   "source": [
    "print([x for x in test.values if x not in temp.columns.values] )\n",
    "print([x for x in temp.columns.values if x not in test.values] ) #[x for x in teste if x not in temp.columns]"
   ]
  },
  {
   "cell_type": "markdown",
   "id": "decd8d40-6daa-477b-85d2-1c983fac299e",
   "metadata": {},
   "source": [
    "# Other stuff"
   ]
  },
  {
   "cell_type": "code",
   "execution_count": 4,
   "id": "3788580f-09bd-4ffc-a390-69289e402e32",
   "metadata": {
    "tags": []
   },
   "outputs": [
    {
     "data": {
      "text/plain": [
       "src_ip               object\n",
       "dst_ip               object\n",
       "src_port              int64\n",
       "dst_port              int64\n",
       "protocol              int64\n",
       "timestamp            object\n",
       "tot_fwd_pkts          int64\n",
       "tot_bwd_pkts          int64\n",
       "totlen_fwd_pkts       int64\n",
       "totlen_bwd_pkts       int64\n",
       "pkt_len_max           int64\n",
       "pkt_len_min           int64\n",
       "fwd_header_len        int64\n",
       "bwd_header_len        int64\n",
       "fwd_seg_size_min      int64\n",
       "fwd_act_data_pkts     int64\n",
       "fwd_psh_flags         int64\n",
       "bwd_psh_flags         int64\n",
       "fwd_urg_flags         int64\n",
       "bwd_urg_flags         int64\n",
       "fin_flag_cnt          int64\n",
       "syn_flag_cnt          int64\n",
       "rst_flag_cnt          int64\n",
       "psh_flag_cnt          int64\n",
       "ack_flag_cnt          int64\n",
       "urg_flag_cnt          int64\n",
       "ece_flag_cnt          int64\n",
       "init_fwd_win_byts     int64\n",
       "init_bwd_win_byts     int64\n",
       "cwe_flag_count        int64\n",
       "subflow_fwd_pkts      int64\n",
       "subflow_bwd_pkts      int64\n",
       "subflow_fwd_byts      int64\n",
       "subflow_bwd_byts      int64\n",
       "flow_ID              object\n",
       "Label                object\n",
       "dtype: object"
      ]
     },
     "execution_count": 4,
     "metadata": {},
     "output_type": "execute_result"
    }
   ],
   "source": [
    "temp.dtypes[temp.dtypes != float]"
   ]
  },
  {
   "cell_type": "code",
   "execution_count": 34,
   "id": "39be1915-542e-4868-855c-d4a4a01b4305",
   "metadata": {},
   "outputs": [
    {
     "data": {
      "text/plain": [
       "flow_byts_s    inf\n",
       "flow_pkts_s    inf\n",
       "Name: 65, dtype: float64"
      ]
     },
     "execution_count": 34,
     "metadata": {},
     "output_type": "execute_result"
    }
   ],
   "source": [
    "temp.select_dtypes(exclude=['object'])[np.isinf(temp.select_dtypes(exclude=['object'])).any(axis=1)].iloc[0].nlargest(2)"
   ]
  },
  {
   "cell_type": "code",
   "execution_count": 39,
   "id": "78130dc8-b3bc-4c71-8bb9-048521ecd5a2",
   "metadata": {},
   "outputs": [
    {
     "data": {
      "text/plain": [
       "Index(['flow_byts_s', 'flow_pkts_s'], dtype='object')"
      ]
     },
     "execution_count": 39,
     "metadata": {},
     "output_type": "execute_result"
    }
   ],
   "source": [
    "temp.columns[(temp == np.inf).any()]"
   ]
  },
  {
   "cell_type": "code",
   "execution_count": 44,
   "id": "44a588dc-7aa0-4ba4-b5b9-83057d735bd5",
   "metadata": {},
   "outputs": [
    {
     "data": {
      "text/plain": [
       "2867"
      ]
     },
     "execution_count": 44,
     "metadata": {},
     "output_type": "execute_result"
    }
   ],
   "source": [
    "len(temp[(temp == np.inf).any(axis=1)].index)"
   ]
  },
  {
   "cell_type": "markdown",
   "id": "ba5d6db9-deb2-415b-a130-954ea29a6958",
   "metadata": {},
   "source": [
    "# Issues with data sets"
   ]
  },
  {
   "cell_type": "code",
   "execution_count": 1,
   "id": "387bdc84-533f-4231-9671-4505cae2aabf",
   "metadata": {},
   "outputs": [],
   "source": [
    "import pandas as pd\n",
    "import numpy as np\n",
    "import os"
   ]
  },
  {
   "cell_type": "markdown",
   "id": "9700c7bb-f351-4260-a528-e4f9c4623a72",
   "metadata": {},
   "source": [
    "## 1 Attack: Why are there bonafide flow in data set?\n",
    "### A: no show ips and extra ips on the data set"
   ]
  },
  {
   "cell_type": "code",
   "execution_count": 2,
   "id": "3314b997-4225-4bf6-ad68-ffcd1515db56",
   "metadata": {},
   "outputs": [],
   "source": [
    "temp = pd.read_csv(\"./csv/attack/cic.csv\", sep=',')\n",
    "temp2 = pd.read_csv(\"./csv/attack/argus.csv\", dtype={'Sport':'str', 'Dport':'str'}, sep=',')\n",
    "labels = pd.read_csv(\"./labels/attack_labels.csv\")"
   ]
  },
  {
   "cell_type": "code",
   "execution_count": 3,
   "id": "c898e3a9-993f-4e84-9bb7-725890ea5d4d",
   "metadata": {},
   "outputs": [
    {
     "data": {
      "text/plain": [
       "array([ 6, 17], dtype=int64)"
      ]
     },
     "execution_count": 3,
     "metadata": {},
     "output_type": "execute_result"
    }
   ],
   "source": []
  },
  {
   "cell_type": "code",
   "execution_count": 5,
   "id": "f7c32d05-c163-46a9-92ca-127f6855a2f4",
   "metadata": {},
   "outputs": [],
   "source": [
    "teste = temp['src_ip'].unique()\n",
    "teste2 = temp2['SrcAddr'].unique()"
   ]
  },
  {
   "cell_type": "code",
   "execution_count": 7,
   "id": "cd5809a2-d09d-4e9a-afd1-f86f80356be1",
   "metadata": {},
   "outputs": [
    {
     "name": "stdout",
     "output_type": "stream",
     "text": [
      "['00:00:00:00:00:00', '::', 'fe80::a00:27ff:fe55:da3f', '10.10.10.10', '10.10.10.254', '10.10.10.11']\n",
      "[]\n"
     ]
    }
   ],
   "source": [
    "print([x for x in teste2 if x not in teste] )\n",
    "print([x for x in teste if x not in teste2] ) "
   ]
  },
  {
   "cell_type": "code",
   "execution_count": 19,
   "id": "2cadc926-dab2-457b-8e0a-3c3695540c1b",
   "metadata": {
    "tags": []
   },
   "outputs": [],
   "source": [
    "temp3 = temp2.merge(labels, how='inner', left_on='SrcAddr', right_on='ip')"
   ]
  },
  {
   "cell_type": "markdown",
   "id": "97e7158a-9659-4df1-91c1-46c6a87bd890",
   "metadata": {},
   "source": [
    "No Show for ips : '172.16.0.23', '172.16.0.111', '172.16.0.126' of labels: 'zmap_tcp_syn', 'nmap_decoy', 'nmap_iflist'\n",
    "\n",
    "Extra ips: '10.0.2.15', '51.33.230.217', '12.252.70.19', '134.97.5.157', '115.140.101.209', '76.212.75.184', '194.107.180.47', '152.200.69.172', '97.78.169.192', '111.34.149.185', '25.131.239.150'"
   ]
  },
  {
   "cell_type": "code",
   "execution_count": 21,
   "id": "e53414f7-5909-454b-842e-257a9f3b0c64",
   "metadata": {},
   "outputs": [
    {
     "data": {
      "text/plain": [
       "['zmap_tcp_syn', 'nmap_decoy', 'nmap_iflist']"
      ]
     },
     "execution_count": 21,
     "metadata": {},
     "output_type": "execute_result"
    }
   ],
   "source": [
    "[x for x in labels['label'] if x not in temp3['label'].unique()]"
   ]
  },
  {
   "cell_type": "code",
   "execution_count": 25,
   "id": "454fa02b-5e6f-41a8-adf8-ae53af38cac3",
   "metadata": {
    "tags": []
   },
   "outputs": [
    {
     "data": {
      "text/html": [
       "<div>\n",
       "<style scoped>\n",
       "    .dataframe tbody tr th:only-of-type {\n",
       "        vertical-align: middle;\n",
       "    }\n",
       "\n",
       "    .dataframe tbody tr th {\n",
       "        vertical-align: top;\n",
       "    }\n",
       "\n",
       "    .dataframe thead th {\n",
       "        text-align: right;\n",
       "    }\n",
       "</style>\n",
       "<table border=\"1\" class=\"dataframe\">\n",
       "  <thead>\n",
       "    <tr style=\"text-align: right;\">\n",
       "      <th></th>\n",
       "      <th>ip</th>\n",
       "      <th>label</th>\n",
       "    </tr>\n",
       "  </thead>\n",
       "  <tbody>\n",
       "    <tr>\n",
       "      <th>48</th>\n",
       "      <td>172.16.0.126</td>\n",
       "      <td>nmap_iflist</td>\n",
       "    </tr>\n",
       "  </tbody>\n",
       "</table>\n",
       "</div>"
      ],
      "text/plain": [
       "              ip        label\n",
       "48  172.16.0.126  nmap_iflist"
      ]
     },
     "execution_count": 25,
     "metadata": {},
     "output_type": "execute_result"
    }
   ],
   "source": [
    "labels[labels['label'] == 'nmap_iflist']"
   ]
  },
  {
   "cell_type": "code",
   "execution_count": 26,
   "id": "f1e746d8-112e-4146-a5d8-60f0784a7849",
   "metadata": {
    "tags": []
   },
   "outputs": [
    {
     "name": "stdout",
     "output_type": "stream",
     "text": [
      "['172.16.0.23', '172.16.0.111', '172.16.0.126']\n",
      "['10.0.2.15', '10.10.10.13', '51.33.230.217', '12.252.70.19', '134.97.5.157', '115.140.101.209', '76.212.75.184', '194.107.180.47', '152.200.69.172', '97.78.169.192', '111.34.149.185', '25.131.239.150', '10.10.10.129', '10.10.10.130', '10.10.10.131', '10.10.10.12']\n"
     ]
    }
   ],
   "source": [
    "print([x for x in labels['ip'].values if x not in temp['src_ip'].values] )\n",
    "print([x for x in temp['src_ip'].unique() if x not in labels['ip'].values] ) #[x for x in teste if x not in temp.columns]"
   ]
  },
  {
   "cell_type": "code",
   "execution_count": 132,
   "id": "2869d42f-1540-4d5b-8bec-3d054384dc74",
   "metadata": {},
   "outputs": [
    {
     "name": "stdout",
     "output_type": "stream",
     "text": [
      "ue\n"
     ]
    }
   ],
   "source": []
  },
  {
   "cell_type": "markdown",
   "id": "8294a8ab-b84e-4095-82df-96c0ba1b09e0",
   "metadata": {},
   "source": [
    "## 2 NB-15: Unkown protocols?? Why infinit values?\n",
    "A: Protocols with non standard names are not found by socket module and infinite values come from NaN.\n",
    "* Argus file has broken values"
   ]
  },
  {
   "cell_type": "code",
   "execution_count": 1,
   "id": "5c2145a2-ce45-4ef0-af20-e8aa5b919295",
   "metadata": {},
   "outputs": [],
   "source": [
    "import pandas as pd\n",
    "import numpy as np\n",
    "import os"
   ]
  },
  {
   "cell_type": "code",
   "execution_count": 2,
   "id": "16426d1e-d4ec-43a6-86de-52bf0f79cc6e",
   "metadata": {},
   "outputs": [],
   "source": [
    "def portsAsInt(x):\n",
    "    try:   #if is string\n",
    "        if x.isnumeric():\n",
    "            return int(x)    #if contains only decimals\n",
    "        else:\n",
    "            return int(x,16) #if contains hex number\n",
    "    except:\n",
    "        return np.NaN\n",
    "        \n",
    "def protoNum(proto):\n",
    "    trad = {\"tcp\":6, \"udp\":17, \"ipv4\":4, \"icmp\":1, \"igmp\":2, \"ggp\": 3, \"ip\": 0, \"egp\": 8, \"pup\": 12, \"hmp\": 20,\n",
    "            \"xns-idp\": 22, \"rdp\": 27, \"ipv6\": 41, \"ipv6-frag\": 44, \"ipv6-route\": 43, \"rvd\": 66, \"ipv6-opts\": 60, \"l2tp\": 1701}\n",
    "    if proto.isnumeric():\n",
    "            return int(proto)\n",
    "    if proto not in trad.keys():\n",
    "        return np.NaN\n",
    "    return trad[proto]\n",
    "        \n",
    "temp2 = pd.read_csv(\"./csv/12/argus.csv\", usecols=['SrcAddr','DstAddr','Sport','Dport','Proto'],\n",
    "                    dtype={'SrcAddr':'string','DstAddr':'string'}, encoding='utf-8',\n",
    "                    converters={'Proto':protoNum, 'Sport':portsAsInt ,'Dport':portsAsInt}, sep=',') \n",
    "temp2.drop(temp2[temp2.isna().any(axis=1)].index, axis = 0, inplace = True)\n",
    "temp2 = temp2.astype({'Sport':'int32','Dport':'int32','Proto':'int32'})\n",
    "temp2.rename(columns={'SrcAddr':'src_ip','DstAddr':'dst_ip','Sport':'src_port','Dport':'dst_port','Proto':'protocol'} ,inplace=True)\n",
    "\n",
    "temp = pd.read_csv(\"./csv/12/cic.csv\", encoding='utf-8', sep=',')\n",
    "temp = temp.astype({'flow_duration':'int32', 'flow_byts_s':'int32', 'flow_pkts_s':'int32', 'fwd_pkts_s':'int32', 'bwd_pkts_s':'int32',\n",
    "                          'fwd_pkt_len_max':'int32','fwd_pkt_len_min':'int32','bwd_pkt_len_max':'int32', 'bwd_pkt_len_min':'int32', \n",
    "                          'flow_iat_max':'int32', 'flow_iat_min':'int32', 'fwd_iat_tot':'int32', 'fwd_iat_max':'int32','fwd_iat_min':'int32',\n",
    "                          'bwd_iat_tot':'int32', 'bwd_iat_max':'int32', 'bwd_iat_min':'int32', 'active_max':'int32', 'active_min':'int32',\n",
    "                          'idle_max':'int32', 'idle_min':'int32', 'protocol':'int32','tot_fwd_pkts':'int32','tot_bwd_pkts':'int32', \n",
    "                          'totlen_fwd_pkts':'int32', 'totlen_bwd_pkts':'int32','pkt_len_max':'int32', 'pkt_len_min':'int32', \n",
    "                          'fwd_header_len':'int32','bwd_header_len':'int32','fwd_seg_size_min':'int32', 'fwd_act_data_pkts':'int32',\n",
    "                          'fwd_psh_flags':'int32', 'bwd_psh_flags':'int32','fwd_urg_flags':'int32','bwd_urg_flags':'int32', \n",
    "                          'fin_flag_cnt':'int32', 'syn_flag_cnt':'int32', 'rst_flag_cnt':'int32','psh_flag_cnt':'int32', \n",
    "                          'ack_flag_cnt':'int32','urg_flag_cnt':'int32', 'ece_flag_cnt':'int32','init_fwd_win_byts':'int32', \n",
    "                          'init_bwd_win_byts':'int32', 'cwe_flag_count':'int32','subflow_fwd_pkts':'int32','subflow_bwd_pkts':'int32', \n",
    "                          'subflow_fwd_byts':'int32', 'subflow_bwd_byts':'int32', 'src_port':'int32', 'dst_port':'int32', \n",
    "                          'fwd_pkt_len_mean':'float32','fwd_pkt_len_std':'float32', 'bwd_pkt_len_mean':'float32','bwd_pkt_len_std':'float32',\n",
    "                          'pkt_len_mean':'float32','pkt_len_std':'float32','pkt_len_var':'float32','flow_iat_mean':'float32', \n",
    "                          'flow_iat_std':'float32', 'fwd_iat_mean':'float32','fwd_iat_std':'float32','bwd_iat_mean':'float32', \n",
    "                          'bwd_iat_std':'float32', 'down_up_ratio':'float32', 'pkt_size_avg':'float32','active_mean':'float32',\n",
    "                          'active_std':'float32','idle_mean':'float32','idle_std':'float32', 'fwd_byts_b_avg':'float32',\n",
    "                          'fwd_pkts_b_avg':'float32','bwd_byts_b_avg':'float32','bwd_pkts_b_avg':'float32','fwd_blk_rate_avg':'float32',\n",
    "                          'bwd_blk_rate_avg':'float32', 'fwd_seg_size_avg':'float32','bwd_seg_size_avg':'float32','src_ip':'string',\n",
    "                          'dst_ip':'string', 'timestamp':'string'})\n",
    "\n",
    "labels = pd.read_csv(\"./labels/NUSW-NB15_GT.csv\", usecols=['Source IP','Destination IP','Source Port','Destination Port','Protocol','Attack category'],\n",
    "                     dtype={'Source IP':'string', 'Destination IP':'string', 'Attack category':'string'},\n",
    "                     converters={'Protocol':protoNum}, na_values=['', ' '], sep=',')\n",
    "labels.drop(labels[labels['Protocol'].isna()].index, inplace=True)\n",
    "labels = labels.astype({'Source Port':'int32', 'Destination Port':'int32', 'Protocol':'int32'})"
   ]
  },
  {
   "cell_type": "code",
   "execution_count": 20,
   "id": "21aac9f9-646d-4b11-a5d1-24254a2fdd2e",
   "metadata": {},
   "outputs": [],
   "source": [
    "#print(temp2[['src_ip', 'dst_ip', 'src_port', 'dst_port']].head(5), \"\\n\", temp[['src_ip', 'dst_ip', 'src_port', 'dst_port']].head(5))\n",
    "#(temp2.dtypes, \"\\n\", temp[['src_ip', 'dst_ip', 'src_port', 'dst_port']].dtypes)\n",
    "#[x for x in temp['src_ip'].values if x in temp2['src_ip'].values]"
   ]
  },
  {
   "cell_type": "code",
   "execution_count": 3,
   "id": "bca93eb1-1938-420c-b928-47f19c89c412",
   "metadata": {},
   "outputs": [
    {
     "name": "stdout",
     "output_type": "stream",
     "text": [
      "(41713, 5) (38388, 82)\n"
     ]
    },
    {
     "data": {
      "text/plain": [
       "(38382, 82)"
      ]
     },
     "execution_count": 3,
     "metadata": {},
     "output_type": "execute_result"
    }
   ],
   "source": [
    "#fdp = pd.read_csv(\"./dataset/NB15_12_CIC.csv\", sep=',')\n",
    "print(temp2.shape, temp.shape)\n",
    "temp.drop(['protocol'], axis = 1, inplace = True)\n",
    "temp3 = pd.merge(temp, temp2, how='left', on=['src_ip', 'dst_ip', 'src_port', 'dst_port'])\n",
    "temp3.drop(temp3[temp3[['src_ip', 'dst_ip', 'src_port', 'dst_port', 'protocol']].isna().any(axis=1)].index, axis = 0, inplace = True)\n",
    "temp3.drop_duplicates(inplace=True)\n",
    "temp3.shape"
   ]
  },
  {
   "cell_type": "code",
   "execution_count": 10,
   "id": "8dc4a423-1365-4bee-a704-12c8b166a4fc",
   "metadata": {},
   "outputs": [
    {
     "data": {
      "text/plain": [
       "src_ip              string\n",
       "dst_ip              string\n",
       "src_port             int32\n",
       "dst_port             int32\n",
       "timestamp           string\n",
       "                     ...  \n",
       "subflow_fwd_pkts     int32\n",
       "subflow_bwd_pkts     int32\n",
       "subflow_fwd_byts     int32\n",
       "subflow_bwd_byts     int32\n",
       "protocol             int32\n",
       "Length: 82, dtype: object"
      ]
     },
     "execution_count": 10,
     "metadata": {},
     "output_type": "execute_result"
    }
   ],
   "source": [
    "temp3.reset_index()\n",
    "temp3 = temp3.astype({'protocol':'int32'})\n",
    "temp3.dtypes"
   ]
  },
  {
   "cell_type": "code",
   "execution_count": null,
   "id": "5c7ded36-5680-45dd-b9fc-1fd32a7b19ca",
   "metadata": {},
   "outputs": [
    {
     "name": "stdout",
     "output_type": "stream",
     "text": [
      "['59.166.0.4' 60625 '149.171.126.6' 22 6]\n",
      "['175.45.176.0' 35851 '149.171.126.19' 111 6]\n",
      "['59.166.0.5' 3956 '149.171.126.9' 22 6]\n",
      "['175.45.176.1' 24346 '149.171.126.15' 80 6]\n",
      "['59.166.0.3' 10731 '149.171.126.9' 80 6]\n",
      "['175.45.176.0' 7346 '149.171.126.15' 80 6]\n",
      "['59.166.0.4' 60625 '149.171.126.6' 22 6]\n",
      "['59.166.0.3' 10731 '149.171.126.9' 80 6]\n",
      "['10.40.85.10' 8 '192.168.241.50' 52233 1]\n",
      "['175.45.176.2' 8 '149.171.126.13' 61374 1]\n",
      "['10.40.85.10' 8 '192.168.241.50' 52233 1]\n",
      "['149.171.126.17' 53 '175.45.176.3' 7945 17]\n",
      "['149.171.126.17' 53 '175.45.176.3' 7945 17]\n"
     ]
    }
   ],
   "source": [
    "#[x for x in \n",
    "#teste2.dtypes[\n",
    "for i in range(temp2.shape[0]):\n",
    "    y = temp2.iloc[i].values\n",
    "    z = [x for x in temp[['src_ip','src_port','dst_ip','dst_port']].values if x[0]==y[0] and x[1]==y[1] and x[2]==y[2] and x[3]==y[3]]\n",
    "    if z == []:\n",
    "        print(y)\n",
    "        \n",
    "#['Proto']#.dtypes #and teste2.dtypes.values != 'int32'#.any()#].keys()\n",
    "#if x in ['flow_duration', 'flow_byts_s', 'flow_pkts_s', 'fwd_pkts_s', 'bwd_pkts_s', \n",
    "\n",
    "    #'fwd_pkt_len_max', 'fwd_pkt_len_min', 'bwd_pkt_len_max', 'bwd_pkt_len_min',\n",
    "                              #'flow_iat_max', 'flow_iat_min', 'fwd_iat_tot', 'fwd_iat_max', 'fwd_iat_min',\n",
    "                              #'bwd_iat_tot', 'bwd_iat_max', 'bwd_iat_min', 'active_max', 'active_min', \n",
    "                              #'idle_max', 'idle_min', 'protocol'] ]"
   ]
  },
  {
   "cell_type": "code",
   "execution_count": 10,
   "id": "35248074-7222-47a8-984c-19c62ab703e6",
   "metadata": {},
   "outputs": [
    {
     "name": "stdout",
     "output_type": "stream",
     "text": [
      "<StringArray>\n",
      "[    '59.166.0.5',     '59.166.0.1',     '59.166.0.4',   '175.45.176.0',\n",
      "   '175.45.176.1',     '59.166.0.7',   '175.45.176.3',     '59.166.0.3',\n",
      "     '59.166.0.9',   '175.45.176.2', '149.171.126.12',     '59.166.0.2',\n",
      " '149.171.126.18',     '59.166.0.8',     '59.166.0.6',     '59.166.0.0',\n",
      "    '10.40.85.10', '149.171.126.17',    '10.40.182.6',     '10.40.85.1',\n",
      " '149.171.126.14']\n",
      "Length: 21, dtype: string\n"
     ]
    },
    {
     "data": {
      "text/plain": [
       "<StringArray>\n",
       "[    '59.166.0.5',     '59.166.0.1', '149.171.126.19',     '59.166.0.7',\n",
       "     '59.166.0.9', '149.171.126.15',     '59.166.0.2',     '59.166.0.8',\n",
       "     '59.166.0.6',     '59.166.0.4',     '59.166.0.3',     '59.166.0.0',\n",
       "  '149.171.126.9',   '175.45.176.1',   '175.45.176.2',   '175.45.176.3',\n",
       "   '175.45.176.0',  '149.171.126.6',    '10.40.85.10', '149.171.126.12',\n",
       " '149.171.126.18',    '10.40.182.6', '149.171.126.17']\n",
       "Length: 23, dtype: string"
      ]
     },
     "execution_count": 10,
     "metadata": {},
     "output_type": "execute_result"
    }
   ],
   "source": [
    "#temp2[(temp2[['src_ip','src_port','dst_ip','dst_port']] == temp.iloc[7][['src_ip','src_port','dst_ip','dst_port']].values).all(axis=1)]\n",
    "print(temp2['src_ip'].unique())\n",
    "temp['src_ip'].unique()"
   ]
  },
  {
   "cell_type": "code",
   "execution_count": 12,
   "id": "40292f2f-6936-440d-8d3d-11a81cad556a",
   "metadata": {},
   "outputs": [
    {
     "data": {
      "text/plain": [
       "[array(['175.45.176.0', 7346, '149.171.126.15', 80, 6], dtype=object)]"
      ]
     },
     "execution_count": 12,
     "metadata": {},
     "output_type": "execute_result"
    }
   ],
   "source": [
    "[x for x in temp2.values if x[0]=='175.45.176.0' and x[1]==7346 and x[2]=='149.171.126.15' and x[3]==80]"
   ]
  },
  {
   "cell_type": "code",
   "execution_count": 13,
   "id": "08f0e969-3050-49e4-9b3e-d815d702663d",
   "metadata": {},
   "outputs": [
    {
     "data": {
      "text/plain": [
       "[]"
      ]
     },
     "execution_count": 13,
     "metadata": {},
     "output_type": "execute_result"
    }
   ],
   "source": [
    "[x for x in temp3.values if x[0]=='175.45.176.0' and x[2]==7346 and x[1]=='149.171.126.15' and x[3]==80]"
   ]
  },
  {
   "cell_type": "code",
   "execution_count": 9,
   "id": "2384df28-af66-4c93-85b8-28b51dd1c526",
   "metadata": {},
   "outputs": [
    {
     "data": {
      "text/plain": [
       "array([['59.166.0.5', 14760, '149.171.126.5', 40339],\n",
       "       ['59.166.0.1', 8648, '149.171.126.8', 143],\n",
       "       ['59.166.0.7', 14913, '149.171.126.5', 5190],\n",
       "       ...,\n",
       "       ['59.166.0.6', 52911, '149.171.126.4', 5190],\n",
       "       ['59.166.0.1', 46469, '149.171.126.0', 53],\n",
       "       ['59.166.0.1', 50103, '149.171.126.7', 25]], dtype=object)"
      ]
     },
     "execution_count": 9,
     "metadata": {},
     "output_type": "execute_result"
    }
   ],
   "source": [
    "temp3[['src_ip','src_port','dst_ip','dst_port']].values"
   ]
  },
  {
   "cell_type": "markdown",
   "id": "2203e47d-649a-45f7-a629-1366942a2dcd",
   "metadata": {},
   "source": [
    "### Testing changes to cic.csv types"
   ]
  },
  {
   "cell_type": "code",
   "execution_count": 85,
   "id": "fb285f84-e8e9-4acd-8d4a-a0bdd50e0eb9",
   "metadata": {},
   "outputs": [],
   "source": [
    "teste = temp.astype({'flow_duration':'int32', 'flow_byts_s':'int32', 'flow_pkts_s':'int32', 'fwd_pkts_s':'int32', 'bwd_pkts_s':'int32', \n",
    "                     'fwd_pkt_len_max':'int32', 'fwd_pkt_len_min':'int32', 'bwd_pkt_len_max':'int32', 'bwd_pkt_len_min':'int32',\n",
    "                     'flow_iat_max':'int32', 'flow_iat_min':'int32', 'fwd_iat_tot':'int32', 'fwd_iat_max':'int32', 'fwd_iat_min':'int32',\n",
    "                     'bwd_iat_tot':'int32', 'bwd_iat_max':'int32', 'bwd_iat_min':'int32', 'active_max':'int32', 'active_min':'int32', \n",
    "                     'idle_max':'int32', 'idle_min':'int32', 'protocol':'int32', 'tot_fwd_pkts':'int32','tot_bwd_pkts':'int32',\n",
    "                     'totlen_fwd_pkts':'int32','totlen_bwd_pkts':'int32','pkt_len_max':'int32', 'pkt_len_min':'int32','fwd_header_len':'int32',\n",
    "                     'bwd_header_len':'int32','fwd_seg_size_min':'int32', 'fwd_act_data_pkts':'int32','fwd_psh_flags':'int32', 'bwd_psh_flags':'int32',\n",
    "                     'fwd_urg_flags':'int32','bwd_urg_flags':'int32', 'fin_flag_cnt':'int32', 'syn_flag_cnt':'int32', 'rst_flag_cnt':'int32',\n",
    "                     'psh_flag_cnt':'int32', 'ack_flag_cnt':'int32', 'urg_flag_cnt':'int32', 'ece_flag_cnt':'int32','init_fwd_win_byts':'int32',\n",
    "                     'init_bwd_win_byts':'int32','cwe_flag_count':'int32','subflow_fwd_pkts':'int32', 'subflow_bwd_pkts':'int32',\n",
    "                     'subflow_fwd_byts':'int32','subflow_bwd_byts':'int32','src_port':'int32','dst_port':'int32', #end of int32, start of float32\n",
    "                     'fwd_pkt_len_mean':'float32', 'fwd_pkt_len_std':'float32', 'bwd_pkt_len_mean':'float32','bwd_pkt_len_std':'float32',\n",
    "                       'pkt_len_mean':'float32','pkt_len_std':'float32','pkt_len_var':'float32','flow_iat_mean':'float32','flow_iat_std':'float32',\n",
    "                       'fwd_iat_mean':'float32','fwd_iat_std':'float32','bwd_iat_mean':'float32','bwd_iat_std':'float32','down_up_ratio':'float32',\n",
    "                       'pkt_size_avg':'float32','active_mean':'float32','active_std':'float32','idle_mean':'float32','idle_std':'float32',\n",
    "                       'fwd_byts_b_avg':'float32','fwd_pkts_b_avg':'float32', 'bwd_byts_b_avg':'float32', 'bwd_pkts_b_avg':'float32',\n",
    "                       'fwd_blk_rate_avg':'float32', 'bwd_blk_rate_avg':'float32', 'fwd_seg_size_avg':'float32','bwd_seg_size_avg':'float32',\n",
    "                      'src_ip':'string', 'dst_ip':'string', 'timestamp':'string'})"
   ]
  },
  {
   "cell_type": "markdown",
   "id": "3f726e12-cde9-416a-aeb4-0079f8f87768",
   "metadata": {},
   "source": [
    "### Did something go to infinity"
   ]
  },
  {
   "cell_type": "code",
   "execution_count": 143,
   "id": "5aab989b-1544-490a-97e2-cb3265b59406",
   "metadata": {},
   "outputs": [
    {
     "name": "stdout",
     "output_type": "stream",
     "text": [
      "no\n"
     ]
    }
   ],
   "source": [
    "if len(temp2[(temp2 == np.inf).any(axis=1)].index):\n",
    "    print(\"yes\")\n",
    "else:\n",
    "    print(\"no\")"
   ]
  },
  {
   "cell_type": "markdown",
   "id": "aa4c1a20-2228-4874-9f06-a9d439cc601f",
   "metadata": {},
   "source": [
    "### Did something broke"
   ]
  },
  {
   "cell_type": "code",
   "execution_count": 144,
   "id": "ecbf5f0c-bb6d-4f7e-ae7f-156846c4ef6c",
   "metadata": {},
   "outputs": [
    {
     "name": "stdout",
     "output_type": "stream",
     "text": [
      "no\n"
     ]
    }
   ],
   "source": [
    "if temp2.isna().any(axis=1).any():\n",
    "    print(\"yes\")\n",
    "else:\n",
    "    print(\"no\")\n",
    "#temp['protocol'].unique()"
   ]
  },
  {
   "cell_type": "code",
   "execution_count": 77,
   "id": "d964c815-13a3-42fb-ab74-e0e4c18913d8",
   "metadata": {},
   "outputs": [
    {
     "name": "stdout",
     "output_type": "stream",
     "text": [
      "l2tp 1701\n"
     ]
    }
   ],
   "source": [
    "import socket\n",
    "\n",
    "for x in labels['Protocol'].unique():\n",
    "    try:\n",
    "        print(x, socket.getservbyname(x))\n",
    "    except:\n",
    "        pass"
   ]
  },
  {
   "cell_type": "code",
   "execution_count": 19,
   "id": "672b35cd-b090-44e7-8291-05d86b270620",
   "metadata": {
    "tags": []
   },
   "outputs": [
    {
     "name": "stdout",
     "output_type": "stream",
     "text": [
      "\"tcp\": '6', \"udp\": '17', \"ggp\": '3', \"ip\": '0', \"egp\": '8', \"pup\": '12', \"hmp\": '20', \"xns-idp\": '22', \"rdp\": '27', \"ipv6\": '41', \"ipv6-frag\": '44', \"ipv6-route\": '43', \"rvd\": '66', \"ipv6-opts\": '60'\n",
      "\n",
      "Bad Protocols: ospf, sctp, sep, mobile, sun-nd, swipe, pim, ipnip, st2, cbt, argus, bbn-rcc, chaos, emcon, igp, nvp, xnet, mux, dcn, prm, trunk-1, trunk-2, leaf-1, leaf-2, irtp, iso-tp4, netblt, merit-inp, mfe-nsp, 3pc, idpr, xtp, ddp, idpr-cmtp, tp++, il, idrp, sdrp, gre, mhrp, rsvp, bna, i-nlsp, narp, ipv6-no, skip, tlsp, any, cftp, kryptolan, sat-expak, ippc, sat-mon, cpnx, ipcv, visa, cphb, wsn, br-sat-mon, pvp, wb-expak, wb-mon, iso-ip, secure-vmtp, vmtp, ttp, vines, nsfnet-igp, dgp, eigrp, tcf, sprite-rpc, larp, mtp, ax.25, ipip, micp, aes-sp3-d, encap, etherip, gmtp, pri-enc, ifmp, pnni, aris, a/n, qnx, scps, compaq-peer, ipcomp, snp, ipx-n-ip, vrrp, pgm, zero, ddx, iatp, l2tp, srp, stp, smp, uti, sm, ptp, crtp, fire, isis, crudp, sccopmce, iplt, pipe, sps, fc, unas, ib\n"
     ]
    }
   ],
   "source": [
    "import socket\n",
    "msg = \"\"\n",
    "badProto = \"\"\n",
    "for label in labels['Protocol'].unique():\n",
    "    try:\n",
    "        msg = msg + \"\\\"{0}\\\": \\'{1}\\', \".format(label, socket.getprotobyname(label))\n",
    "    except Exception as e:\n",
    "        badProto = badProto + label + \", \"\n",
    "        #print(\"Error: {0}\\nProtocol: {1}\".format(e,label))\n",
    "print(msg[0:-2])\n",
    "print(\"\\nBad Protocols: \"+badProto[0:-2])"
   ]
  },
  {
   "cell_type": "markdown",
   "id": "afe80589-37fc-4f16-b18e-fbc08d7209c9",
   "metadata": {},
   "source": [
    "## Solution [INCOMPLETE]:\n",
    "socket.getservbyname and socket.getprotobyname do not find many protocol numbers"
   ]
  },
  {
   "cell_type": "code",
   "execution_count": 36,
   "id": "98c8cfba-4d54-462f-a073-a76aa13b23a3",
   "metadata": {},
   "outputs": [
    {
     "name": "stdout",
     "output_type": "stream",
     "text": [
      "['6', '17', '3', '0', '8', '12', '20', '22', '27', '41', '44', '43', '66', '60'] ['ospf', 'sctp', 'sep', 'mobile', 'sun-nd', 'swipe', 'pim', 'ipnip', 'st2', 'cbt', 'argus', 'bbn-rcc', 'chaos', 'emcon', 'igp', 'nvp', 'xnet', 'mux', 'dcn', 'prm', 'trunk-1', 'trunk-2', 'leaf-1', 'leaf-2', 'irtp', 'iso-tp4', 'netblt', 'merit-inp', 'mfe-nsp', '3pc', 'idpr', 'xtp', 'ddp', 'idpr-cmtp', 'tp++', 'il', 'idrp', 'sdrp', 'gre', 'mhrp', 'rsvp', 'bna', 'i-nlsp', 'narp', 'ipv6-no', 'skip', 'tlsp', 'any', 'cftp', 'kryptolan', 'sat-expak', 'ippc', 'sat-mon', 'cpnx', 'ipcv', 'visa', 'cphb', 'wsn', 'br-sat-mon', 'pvp', 'wb-expak', 'wb-mon', 'iso-ip', 'secure-vmtp', 'vmtp', 'ttp', 'vines', 'nsfnet-igp', 'dgp', 'eigrp', 'tcf', 'sprite-rpc', 'larp', 'mtp', 'ax.25', 'ipip', 'micp', 'aes-sp3-d', 'encap', 'etherip', 'gmtp', 'pri-enc', 'ifmp', 'pnni', 'aris', 'a/n', 'qnx', 'scps', 'compaq-peer', 'ipcomp', 'snp', 'ipx-n-ip', 'vrrp', 'pgm', 'zero', 'ddx', 'iatp', 'l2tp', 'srp', 'stp', 'smp', 'uti', 'sm', 'ptp', 'crtp', 'fire', 'isis', 'crudp', 'sccopmce', 'iplt', 'pipe', 'sps', 'fc', 'unas', 'ib']\n"
     ]
    }
   ],
   "source": [
    "trad = {\"tcp\":'6', \"udp\":'17', \"ipv4\":'4', \"icmp\":'1', \"igmp\":'2', \"ggp\": '3', \"ip\": '0', \n",
    "        \"egp\": '8', \"pup\": '12', \"hmp\": '20', \"xns-idp\": '22', \"rdp\": '27', \"ipv6\": '41', \n",
    "        \"ipv6-frag\": '44', \"ipv6-route\": '43', \"rvd\": '66', \"ipv6-opts\": '60', \"12tb\":'1701'}\n",
    "valid = []\n",
    "invalid = []\n",
    "for x in labels['Protocol'].unique():\n",
    "    if x in trad.keys():\n",
    "        valid.append(trad[x])\n",
    "    else:\n",
    "        invalid.append(x)\n",
    "print(valid, invalid)"
   ]
  },
  {
   "cell_type": "code",
   "execution_count": 27,
   "id": "7f50cc3c-a16b-447a-9c6d-096de006b0a0",
   "metadata": {},
   "outputs": [],
   "source": [
    "teste = temp2.drop(temp2[temp2.isna().any(axis=1)].index)"
   ]
  },
  {
   "cell_type": "code",
   "execution_count": 24,
   "id": "9970158c-4972-4bbb-9f4b-26488df49ef1",
   "metadata": {},
   "outputs": [
    {
     "data": {
      "text/plain": [
       "['59.166.0.5',\n",
       " '59.166.0.1',\n",
       " '149.171.126.19',\n",
       " '59.166.0.7',\n",
       " '59.166.0.9',\n",
       " '149.171.126.15',\n",
       " '59.166.0.2',\n",
       " '59.166.0.8',\n",
       " '59.166.0.6',\n",
       " '59.166.0.4',\n",
       " '59.166.0.3',\n",
       " '59.166.0.0',\n",
       " '149.171.126.9',\n",
       " '175.45.176.1',\n",
       " '175.45.176.2',\n",
       " '175.45.176.3',\n",
       " '175.45.176.0',\n",
       " '149.171.126.6',\n",
       " '10.40.85.10',\n",
       " '149.171.126.12',\n",
       " '149.171.126.18',\n",
       " '10.40.182.6',\n",
       " '149.171.126.17']"
      ]
     },
     "execution_count": 24,
     "metadata": {},
     "output_type": "execute_result"
    }
   ],
   "source": [
    "[x for x in temp['src_ip'].unique() if x not in teste['SrcAddr']]#temp2['SrcAddr'].unique()]"
   ]
  },
  {
   "cell_type": "markdown",
   "id": "990cf0b4-a756-434d-984e-a5a78505f758",
   "metadata": {},
   "source": [
    "## ALL: Match data types !!"
   ]
  },
  {
   "cell_type": "code",
   "execution_count": 1,
   "id": "6c0770cf-d7f7-4bf1-a5d0-b8d1793cdeee",
   "metadata": {},
   "outputs": [],
   "source": [
    "import pandas as pd\n",
    "import numpy as np\n",
    "import os\n",
    "import supportFiles.myFunc as myFunc"
   ]
  },
  {
   "cell_type": "code",
   "execution_count": 2,
   "id": "e3f1edb4-72de-4051-ad4f-28e5ecc2b4c9",
   "metadata": {},
   "outputs": [],
   "source": [
    "temp = pd.read_csv(\"./dataset/Thursday-WorkingHours_CIC.csv\", #usecols=['SrcAddr','DstAddr','Sport','Dport','Proto'],\n",
    "                    dtype={'Flow ID':'string', ' Source IP':'string', ' Destination IP':'string', ' Timestamp':'string',\n",
    "                           ' Label':'string'}, encoding='utf-8', sep=',')"
   ]
  },
  {
   "cell_type": "code",
   "execution_count": 3,
   "id": "37031a61-07c0-4efe-b892-6162eb861e51",
   "metadata": {},
   "outputs": [],
   "source": [
    "#temp.dtypes[temp.dtypes == object].keys()\n",
    "temp.columns = myFunc.sickCICFeatureName(temp.columns)\n",
    "temp.drop(temp[temp.isna().any(axis=1)].index, inplace=True) #[['src_ip', 'src_port', 'dst_ip', 'dst_port', 'protocol']]\n",
    "temp.drop(['fwd_header_len.1'], axis = 1, inplace = True)\n",
    "temp.drop(temp[(temp == np.inf).any(axis=1)].index, inplace=True)\n",
    "#temp.fillna({temp.columns[temp.isna().any()][0]:0}, inplace=True)\n",
    "temp = temp.astype(myFunc.FEATURE_TYPES)"
   ]
  },
  {
   "cell_type": "code",
   "execution_count": 42,
   "id": "a655f0c0-0d65-4f7d-9b41-e7d49ac346b2",
   "metadata": {},
   "outputs": [
    {
     "data": {
      "text/plain": [
       "'flow_ID; src_ip; src_port; dst_ip; dst_port; protocol; timestamp; flow_duration; tot_fwd_pkts; tot_bwd_pkts; totlen_fwd_pkts; totlen_bwd_pkts; fwd_pkt_len_max; fwd_pkt_len_min; fwd_pkt_len_mean; fwd_pkt_len_std; bwd_pkt_len_max; bwd_pkt_len_min; bwd_pkt_len_mean; bwd_pkt_len_std; flow_byts_s; flow_pkts_s; flow_iat_mean; flow_iat_std; flow_iat_max; flow_iat_min; fwd_iat_tot; fwd_iat_mean; fwd_iat_std; fwd_iat_max; fwd_iat_min; bwd_iat_tot; bwd_iat_mean; bwd_iat_std; bwd_iat_max; bwd_iat_min; fwd_psh_flags; bwd_psh_flags; fwd_urg_flags; bwd_urg_flags; fwd_header_len; bwd_header_len; fwd_pkts_s; bwd_pkts_s; pkt_len_min; pkt_len_max; pkt_len_mean; pkt_len_std; pkt_len_var; fin_flag_cnt; syn_flag_cnt; rst_flag_cnt; psh_flag_cnt; ack_flag_cnt; urg_flag_cnt; cwe_flag_count; ece_flag_cnt; down_up_ratio; pkt_size_avg; fwd_seg_size_avg; bwd_seg_size_avg; fwd_byts_b_avg; fwd_pkts_b_avg; fwd_blk_rate_avg; bwd_byts_b_avg; bwd_pkts_b_avg; bwd_blk_rate_avg; subflow_fwd_pkts; subflow_fwd_byts; subflow_bwd_pkts; subflow_bwd_byts; init_fwd_win_byts_win_byts; init_bwd_win_byts_win_byts; fwd_act_data_pktsss; fwd_min_seg_size; active_mean; active_std; active_max; active_min; idle_mean; idle_std; idle_max; idle_min; Label'"
      ]
     },
     "execution_count": 42,
     "metadata": {},
     "output_type": "execute_result"
    }
   ],
   "source": [
    "\"; \".join(myFunc.sickCICFeatureName(temp.columns))"
   ]
  },
  {
   "cell_type": "code",
   "execution_count": 5,
   "id": "a05fb25c-dbfd-4993-8173-c2d272c29627",
   "metadata": {},
   "outputs": [
    {
     "data": {
      "text/plain": [
       "[]"
      ]
     },
     "execution_count": 5,
     "metadata": {},
     "output_type": "execute_result"
    }
   ],
   "source": [
    "[x for x in myFunc.FEATURE_TYPES.keys() if x not in temp.columns.values]"
   ]
  },
  {
   "cell_type": "code",
   "execution_count": 6,
   "id": "7f769858-60eb-4e47-b4d4-5917f8d40953",
   "metadata": {},
   "outputs": [
    {
     "data": {
      "text/plain": [
       "[]"
      ]
     },
     "execution_count": 6,
     "metadata": {},
     "output_type": "execute_result"
    }
   ],
   "source": [
    "[x for x in temp.columns.values if x not in myFunc.FEATURE_TYPES.keys()]"
   ]
  },
  {
   "cell_type": "code",
   "execution_count": 9,
   "id": "80f56a8b-9cec-41b9-9d8b-fc5c39eba560",
   "metadata": {},
   "outputs": [
    {
     "data": {
      "text/plain": [
       "flow_ID       string\n",
       "src_ip        string\n",
       "src_port       int32\n",
       "dst_ip        string\n",
       "dst_port       int32\n",
       "              ...   \n",
       "idle_mean    float32\n",
       "idle_std     float32\n",
       "idle_max       int32\n",
       "idle_min       int32\n",
       "Label         string\n",
       "Length: 84, dtype: object"
      ]
     },
     "execution_count": 9,
     "metadata": {},
     "output_type": "execute_result"
    }
   ],
   "source": [
    "temp.dtypes"
   ]
  },
  {
   "cell_type": "code",
   "execution_count": 7,
   "id": "88375141-0c29-44c7-aca4-6ec9cd945ace",
   "metadata": {},
   "outputs": [
    {
     "name": "stdout",
     "output_type": "stream",
     "text": [
      "no\n"
     ]
    }
   ],
   "source": [
    "if len(temp[(temp == np.inf).any(axis=1)].index):\n",
    "    print(\"yes\")\n",
    "else:\n",
    "    print(\"no\")"
   ]
  },
  {
   "cell_type": "code",
   "execution_count": 8,
   "id": "64d31ae6-6283-4041-8a8e-b7daedc8aaab",
   "metadata": {},
   "outputs": [
    {
     "data": {
      "text/plain": [
       "Index([], dtype='object')"
      ]
     },
     "execution_count": 8,
     "metadata": {},
     "output_type": "execute_result"
    }
   ],
   "source": [
    "temp[(temp == np.inf).any(axis=1)]\n",
    "temp.columns[(temp == np.inf).any()]"
   ]
  },
  {
   "cell_type": "code",
   "execution_count": null,
   "id": "2ab7f7d3-73a1-44ba-ba6d-4aae386623c9",
   "metadata": {},
   "outputs": [],
   "source": []
  }
 ],
 "metadata": {
  "kernelspec": {
   "display_name": "Python 3",
   "language": "python",
   "name": "python3"
  },
  "language_info": {
   "codemirror_mode": {
    "name": "ipython",
    "version": 3
   },
   "file_extension": ".py",
   "mimetype": "text/x-python",
   "name": "python",
   "nbconvert_exporter": "python",
   "pygments_lexer": "ipython3",
   "version": "3.8.8"
  }
 },
 "nbformat": 4,
 "nbformat_minor": 5
}
