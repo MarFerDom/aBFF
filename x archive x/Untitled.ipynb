{
 "cells": [
  {
   "cell_type": "code",
   "execution_count": 9,
   "id": "8cfce963-9e3e-41d1-83d8-e15ded78841d",
   "metadata": {},
   "outputs": [
    {
     "name": "stdout",
     "output_type": "stream",
     "text": [
      "loading argus.csv..\n",
      "loading conn.log..\n",
      "loading http.log..\n",
      "loading ftp.log..\n",
      "all ports are properly parsed\n",
      "Unique protocol list : [ 6 17  1]\n",
      "           srcip  sport          dstip  dport  proto state       dur  sbytes  \\\n",
      "0  149.171.126.0  62073     59.166.0.5  56082      6   FIN  0.015718    9672   \n",
      "1  149.171.126.2  32284     59.166.0.5   1526      6   FIN  0.000707    1776   \n",
      "2     59.166.0.5  57349  149.171.126.1     53     17   CON  0.001037     146   \n",
      "3     59.166.0.3  41660  149.171.126.7     80      6   FIN  0.005697     690   \n",
      "\n",
      "   dbytes  sttl  ...  ct_ftp_cmd  ct_srv_src  ct_srv_dst ct_dst_ltm  \\\n",
      "0     416  29.0  ...           0           0           0          0   \n",
      "1     104  29.0  ...           0           0           1          1   \n",
      "2     178  31.0  ...           0           0           0          0   \n",
      "3    1272  31.0  ...           0           0           0          0   \n",
      "\n",
      "   ct_src_ltm  ct_src_dport_ltm  ct_dst_sport_ltm  ct_dst_src_ltm  attack_cat  \\\n",
      "0           0                 0                 0               0           -   \n",
      "1           0                 0                 0               0           -   \n",
      "2           0                 0                 0               0           -   \n",
      "3           0                 0                 0               0           -   \n",
      "\n",
      "   Label  \n",
      "0      0  \n",
      "1      0  \n",
      "2      0  \n",
      "3      0  \n",
      "\n",
      "[4 rows x 49 columns]\n",
      "(46330, 49)\n"
     ]
    }
   ],
   "source": [
    "%run NB15_dataset.py \"NB\" \"./CSVs/2/\""
   ]
  },
  {
   "cell_type": "code",
   "execution_count": null,
   "id": "19bd5fb7-7e69-45ba-925e-c44bd7c857be",
   "metadata": {},
   "outputs": [],
   "source": []
  }
 ],
 "metadata": {
  "kernelspec": {
   "display_name": "Python 3",
   "language": "python",
   "name": "python3"
  },
  "language_info": {
   "codemirror_mode": {
    "name": "ipython",
    "version": 3
   },
   "file_extension": ".py",
   "mimetype": "text/x-python",
   "name": "python",
   "nbconvert_exporter": "python",
   "pygments_lexer": "ipython3",
   "version": "3.8.8"
  }
 },
 "nbformat": 4,
 "nbformat_minor": 5
}
