{
 "cells": [
  {
   "cell_type": "code",
   "execution_count": 1,
   "id": "ff5636b9-f684-4424-9a99-b0f2c897a53e",
   "metadata": {},
   "outputs": [],
   "source": [
    "import os\n",
    "import pandas as pd\n",
    "import numpy as np\n",
    "from joblib import dump, load"
   ]
  },
  {
   "cell_type": "code",
   "execution_count": 34,
   "id": "4d5601fd-5eb7-48d1-8e86-0b4a700d2eb8",
   "metadata": {},
   "outputs": [
    {
     "name": "stdout",
     "output_type": "stream",
     "text": [
      "5\n",
      "{'model': 'DT', 'avg_score': 0.9496650633087084, 'avg_fit_time': 194.9059963941574}\n",
      "0\n",
      "{'model': 'LR', 'avg_score': 0.914007666351677, 'avg_fit_time': 1856.9749055624009}\n",
      "0\n",
      "{'model': 'MLP', 'avg_score': 0.937164499110775, 'avg_fit_time': 378.16319649219514}\n",
      "0\n",
      "{'model': 'NB', 'avg_score': 0.038059508042936625, 'avg_fit_time': 725.4178969860077}\n",
      "0\n",
      "{'model': 'SVM', 'avg_score': 0.9133312147652161, 'avg_fit_time': 4520.692067813873}\n",
      "0\n",
      "{'model': 'XGB', 'avg_score': 0.9492065576245736, 'avg_fit_time': 2313.765092086792}\n"
     ]
    }
   ],
   "source": [
    "files = [s for s in os.listdir(\"./models/\") if \".joblib\" in s]\n",
    "table = pd.DataFrame({},columns=[\"model\",\"avg_score\",\"avg_fit_time\"])\n",
    "for file in files:\n",
    "    teste = load('./models/'+file)\n",
    "    indice = np.where(teste.cv_results_[\"mean_test_score\"] == np.amax(teste.cv_results_[\"mean_test_score\"]))[0][0]\n",
    "    print(indice)\n",
    "    testline = {\"model\":file.replace(\".joblib\",\"\").rsplit(\"_\")[2],\n",
    "               \"avg_score\":teste.cv_results_[\"mean_test_score\"][indice],\n",
    "               \"avg_fit_time\":teste.cv_results_[\"mean_fit_time\"][indice]}\n",
    "    print(testline)\n",
    "    table = table.append(testline, ignore_index = True)\n",
    "\n",
    "# save\n",
    "featFile = open(\"./dissertation/AB-TRAP_tabela.txt\",\"w\")\n",
    "featFile.write(\"{:}\".format(table.head().to_latex(index=False)))\n",
    "featFile.close()"
   ]
  },
  {
   "cell_type": "code",
   "execution_count": 39,
   "id": "026a4737-75d3-42e6-a7fe-027f64fe1ab1",
   "metadata": {},
   "outputs": [],
   "source": [
    "alvo = pd.read_csv(\"dataset/CIC-BoT-IoT_CIC.csv\", sep=',') "
   ]
  },
  {
   "cell_type": "markdown",
   "id": "58bfaeff-6418-4a14-8f42-f36def48b7ca",
   "metadata": {},
   "source": [
    "\n",
    "src_port, dst_port, protocol,\tflow_duration,\tflow_byts_s,\tflow_pkts_s,\tfwd_pkts_s,\tbwd_pkts_s,\ttot_fwd_pkts,\ttot_bwd_pkts,\ttotlen_fwd_pkts,\n",
    "totlen_bwd_pkts,\tfwd_pkt_len_max,\tfwd_pkt_len_min,\tfwd_pkt_len_mean,\tfwd_pkt_len_std,\tbwd_pkt_len_max,\tbwd_pkt_len_min,\n",
    "bwd_pkt_len_mean,\tbwd_pkt_len_std,\tpkt_len_max,\tpkt_len_min,\tpkt_len_mean,\tpkt_len_std,\tpkt_len_var,\tfwd_header_len,\n",
    "bwd_header_len,\tfwd_seg_size_min,\tfwd_act_data_pkts,\tflow_iat_mean,\tflow_iat_max,\tflow_iat_min,\tflow_iat_std,\tfwd_iat_tot,\n",
    "fwd_iat_max,\tfwd_iat_min,\tfwd_iat_mean,\tfwd_iat_std,\tbwd_iat_tot,\tbwd_iat_max,\tbwd_iat_min,\tbwd_iat_mean,\tbwd_iat_std,\n",
    "fwd_psh_flags,\tbwd_psh_flags,\tfwd_urg_flags,\tbwd_urg_flags,\tfin_flag_cnt,\tsyn_flag_cnt,\trst_flag_cnt,\tpsh_flag_cnt,\tack_flag_cnt,\n",
    "urg_flag_cnt, ece_flag_cnt,\tdown_up_ratio,\tpkt_size_avg,\tinit_fwd_win_byts,\tinit_bwd_win_byts,\tactive_max,\tactive_min,\tactive_mean,\t\n",
    "active_std,\tidle_max,\tidle_min,\tidle_mean,\tidle_std,\tfwd_byts_b_avg,\tfwd_pkts_b_avg,\tbwd_byts_b_avg,\tbwd_pkts_b_avg,\tfwd_blk_rate_avg,\n",
    "bwd_blk_rate_avg,\tfwd_seg_size_avg,\tbwd_seg_size_avg,\tcwe_flag_count,\tsubflow_fwd_pkts,\tsubflow_bwd_pkts,\tsubflow_fwd_byts,\n",
    "subflow_bwd_byts"
   ]
  },
  {
   "cell_type": "code",
   "execution_count": 40,
   "id": "d5179762-d8cd-4fa5-9cdc-b3410f741129",
   "metadata": {},
   "outputs": [
    {
     "data": {
      "text/plain": [
       "Index(['Flow ID', 'Src IP', 'Src Port', 'Dst IP', 'Dst Port', 'Protocol',\n",
       "       'Timestamp', 'Flow Duration', 'Tot Fwd Pkts', 'Tot Bwd Pkts',\n",
       "       'TotLen Fwd Pkts', 'TotLen Bwd Pkts', 'Fwd Pkt Len Max',\n",
       "       'Fwd Pkt Len Min', 'Fwd Pkt Len Mean', 'Fwd Pkt Len Std',\n",
       "       'Bwd Pkt Len Max', 'Bwd Pkt Len Min', 'Bwd Pkt Len Mean',\n",
       "       'Bwd Pkt Len Std', 'Flow Byts/s', 'Flow Pkts/s', 'Flow IAT Mean',\n",
       "       'Flow IAT Std', 'Flow IAT Max', 'Flow IAT Min', 'Fwd IAT Tot',\n",
       "       'Fwd IAT Mean', 'Fwd IAT Std', 'Fwd IAT Max', 'Fwd IAT Min',\n",
       "       'Bwd IAT Tot', 'Bwd IAT Mean', 'Bwd IAT Std', 'Bwd IAT Max',\n",
       "       'Bwd IAT Min', 'Fwd PSH Flags', 'Bwd PSH Flags', 'Fwd URG Flags',\n",
       "       'Bwd URG Flags', 'Fwd Header Len', 'Bwd Header Len', 'Fwd Pkts/s',\n",
       "       'Bwd Pkts/s', 'Pkt Len Min', 'Pkt Len Max', 'Pkt Len Mean',\n",
       "       'Pkt Len Std', 'Pkt Len Var', 'FIN Flag Cnt', 'SYN Flag Cnt',\n",
       "       'RST Flag Cnt', 'PSH Flag Cnt', 'ACK Flag Cnt', 'URG Flag Cnt',\n",
       "       'CWE Flag Count', 'ECE Flag Cnt', 'Down/Up Ratio', 'Pkt Size Avg',\n",
       "       'Fwd Seg Size Avg', 'Bwd Seg Size Avg', 'Fwd Byts/b Avg',\n",
       "       'Fwd Pkts/b Avg', 'Fwd Blk Rate Avg', 'Bwd Byts/b Avg',\n",
       "       'Bwd Pkts/b Avg', 'Bwd Blk Rate Avg', 'Subflow Fwd Pkts',\n",
       "       'Subflow Fwd Byts', 'Subflow Bwd Pkts', 'Subflow Bwd Byts',\n",
       "       'Init Fwd Win Byts', 'Init Bwd Win Byts', 'Fwd Act Data Pkts',\n",
       "       'Fwd Seg Size Min', 'Active Mean', 'Active Std', 'Active Max',\n",
       "       'Active Min', 'Idle Mean', 'Idle Std', 'Idle Max', 'Idle Min', 'Label',\n",
       "       'Attack'],\n",
       "      dtype='object')"
      ]
     },
     "execution_count": 40,
     "metadata": {},
     "output_type": "execute_result"
    }
   ],
   "source": [
    "alvo.columns"
   ]
  },
  {
   "cell_type": "code",
   "execution_count": 5,
   "id": "ef13f4ea-4065-44de-9af2-b4e48ac38bf0",
   "metadata": {},
   "outputs": [
    {
     "data": {
      "text/plain": [
       "{'mean_fit_time': array([1856.97490556]),\n",
       " 'std_fit_time': array([403.78173613]),\n",
       " 'mean_score_time': array([4.58511491]),\n",
       " 'std_score_time': array([3.46067176]),\n",
       " 'params': [{}],\n",
       " 'split0_test_score': array([0.91514413]),\n",
       " 'split1_test_score': array([0.91331963]),\n",
       " 'split2_test_score': array([0.91284748]),\n",
       " 'split3_test_score': array([0.91535834]),\n",
       " 'split4_test_score': array([0.9146174]),\n",
       " 'split5_test_score': array([0.91331752]),\n",
       " 'split6_test_score': array([0.91283044]),\n",
       " 'split7_test_score': array([0.9151981]),\n",
       " 'split8_test_score': array([0.91098792]),\n",
       " 'split9_test_score': array([0.9164557]),\n",
       " 'mean_test_score': array([0.91400767]),\n",
       " 'std_test_score': array([0.00153942]),\n",
       " 'rank_test_score': array([1])}"
      ]
     },
     "execution_count": 5,
     "metadata": {},
     "output_type": "execute_result"
    }
   ],
   "source": [
    "teste.cv_results_"
   ]
  },
  {
   "cell_type": "code",
   "execution_count": 12,
   "id": "ca2bfc48-1d0f-4fd3-a290-5ad0b72bdebc",
   "metadata": {},
   "outputs": [
    {
     "ename": "KeyError",
     "evalue": "'split*'",
     "output_type": "error",
     "traceback": [
      "\u001b[1;31m---------------------------------------------------------------------------\u001b[0m",
      "\u001b[1;31mKeyError\u001b[0m                                  Traceback (most recent call last)",
      "\u001b[1;32m<ipython-input-12-b98be07ea4bc>\u001b[0m in \u001b[0;36m<module>\u001b[1;34m\u001b[0m\n\u001b[1;32m----> 1\u001b[1;33m \u001b[0mteste\u001b[0m\u001b[1;33m.\u001b[0m\u001b[0mcv_results_\u001b[0m\u001b[1;33m[\u001b[0m\u001b[1;34m\"split*\"\u001b[0m\u001b[1;33m]\u001b[0m\u001b[1;33m[\u001b[0m\u001b[1;36m0\u001b[0m\u001b[1;33m]\u001b[0m\u001b[1;33m\u001b[0m\u001b[1;33m\u001b[0m\u001b[0m\n\u001b[0m",
      "\u001b[1;31mKeyError\u001b[0m: 'split*'"
     ]
    }
   ],
   "source": [
    "teste.cv_results_[\"split\"][0]"
   ]
  },
  {
   "cell_type": "code",
   "execution_count": null,
   "id": "8a85f6c2-5313-4c53-9680-6289a41c6778",
   "metadata": {},
   "outputs": [],
   "source": [
    "\"\\begin{table}[H]\\n\\tab\\centering\\n\\tab\\caption{F1 score of each dataset with best model}\\n\\tab\\label{tab:f1_cross_datasets}\\n\\tab\\begin{tabular}{ c | c | c | c | c | c | c}{$DATASET$} & {$ML$} & {$AB-TRAP$}  & {$CIC-IDS$}  & {$IoT$}  & {$BoT$} & {$NB-15$}  \\\\\\n\\tab\\tabAB-TRAP     & MLP & - & +8.872 & 16.128 & 1.402 & 1.373 \\\\\\n\\tab\\tabCIC-IDS     & SVM & 3.442  & - & 3.442  & 0.299 & 0.343  \\\\\\n\\tab\\tabIoT     & KNN & 1.826  & -0.363 & -  & 0.159 & 0.119 \\\\\\n\\tab\\tabBoT     & XGB & 0.993  & -0.429 & 0.993  & - & 0.08     \\\\ \\n\\tab\\tabNB-15     & DT & 0.598  & -0.597 & 0.598  & 0.052 & - \\\\\\n\\tab\\end{tabular}\\n\\end{table}\""
   ]
  },
  {
   "cell_type": "code",
   "execution_count": 2,
   "id": "5c904159-b3ad-4280-9ced-0545bdf24fbf",
   "metadata": {},
   "outputs": [],
   "source": [
    "pcapType = {0:\"output\", 1:\"NB15_\", 2:\"WorkingHours\", 3:\"ToN-IoT\", 4:\"BoT-IoT\"}\n",
    "datasetType = {0:\"_NB15.csv\", 1:\"_CIC.csv\"}\n",
    "\n",
    "## Select PCAP and dataset types\n",
    "#\n",
    "# pcapType 0: MAWILab\n",
    "# pcapType 1: UNSW_NB15\n",
    "# pcapType 2: CIC-IDS\n",
    "# pcapType 3: ToN-IoT\n",
    "# pcapType 4: BoT-IoT\n",
    "#\n",
    "# datasetType 0: UNSW_NB15\n",
    "# datasetType 1: CIC-IDS\n",
    "##\n",
    "\n",
    "pcapTypeNum = 0\n",
    "datasetTypeNum = 1\n",
    "\n",
    "# Select maximum number of files to load\n",
    "maxNumFiles = 48"
   ]
  },
  {
   "cell_type": "code",
   "execution_count": 27,
   "id": "8f927aca-644b-421b-9eaa-4f7a2bb07e7e",
   "metadata": {},
   "outputs": [
    {
     "data": {
      "text/plain": [
       "False"
      ]
     },
     "execution_count": 27,
     "metadata": {},
     "output_type": "execute_result"
    }
   ],
   "source": [
    "lero = {0: \"bla\", 1:\"lero\"}\n",
    "bla = list(lero)\n",
    "bla.append(2)\n",
    "[x for x in bla[0:3] if x not in lero.keys()] == []"
   ]
  },
  {
   "cell_type": "code",
   "execution_count": 8,
   "id": "fe502cbe-a1e4-4118-909b-a082b4ba98e4",
   "metadata": {},
   "outputs": [],
   "source": [
    "lero = pd.read_csv(\"./dataset/1_CIC.csv\", sep=',')"
   ]
  },
  {
   "cell_type": "code",
   "execution_count": 26,
   "id": "7a307627-4a6b-4a07-a5bb-fd8847c1e857",
   "metadata": {},
   "outputs": [
    {
     "data": {
      "text/plain": [
       "array(['src_ip', 'dst_ip', 'src_port', 'dst_port', 'protocol',\n",
       "       'timestamp', 'flow_duration', 'flow_byts_s', 'flow_pkts_s',\n",
       "       'fwd_pkts_s', 'bwd_pkts_s', 'tot_fwd_pkts', 'tot_bwd_pkts',\n",
       "       'totlen_fwd_pkts', 'totlen_bwd_pkts', 'fwd_pkt_len_max',\n",
       "       'fwd_pkt_len_min', 'fwd_pkt_len_mean', 'fwd_pkt_len_std',\n",
       "       'bwd_pkt_len_max', 'bwd_pkt_len_min', 'bwd_pkt_len_mean',\n",
       "       'bwd_pkt_len_std', 'pkt_len_max', 'pkt_len_min', 'pkt_len_mean',\n",
       "       'pkt_len_std', 'pkt_len_var', 'fwd_header_len', 'bwd_header_len',\n",
       "       'fwd_seg_size_min', 'fwd_act_data_pkts', 'flow_iat_mean',\n",
       "       'flow_iat_max', 'flow_iat_min', 'flow_iat_std', 'fwd_iat_tot',\n",
       "       'fwd_iat_max', 'fwd_iat_min', 'fwd_iat_mean', 'fwd_iat_std',\n",
       "       'bwd_iat_tot', 'bwd_iat_max', 'bwd_iat_min', 'bwd_iat_mean',\n",
       "       'bwd_iat_std', 'fwd_psh_flags', 'bwd_psh_flags', 'fwd_urg_flags',\n",
       "       'bwd_urg_flags', 'fin_flag_cnt', 'syn_flag_cnt', 'rst_flag_cnt',\n",
       "       'psh_flag_cnt', 'ack_flag_cnt', 'urg_flag_cnt', 'ece_flag_cnt',\n",
       "       'down_up_ratio', 'pkt_size_avg', 'init_fwd_win_byts',\n",
       "       'init_bwd_win_byts', 'active_max', 'active_min', 'active_mean',\n",
       "       'active_std', 'idle_max', 'idle_min', 'idle_mean', 'idle_std',\n",
       "       'fwd_byts_b_avg', 'fwd_pkts_b_avg', 'bwd_byts_b_avg',\n",
       "       'bwd_pkts_b_avg', 'fwd_blk_rate_avg', 'bwd_blk_rate_avg',\n",
       "       'fwd_seg_size_avg', 'bwd_seg_size_avg', 'cwe_flag_count',\n",
       "       'subflow_fwd_pkts', 'subflow_bwd_pkts', 'subflow_fwd_byts',\n",
       "       'subflow_bwd_byts', 'flow_ID', 'Label'], dtype=object)"
      ]
     },
     "execution_count": 26,
     "metadata": {},
     "output_type": "execute_result"
    }
   ],
   "source": [
    "lero.columns.values"
   ]
  },
  {
   "cell_type": "code",
   "execution_count": 8,
   "id": "17390684-2c7e-4ea3-b2e9-267c40539245",
   "metadata": {},
   "outputs": [
    {
     "ename": "TypeError",
     "evalue": "write() argument must be str, not list",
     "output_type": "error",
     "traceback": [
      "\u001b[1;31m---------------------------------------------------------------------------\u001b[0m",
      "\u001b[1;31mTypeError\u001b[0m                                 Traceback (most recent call last)",
      "\u001b[1;32m<ipython-input-8-cfddaea7652c>\u001b[0m in \u001b[0;36m<module>\u001b[1;34m\u001b[0m\n\u001b[0;32m      1\u001b[0m \u001b[0mlero\u001b[0m \u001b[1;33m=\u001b[0m \u001b[1;33m[\u001b[0m\u001b[1;34m\"texto1\"\u001b[0m\u001b[1;33m,\u001b[0m\u001b[1;34m\"texto2\"\u001b[0m\u001b[1;33m,\u001b[0m\u001b[1;34m\"texto3\"\u001b[0m\u001b[1;33m]\u001b[0m\u001b[1;33m\u001b[0m\u001b[1;33m\u001b[0m\u001b[0m\n\u001b[0;32m      2\u001b[0m \u001b[0mfeatFile\u001b[0m \u001b[1;33m=\u001b[0m \u001b[0mopen\u001b[0m\u001b[1;33m(\u001b[0m\u001b[1;34m\"./teste.txt\"\u001b[0m\u001b[1;33m,\u001b[0m\u001b[1;34m\"w\"\u001b[0m\u001b[1;33m)\u001b[0m\u001b[1;33m\u001b[0m\u001b[1;33m\u001b[0m\u001b[0m\n\u001b[1;32m----> 3\u001b[1;33m \u001b[0mfeatFile\u001b[0m\u001b[1;33m.\u001b[0m\u001b[0mwrite\u001b[0m\u001b[1;33m(\u001b[0m\u001b[0mlero\u001b[0m\u001b[1;33m)\u001b[0m\u001b[1;33m\u001b[0m\u001b[1;33m\u001b[0m\u001b[0m\n\u001b[0m\u001b[0;32m      4\u001b[0m \u001b[0mfeatFile\u001b[0m\u001b[1;33m.\u001b[0m\u001b[0mclose\u001b[0m\u001b[1;33m(\u001b[0m\u001b[1;33m)\u001b[0m\u001b[1;33m\u001b[0m\u001b[1;33m\u001b[0m\u001b[0m\n",
      "\u001b[1;31mTypeError\u001b[0m: write() argument must be str, not list"
     ]
    }
   ],
   "source": [
    "lero = [\"texto1\",\"texto2\",\"texto3\"]\n",
    "featFile = open(\"./teste.txt\",\"w\")\n",
    "featFile.write(\"{:}\".format(lero))\n",
    "featFile.close()"
   ]
  },
  {
   "cell_type": "code",
   "execution_count": null,
   "id": "d4ef666d-595a-4c88-a21f-ed85219f8e81",
   "metadata": {},
   "outputs": [],
   "source": []
  }
 ],
 "metadata": {
  "kernelspec": {
   "display_name": "Python 3",
   "language": "python",
   "name": "python3"
  },
  "language_info": {
   "codemirror_mode": {
    "name": "ipython",
    "version": 3
   },
   "file_extension": ".py",
   "mimetype": "text/x-python",
   "name": "python",
   "nbconvert_exporter": "python",
   "pygments_lexer": "ipython3",
   "version": "3.8.8"
  }
 },
 "nbformat": 4,
 "nbformat_minor": 5
}
