{
 "cells": [
  {
   "cell_type": "code",
   "execution_count": 2,
   "id": "ff5636b9-f684-4424-9a99-b0f2c897a53e",
   "metadata": {},
   "outputs": [],
   "source": [
    "import os\n",
    "import pandas as pd\n",
    "import numpy as np\n",
    "from joblib import dump, load"
   ]
  },
  {
   "cell_type": "code",
   "execution_count": 34,
   "id": "4d5601fd-5eb7-48d1-8e86-0b4a700d2eb8",
   "metadata": {},
   "outputs": [
    {
     "name": "stdout",
     "output_type": "stream",
     "text": [
      "5\n",
      "{'model': 'DT', 'avg_score': 0.9496650633087084, 'avg_fit_time': 194.9059963941574}\n",
      "0\n",
      "{'model': 'LR', 'avg_score': 0.914007666351677, 'avg_fit_time': 1856.9749055624009}\n",
      "0\n",
      "{'model': 'MLP', 'avg_score': 0.937164499110775, 'avg_fit_time': 378.16319649219514}\n",
      "0\n",
      "{'model': 'NB', 'avg_score': 0.038059508042936625, 'avg_fit_time': 725.4178969860077}\n",
      "0\n",
      "{'model': 'SVM', 'avg_score': 0.9133312147652161, 'avg_fit_time': 4520.692067813873}\n",
      "0\n",
      "{'model': 'XGB', 'avg_score': 0.9492065576245736, 'avg_fit_time': 2313.765092086792}\n"
     ]
    }
   ],
   "source": [
    "files = [s for s in os.listdir(\"./models/\") if \".joblib\" in s]\n",
    "table = pd.DataFrame({},columns=[\"model\",\"avg_score\",\"avg_fit_time\"])\n",
    "for file in files:\n",
    "    teste = load('./models/'+file)\n",
    "    indice = np.where(teste.cv_results_[\"mean_test_score\"] == np.amax(teste.cv_results_[\"mean_test_score\"]))[0][0]\n",
    "    print(indice)\n",
    "    testline = {\"model\":file.replace(\".joblib\",\"\").rsplit(\"_\")[2],\n",
    "               \"avg_score\":teste.cv_results_[\"mean_test_score\"][indice],\n",
    "               \"avg_fit_time\":teste.cv_results_[\"mean_fit_time\"][indice]}\n",
    "    print(testline)\n",
    "    table = table.append(testline, ignore_index = True)\n",
    "\n",
    "\n",
    "# save\n",
    "DSName = \"AB-TRAP\"\n",
    "featFile = open(\"./dissertation/{0}_F1table.txt\".format(DSName),\"w\")\n",
    "featFile.write(\"\"\"\\\\begin{table}[H]\\n\n",
    "                    \\t\\\\centering\\n\n",
    "                    \\t\\\\caption{F1 score of each model in the {0} dataset}\\n\n",
    "                    \\t\\\\label{tab:f1_valid_abtrap}\\n\n",
    "                    \\t\\t{1}\\n\n",
    "                    \\\\end{table}\"\"\".format(DSName,table.to_latex(index=False, column_format='c'*table.columns.size)))\n",
    "featFile.close()"
   ]
  },
  {
   "cell_type": "code",
   "execution_count": 4,
   "id": "026a4737-75d3-42e6-a7fe-027f64fe1ab1",
   "metadata": {},
   "outputs": [
    {
     "data": {
      "text/plain": [
       "Index(['Flow ID', 'Src IP', 'Src Port', 'Dst IP', 'Dst Port', 'Protocol',\n",
       "       'Timestamp', 'Flow Duration', 'Tot Fwd Pkts', 'Tot Bwd Pkts',\n",
       "       'TotLen Fwd Pkts', 'TotLen Bwd Pkts', 'Fwd Pkt Len Max',\n",
       "       'Fwd Pkt Len Min', 'Fwd Pkt Len Mean', 'Fwd Pkt Len Std',\n",
       "       'Bwd Pkt Len Max', 'Bwd Pkt Len Min', 'Bwd Pkt Len Mean',\n",
       "       'Bwd Pkt Len Std', 'Flow Byts/s', 'Flow Pkts/s', 'Flow IAT Mean',\n",
       "       'Flow IAT Std', 'Flow IAT Max', 'Flow IAT Min', 'Fwd IAT Tot',\n",
       "       'Fwd IAT Mean', 'Fwd IAT Std', 'Fwd IAT Max', 'Fwd IAT Min',\n",
       "       'Bwd IAT Tot', 'Bwd IAT Mean', 'Bwd IAT Std', 'Bwd IAT Max',\n",
       "       'Bwd IAT Min', 'Fwd PSH Flags', 'Bwd PSH Flags', 'Fwd URG Flags',\n",
       "       'Bwd URG Flags', 'Fwd Header Len', 'Bwd Header Len', 'Fwd Pkts/s',\n",
       "       'Bwd Pkts/s', 'Pkt Len Min', 'Pkt Len Max', 'Pkt Len Mean',\n",
       "       'Pkt Len Std', 'Pkt Len Var', 'FIN Flag Cnt', 'SYN Flag Cnt',\n",
       "       'RST Flag Cnt', 'PSH Flag Cnt', 'ACK Flag Cnt', 'URG Flag Cnt',\n",
       "       'CWE Flag Count', 'ECE Flag Cnt', 'Down/Up Ratio', 'Pkt Size Avg',\n",
       "       'Fwd Seg Size Avg', 'Bwd Seg Size Avg', 'Fwd Byts/b Avg',\n",
       "       'Fwd Pkts/b Avg', 'Fwd Blk Rate Avg', 'Bwd Byts/b Avg',\n",
       "       'Bwd Pkts/b Avg', 'Bwd Blk Rate Avg', 'Subflow Fwd Pkts',\n",
       "       'Subflow Fwd Byts', 'Subflow Bwd Pkts', 'Subflow Bwd Byts',\n",
       "       'Init Fwd Win Byts', 'Init Bwd Win Byts', 'Fwd Act Data Pkts',\n",
       "       'Fwd Seg Size Min', 'Active Mean', 'Active Std', 'Active Max',\n",
       "       'Active Min', 'Idle Mean', 'Idle Std', 'Idle Max', 'Idle Min', 'Label',\n",
       "       'Attack'],\n",
       "      dtype='object')"
      ]
     },
     "execution_count": 4,
     "metadata": {},
     "output_type": "execute_result"
    }
   ],
   "source": [
    "alvo = pd.read_csv(\"dataset/CIC-BoT-IoT_CIC.csv\", sep=',') \n",
    "alvo.columns"
   ]
  },
  {
   "cell_type": "code",
   "execution_count": 9,
   "id": "4017a479-fd85-4e5c-aa72-2fa9ebaa1bde",
   "metadata": {},
   "outputs": [
    {
     "data": {
      "text/plain": [
       "Flow ID      object\n",
       "Src IP       object\n",
       "Src Port      int64\n",
       "Dst IP       object\n",
       "Dst Port      int64\n",
       "             ...   \n",
       "Idle Std    float64\n",
       "Idle Max    float64\n",
       "Idle Min    float64\n",
       "Label         int64\n",
       "Attack       object\n",
       "Length: 85, dtype: object"
      ]
     },
     "execution_count": 9,
     "metadata": {},
     "output_type": "execute_result"
    }
   ],
   "source": [
    "alvo.dtypes"
   ]
  },
  {
   "cell_type": "code",
   "execution_count": 19,
   "id": "ad4cded5-8498-41d3-a981-cdb663b46b97",
   "metadata": {},
   "outputs": [
    {
     "data": {
      "text/plain": [
       "Flow ID    flow_id\n",
       "Label        label\n",
       "Attack      attack\n",
       "dtype: object"
      ]
     },
     "execution_count": 19,
     "metadata": {},
     "output_type": "execute_result"
    }
   ],
   "source": [
    "teste = alvo.columns.to_series().apply(lambda x: x.replace(\" \",\"_\").replace(\"/\",\"_\").casefold()) #.to_list() in \n",
    "teste[ teste.apply(lambda x: True if x not in ['src_ip', 'dst_ip', 'src_port', 'dst_port', 'protocol', 'timestamp', 'flow_duration', 'flow_byts_s', 'flow_pkts_s', 'fwd_pkts_s',\n",
    "       'bwd_pkts_s', 'tot_fwd_pkts', 'tot_bwd_pkts', 'totlen_fwd_pkts', 'totlen_bwd_pkts', 'fwd_pkt_len_max', 'fwd_pkt_len_min',\n",
    "       'fwd_pkt_len_mean', 'fwd_pkt_len_std', 'bwd_pkt_len_max', 'bwd_pkt_len_min', 'bwd_pkt_len_mean', 'bwd_pkt_len_std', 'pkt_len_max',\n",
    "       'pkt_len_min', 'pkt_len_mean', 'pkt_len_std', 'pkt_len_var', 'fwd_header_len', 'bwd_header_len', 'fwd_seg_size_min',\n",
    "       'fwd_act_data_pkts', 'flow_iat_mean', 'flow_iat_max', 'flow_iat_min',\n",
    "       'flow_iat_std', 'fwd_iat_tot', 'fwd_iat_max', 'fwd_iat_min',\n",
    "       'fwd_iat_mean', 'fwd_iat_std', 'bwd_iat_tot', 'bwd_iat_max',\n",
    "       'bwd_iat_min', 'bwd_iat_mean', 'bwd_iat_std', 'fwd_psh_flags',\n",
    "       'bwd_psh_flags', 'fwd_urg_flags', 'bwd_urg_flags', 'fin_flag_cnt',\n",
    "       'syn_flag_cnt', 'rst_flag_cnt', 'psh_flag_cnt', 'ack_flag_cnt',\n",
    "       'urg_flag_cnt', 'ece_flag_cnt', 'down_up_ratio', 'pkt_size_avg',\n",
    "       'init_fwd_win_byts', 'init_bwd_win_byts', 'active_max', 'active_min',\n",
    "       'active_mean', 'active_std', 'idle_max', 'idle_min', 'idle_mean',\n",
    "       'idle_std', 'fwd_byts_b_avg', 'fwd_pkts_b_avg', 'bwd_byts_b_avg',\n",
    "       'bwd_pkts_b_avg', 'fwd_blk_rate_avg', 'bwd_blk_rate_avg',\n",
    "       'fwd_seg_size_avg', 'bwd_seg_size_avg', 'cwe_flag_count',\n",
    "       'subflow_fwd_pkts', 'subflow_bwd_pkts', 'subflow_fwd_byts',\n",
    "       'subflow_bwd_byts', 'flow_ID', 'Label'] else False) ]"
   ]
  },
  {
   "cell_type": "code",
   "execution_count": 28,
   "id": "876bcb72-1efc-4c70-a138-339fb8078c5d",
   "metadata": {},
   "outputs": [
    {
     "data": {
      "text/plain": [
       "Flow ID      flow_ID\n",
       "Src IP        src_ip\n",
       "Src Port    src_port\n",
       "Dst IP        dst_ip\n",
       "Dst Port    dst_port\n",
       "              ...   \n",
       "Idle Std    idle_std\n",
       "Idle Max    idle_max\n",
       "Idle Min    idle_min\n",
       "Label          label\n",
       "Attack        attack\n",
       "Length: 85, dtype: object"
      ]
     },
     "execution_count": 28,
     "metadata": {},
     "output_type": "execute_result"
    }
   ],
   "source": [
    "teste[teste == \"flow_id\"] = 'flow_ID'\n",
    "teste"
   ]
  },
  {
   "cell_type": "code",
   "execution_count": 22,
   "id": "4e45fc27-cdcf-433b-b6fe-fe3c9a9ebaec",
   "metadata": {},
   "outputs": [],
   "source": [
    "cic = pd.read_csv(\"dataset/Friday-WorkingHours_CIC.csv\", sep=',')"
   ]
  },
  {
   "cell_type": "code",
   "execution_count": 3,
   "id": "780635e8-c937-4c34-8475-86406e60c9c4",
   "metadata": {},
   "outputs": [
    {
     "data": {
      "text/plain": [
       "Index(['src_ip', 'dst_ip', 'src_port', 'dst_port', 'protocol', 'timestamp',\n",
       "       'flow_duration', 'flow_byts_s', 'flow_pkts_s', 'fwd_pkts_s',\n",
       "       'bwd_pkts_s', 'tot_fwd_pkts', 'tot_bwd_pkts', 'totlen_fwd_pkts',\n",
       "       'totlen_bwd_pkts', 'fwd_pkt_len_max', 'fwd_pkt_len_min',\n",
       "       'fwd_pkt_len_mean', 'fwd_pkt_len_std', 'bwd_pkt_len_max',\n",
       "       'bwd_pkt_len_min', 'bwd_pkt_len_mean', 'bwd_pkt_len_std', 'pkt_len_max',\n",
       "       'pkt_len_min', 'pkt_len_mean', 'pkt_len_std', 'pkt_len_var',\n",
       "       'fwd_header_len', 'bwd_header_len', 'fwd_seg_size_min',\n",
       "       'fwd_act_data_pkts', 'flow_iat_mean', 'flow_iat_max', 'flow_iat_min',\n",
       "       'flow_iat_std', 'fwd_iat_tot', 'fwd_iat_max', 'fwd_iat_min',\n",
       "       'fwd_iat_mean', 'fwd_iat_std', 'bwd_iat_tot', 'bwd_iat_max',\n",
       "       'bwd_iat_min', 'bwd_iat_mean', 'bwd_iat_std', 'fwd_psh_flags',\n",
       "       'bwd_psh_flags', 'fwd_urg_flags', 'bwd_urg_flags', 'fin_flag_cnt',\n",
       "       'syn_flag_cnt', 'rst_flag_cnt', 'psh_flag_cnt', 'ack_flag_cnt',\n",
       "       'urg_flag_cnt', 'ece_flag_cnt', 'down_up_ratio', 'pkt_size_avg',\n",
       "       'init_fwd_win_byts', 'init_bwd_win_byts', 'active_max', 'active_min',\n",
       "       'active_mean', 'active_std', 'idle_max', 'idle_min', 'idle_mean',\n",
       "       'idle_std', 'fwd_byts_b_avg', 'fwd_pkts_b_avg', 'bwd_byts_b_avg',\n",
       "       'bwd_pkts_b_avg', 'fwd_blk_rate_avg', 'bwd_blk_rate_avg',\n",
       "       'fwd_seg_size_avg', 'bwd_seg_size_avg', 'cwe_flag_count',\n",
       "       'subflow_fwd_pkts', 'subflow_bwd_pkts', 'subflow_fwd_byts',\n",
       "       'subflow_bwd_byts', 'flow_ID', 'Label'],\n",
       "      dtype='object')"
      ]
     },
     "execution_count": 3,
     "metadata": {},
     "output_type": "execute_result"
    }
   ],
   "source": [
    "alvo = pd.read_csv(\"dataset/attack_CIC.csv\", sep=',') \n",
    "alvo.columns"
   ]
  },
  {
   "cell_type": "code",
   "execution_count": null,
   "id": "244666f0-0f6f-4bdf-97b0-4cf7c8545e60",
   "metadata": {},
   "outputs": [],
   "source": [
    "{'Flow ID', 'Src IP':'src_ip', 'Src Port':'src_port', 'Dst IP':'dst_ip', 'Dst Port':'dst_port', 'Protocol':'protocol',\n",
    " 'Timestamp':'timestamp', 'Flow Duration':'flow_duration', 'Tot Fwd Pkts', 'Tot Bwd Pkts',\n",
    "       'TotLen Fwd Pkts', 'TotLen Bwd Pkts', 'Fwd Pkt Len Max',\n",
    "       'Fwd Pkt Len Min', 'Fwd Pkt Len Mean', 'Fwd Pkt Len Std',\n",
    "       'Bwd Pkt Len Max', 'Bwd Pkt Len Min', 'Bwd Pkt Len Mean',\n",
    "       'Bwd Pkt Len Std', 'Flow Byts/s', 'Flow Pkts/s', 'Flow IAT Mean',\n",
    "       'Flow IAT Std', 'Flow IAT Max', 'Flow IAT Min', 'Fwd IAT Tot',\n",
    "       'Fwd IAT Mean', 'Fwd IAT Std', 'Fwd IAT Max', 'Fwd IAT Min',\n",
    "       'Bwd IAT Tot', 'Bwd IAT Mean', 'Bwd IAT Std', 'Bwd IAT Max',\n",
    "       'Bwd IAT Min', 'Fwd PSH Flags', 'Bwd PSH Flags', 'Fwd URG Flags',\n",
    "       'Bwd URG Flags', 'Fwd Header Len', 'Bwd Header Len', 'Fwd Pkts/s',\n",
    "       'Bwd Pkts/s', 'Pkt Len Min', 'Pkt Len Max', 'Pkt Len Mean',\n",
    "       'Pkt Len Std', 'Pkt Len Var', 'FIN Flag Cnt', 'SYN Flag Cnt',\n",
    "       'RST Flag Cnt', 'PSH Flag Cnt', 'ACK Flag Cnt', 'URG Flag Cnt',\n",
    "       'CWE Flag Count', 'ECE Flag Cnt', 'Down/Up Ratio', 'Pkt Size Avg',\n",
    "       'Fwd Seg Size Avg', 'Bwd Seg Size Avg', 'Fwd Byts/b Avg',\n",
    "       'Fwd Pkts/b Avg', 'Fwd Blk Rate Avg', 'Bwd Byts/b Avg',\n",
    "       'Bwd Pkts/b Avg', 'Bwd Blk Rate Avg', 'Subflow Fwd Pkts',\n",
    "       'Subflow Fwd Byts', 'Subflow Bwd Pkts', 'Subflow Bwd Byts',\n",
    "       'Init Fwd Win Byts', 'Init Bwd Win Byts', 'Fwd Act Data Pkts',\n",
    "       'Fwd Seg Size Min', 'Active Mean', 'Active Std', 'Active Max',\n",
    "       'Active Min', 'Idle Mean', 'Idle Std', 'Idle Max', 'Idle Min', 'Label',\n",
    "       'Attack'\n",
    "        \n",
    "        , , , ,\n",
    "       , 'flow_byts_s', 'flow_pkts_s', 'fwd_pkts_s',\n",
    "       'bwd_pkts_s', 'tot_fwd_pkts', 'tot_bwd_pkts', 'totlen_fwd_pkts',\n",
    "       'totlen_bwd_pkts', 'fwd_pkt_len_max', 'fwd_pkt_len_min',\n",
    "       'fwd_pkt_len_mean', 'fwd_pkt_len_std', 'bwd_pkt_len_max',\n",
    "       'bwd_pkt_len_min', 'bwd_pkt_len_mean', 'bwd_pkt_len_std', 'pkt_len_max',\n",
    "       'pkt_len_min', 'pkt_len_mean', 'pkt_len_std', 'pkt_len_var',\n",
    "       'fwd_header_len', 'bwd_header_len', 'fwd_seg_size_min',\n",
    "       'fwd_act_data_pkts', 'flow_iat_mean', 'flow_iat_max', 'flow_iat_min',\n",
    "       'flow_iat_std', 'fwd_iat_tot', 'fwd_iat_max', 'fwd_iat_min',\n",
    "       'fwd_iat_mean', 'fwd_iat_std', 'bwd_iat_tot', 'bwd_iat_max',\n",
    "       'bwd_iat_min', 'bwd_iat_mean', 'bwd_iat_std', 'fwd_psh_flags',\n",
    "       'bwd_psh_flags', 'fwd_urg_flags', 'bwd_urg_flags', 'fin_flag_cnt',\n",
    "       'syn_flag_cnt', 'rst_flag_cnt', 'psh_flag_cnt', 'ack_flag_cnt',\n",
    "       'urg_flag_cnt', 'ece_flag_cnt', 'down_up_ratio', 'pkt_size_avg',\n",
    "       'init_fwd_win_byts', 'init_bwd_win_byts', 'active_max', 'active_min',\n",
    "       'active_mean', 'active_std', 'idle_max', 'idle_min', 'idle_mean',\n",
    "       'idle_std', 'fwd_byts_b_avg', 'fwd_pkts_b_avg', 'bwd_byts_b_avg',\n",
    "       'bwd_pkts_b_avg', 'fwd_blk_rate_avg', 'bwd_blk_rate_avg',\n",
    "       'fwd_seg_size_avg', 'bwd_seg_size_avg', 'cwe_flag_count',\n",
    "       'subflow_fwd_pkts', 'subflow_bwd_pkts', 'subflow_fwd_byts',\n",
    "       'subflow_bwd_byts', 'flow_ID', 'Label'"
   ]
  },
  {
   "cell_type": "code",
   "execution_count": 64,
   "id": "a8b0bbc8-060c-4a4f-8b3f-7de7779faaaf",
   "metadata": {},
   "outputs": [
    {
     "name": "stdout",
     "output_type": "stream",
     "text": [
      "a,b,c\n"
     ]
    }
   ],
   "source": [
    "teste = ['a', 'b', 'c']\n",
    "print(\",\".join(teste))"
   ]
  },
  {
   "cell_type": "code",
   "execution_count": 62,
   "id": "855c6ad1-2043-47ea-8b38-6d455c317b53",
   "metadata": {},
   "outputs": [
    {
     "data": {
      "text/plain": [
       "['',\n",
       " 'fwd_psh_flags',\n",
       " ' ',\n",
       " 'bwd_psh_flags',\n",
       " ' ',\n",
       " 'fwd_urg_flags',\n",
       " ' ',\n",
       " 'bwd_urg_flags',\n",
       " '\\n ',\n",
       " 'syn_flag_cnt',\n",
       " ' ',\n",
       " 'rst_flag_cnt',\n",
       " ' ',\n",
       " 'psh_flag_cnt',\n",
       " ' ',\n",
       " 'ack_flag_cnt',\n",
       " '\\n ',\n",
       " 'urg_flag_cnt',\n",
       " ' ',\n",
       " 'ece_flag_cnt',\n",
       " ' ',\n",
       " 'cwe_flag_count',\n",
       " ' ',\n",
       " 'timestamp',\n",
       " ' ',\n",
       " 'flow_ID',\n",
       " '\\n ',\n",
       " 'src_port',\n",
       " ' ',\n",
       " 'src_ip',\n",
       " ' ',\n",
       " 'dst_ip',\n",
       " '']"
      ]
     },
     "execution_count": 62,
     "metadata": {},
     "output_type": "execute_result"
    }
   ],
   "source": [
    "featFile = open(\"./ML-output/zeroVaroutput.txt\",\"r\")\n",
    "text = featFile.read()\n",
    "text[1:-1].split(\"\\'\")"
   ]
  },
  {
   "cell_type": "code",
   "execution_count": 44,
   "id": "8f8a7b2f-86cd-4aba-a765-65c71ddb66eb",
   "metadata": {},
   "outputs": [
    {
     "data": {
      "text/html": [
       "<div>\n",
       "<style scoped>\n",
       "    .dataframe tbody tr th:only-of-type {\n",
       "        vertical-align: middle;\n",
       "    }\n",
       "\n",
       "    .dataframe tbody tr th {\n",
       "        vertical-align: top;\n",
       "    }\n",
       "\n",
       "    .dataframe thead th {\n",
       "        text-align: right;\n",
       "    }\n",
       "</style>\n",
       "<table border=\"1\" class=\"dataframe\">\n",
       "  <thead>\n",
       "    <tr style=\"text-align: right;\">\n",
       "      <th></th>\n",
       "      <th>Flow ID</th>\n",
       "      <th>Source IP</th>\n",
       "      <th>Source Port</th>\n",
       "      <th>Destination IP</th>\n",
       "      <th>Destination Port</th>\n",
       "      <th>Protocol</th>\n",
       "      <th>Timestamp</th>\n",
       "      <th>Flow Duration</th>\n",
       "      <th>Total Fwd Packets</th>\n",
       "      <th>Total Backward Packets</th>\n",
       "      <th>...</th>\n",
       "      <th>min_seg_size_forward</th>\n",
       "      <th>Active Mean</th>\n",
       "      <th>Active Std</th>\n",
       "      <th>Active Max</th>\n",
       "      <th>Active Min</th>\n",
       "      <th>Idle Mean</th>\n",
       "      <th>Idle Std</th>\n",
       "      <th>Idle Max</th>\n",
       "      <th>Idle Min</th>\n",
       "      <th>Label</th>\n",
       "    </tr>\n",
       "  </thead>\n",
       "  <tbody>\n",
       "    <tr>\n",
       "      <th>227208</th>\n",
       "      <td>172.16.0.1-192.168.10.50-40620-80-6</td>\n",
       "      <td>172.16.0.1</td>\n",
       "      <td>40620</td>\n",
       "      <td>192.168.10.50</td>\n",
       "      <td>80</td>\n",
       "      <td>6</td>\n",
       "      <td>7/7/2017 1:05</td>\n",
       "      <td>5021059</td>\n",
       "      <td>6</td>\n",
       "      <td>5</td>\n",
       "      <td>...</td>\n",
       "      <td>32</td>\n",
       "      <td>0.0</td>\n",
       "      <td>0.0</td>\n",
       "      <td>0.0</td>\n",
       "      <td>0.0</td>\n",
       "      <td>0.0</td>\n",
       "      <td>0.0</td>\n",
       "      <td>0.0</td>\n",
       "      <td>0.0</td>\n",
       "      <td>PortScan</td>\n",
       "    </tr>\n",
       "    <tr>\n",
       "      <th>227212</th>\n",
       "      <td>172.16.0.1-192.168.10.50-40620-80-6</td>\n",
       "      <td>172.16.0.1</td>\n",
       "      <td>40620</td>\n",
       "      <td>192.168.10.50</td>\n",
       "      <td>80</td>\n",
       "      <td>6</td>\n",
       "      <td>7/7/2017 1:05</td>\n",
       "      <td>70</td>\n",
       "      <td>1</td>\n",
       "      <td>1</td>\n",
       "      <td>...</td>\n",
       "      <td>32</td>\n",
       "      <td>0.0</td>\n",
       "      <td>0.0</td>\n",
       "      <td>0.0</td>\n",
       "      <td>0.0</td>\n",
       "      <td>0.0</td>\n",
       "      <td>0.0</td>\n",
       "      <td>0.0</td>\n",
       "      <td>0.0</td>\n",
       "      <td>PortScan</td>\n",
       "    </tr>\n",
       "    <tr>\n",
       "      <th>227213</th>\n",
       "      <td>172.16.0.1-192.168.10.50-40622-80-6</td>\n",
       "      <td>172.16.0.1</td>\n",
       "      <td>40622</td>\n",
       "      <td>192.168.10.50</td>\n",
       "      <td>80</td>\n",
       "      <td>6</td>\n",
       "      <td>7/7/2017 1:05</td>\n",
       "      <td>5024211</td>\n",
       "      <td>6</td>\n",
       "      <td>5</td>\n",
       "      <td>...</td>\n",
       "      <td>32</td>\n",
       "      <td>0.0</td>\n",
       "      <td>0.0</td>\n",
       "      <td>0.0</td>\n",
       "      <td>0.0</td>\n",
       "      <td>0.0</td>\n",
       "      <td>0.0</td>\n",
       "      <td>0.0</td>\n",
       "      <td>0.0</td>\n",
       "      <td>PortScan</td>\n",
       "    </tr>\n",
       "    <tr>\n",
       "      <th>227225</th>\n",
       "      <td>172.16.0.1-192.168.10.50-40622-80-6</td>\n",
       "      <td>172.16.0.1</td>\n",
       "      <td>40622</td>\n",
       "      <td>192.168.10.50</td>\n",
       "      <td>80</td>\n",
       "      <td>6</td>\n",
       "      <td>7/7/2017 1:05</td>\n",
       "      <td>52</td>\n",
       "      <td>1</td>\n",
       "      <td>1</td>\n",
       "      <td>...</td>\n",
       "      <td>32</td>\n",
       "      <td>0.0</td>\n",
       "      <td>0.0</td>\n",
       "      <td>0.0</td>\n",
       "      <td>0.0</td>\n",
       "      <td>0.0</td>\n",
       "      <td>0.0</td>\n",
       "      <td>0.0</td>\n",
       "      <td>0.0</td>\n",
       "      <td>PortScan</td>\n",
       "    </tr>\n",
       "    <tr>\n",
       "      <th>227256</th>\n",
       "      <td>172.16.0.1-192.168.10.50-40626-80-6</td>\n",
       "      <td>172.16.0.1</td>\n",
       "      <td>40626</td>\n",
       "      <td>192.168.10.50</td>\n",
       "      <td>80</td>\n",
       "      <td>6</td>\n",
       "      <td>7/7/2017 1:05</td>\n",
       "      <td>5386396</td>\n",
       "      <td>3</td>\n",
       "      <td>1</td>\n",
       "      <td>...</td>\n",
       "      <td>32</td>\n",
       "      <td>0.0</td>\n",
       "      <td>0.0</td>\n",
       "      <td>0.0</td>\n",
       "      <td>0.0</td>\n",
       "      <td>0.0</td>\n",
       "      <td>0.0</td>\n",
       "      <td>0.0</td>\n",
       "      <td>0.0</td>\n",
       "      <td>PortScan</td>\n",
       "    </tr>\n",
       "    <tr>\n",
       "      <th>...</th>\n",
       "      <td>...</td>\n",
       "      <td>...</td>\n",
       "      <td>...</td>\n",
       "      <td>...</td>\n",
       "      <td>...</td>\n",
       "      <td>...</td>\n",
       "      <td>...</td>\n",
       "      <td>...</td>\n",
       "      <td>...</td>\n",
       "      <td>...</td>\n",
       "      <td>...</td>\n",
       "      <td>...</td>\n",
       "      <td>...</td>\n",
       "      <td>...</td>\n",
       "      <td>...</td>\n",
       "      <td>...</td>\n",
       "      <td>...</td>\n",
       "      <td>...</td>\n",
       "      <td>...</td>\n",
       "      <td>...</td>\n",
       "      <td>...</td>\n",
       "    </tr>\n",
       "    <tr>\n",
       "      <th>504717</th>\n",
       "      <td>172.16.0.1-192.168.10.50-42006-445-6</td>\n",
       "      <td>172.16.0.1</td>\n",
       "      <td>42006</td>\n",
       "      <td>192.168.10.50</td>\n",
       "      <td>445</td>\n",
       "      <td>6</td>\n",
       "      <td>7/7/2017 3:23</td>\n",
       "      <td>6026748</td>\n",
       "      <td>5</td>\n",
       "      <td>3</td>\n",
       "      <td>...</td>\n",
       "      <td>32</td>\n",
       "      <td>596.0</td>\n",
       "      <td>0.0</td>\n",
       "      <td>596.0</td>\n",
       "      <td>596.0</td>\n",
       "      <td>6006327.0</td>\n",
       "      <td>0.0</td>\n",
       "      <td>6006327.0</td>\n",
       "      <td>6006327.0</td>\n",
       "      <td>PortScan</td>\n",
       "    </tr>\n",
       "    <tr>\n",
       "      <th>504718</th>\n",
       "      <td>172.16.0.1-192.168.10.50-57546-80-6</td>\n",
       "      <td>172.16.0.1</td>\n",
       "      <td>57546</td>\n",
       "      <td>192.168.10.50</td>\n",
       "      <td>80</td>\n",
       "      <td>6</td>\n",
       "      <td>7/7/2017 3:23</td>\n",
       "      <td>6007698</td>\n",
       "      <td>3</td>\n",
       "      <td>6</td>\n",
       "      <td>...</td>\n",
       "      <td>32</td>\n",
       "      <td>606.0</td>\n",
       "      <td>0.0</td>\n",
       "      <td>606.0</td>\n",
       "      <td>606.0</td>\n",
       "      <td>6006317.0</td>\n",
       "      <td>0.0</td>\n",
       "      <td>6006317.0</td>\n",
       "      <td>6006317.0</td>\n",
       "      <td>PortScan</td>\n",
       "    </tr>\n",
       "    <tr>\n",
       "      <th>504719</th>\n",
       "      <td>172.16.0.1-192.168.10.50-49768-139-6</td>\n",
       "      <td>172.16.0.1</td>\n",
       "      <td>49768</td>\n",
       "      <td>192.168.10.50</td>\n",
       "      <td>139</td>\n",
       "      <td>6</td>\n",
       "      <td>7/7/2017 3:23</td>\n",
       "      <td>8439702</td>\n",
       "      <td>4</td>\n",
       "      <td>2</td>\n",
       "      <td>...</td>\n",
       "      <td>32</td>\n",
       "      <td>598.0</td>\n",
       "      <td>0.0</td>\n",
       "      <td>598.0</td>\n",
       "      <td>598.0</td>\n",
       "      <td>6006325.0</td>\n",
       "      <td>0.0</td>\n",
       "      <td>6006325.0</td>\n",
       "      <td>6006325.0</td>\n",
       "      <td>PortScan</td>\n",
       "    </tr>\n",
       "    <tr>\n",
       "      <th>504729</th>\n",
       "      <td>172.16.0.1-192.168.10.50-44870-2000-6</td>\n",
       "      <td>172.16.0.1</td>\n",
       "      <td>44870</td>\n",
       "      <td>192.168.10.50</td>\n",
       "      <td>2000</td>\n",
       "      <td>6</td>\n",
       "      <td>7/7/2017 3:23</td>\n",
       "      <td>57</td>\n",
       "      <td>1</td>\n",
       "      <td>1</td>\n",
       "      <td>...</td>\n",
       "      <td>40</td>\n",
       "      <td>0.0</td>\n",
       "      <td>0.0</td>\n",
       "      <td>0.0</td>\n",
       "      <td>0.0</td>\n",
       "      <td>0.0</td>\n",
       "      <td>0.0</td>\n",
       "      <td>0.0</td>\n",
       "      <td>0.0</td>\n",
       "      <td>PortScan</td>\n",
       "    </tr>\n",
       "    <tr>\n",
       "      <th>504833</th>\n",
       "      <td>172.16.0.1-192.168.10.50-57546-80-6</td>\n",
       "      <td>172.16.0.1</td>\n",
       "      <td>57546</td>\n",
       "      <td>192.168.10.50</td>\n",
       "      <td>80</td>\n",
       "      <td>6</td>\n",
       "      <td>7/7/2017 3:23</td>\n",
       "      <td>18632</td>\n",
       "      <td>5</td>\n",
       "      <td>0</td>\n",
       "      <td>...</td>\n",
       "      <td>32</td>\n",
       "      <td>0.0</td>\n",
       "      <td>0.0</td>\n",
       "      <td>0.0</td>\n",
       "      <td>0.0</td>\n",
       "      <td>0.0</td>\n",
       "      <td>0.0</td>\n",
       "      <td>0.0</td>\n",
       "      <td>0.0</td>\n",
       "      <td>PortScan</td>\n",
       "    </tr>\n",
       "  </tbody>\n",
       "</table>\n",
       "<p>158930 rows × 85 columns</p>\n",
       "</div>"
      ],
      "text/plain": [
       "                                      Flow ID   Source IP   Source Port  \\\n",
       "227208    172.16.0.1-192.168.10.50-40620-80-6  172.16.0.1         40620   \n",
       "227212    172.16.0.1-192.168.10.50-40620-80-6  172.16.0.1         40620   \n",
       "227213    172.16.0.1-192.168.10.50-40622-80-6  172.16.0.1         40622   \n",
       "227225    172.16.0.1-192.168.10.50-40622-80-6  172.16.0.1         40622   \n",
       "227256    172.16.0.1-192.168.10.50-40626-80-6  172.16.0.1         40626   \n",
       "...                                       ...         ...           ...   \n",
       "504717   172.16.0.1-192.168.10.50-42006-445-6  172.16.0.1         42006   \n",
       "504718    172.16.0.1-192.168.10.50-57546-80-6  172.16.0.1         57546   \n",
       "504719   172.16.0.1-192.168.10.50-49768-139-6  172.16.0.1         49768   \n",
       "504729  172.16.0.1-192.168.10.50-44870-2000-6  172.16.0.1         44870   \n",
       "504833    172.16.0.1-192.168.10.50-57546-80-6  172.16.0.1         57546   \n",
       "\n",
       "        Destination IP   Destination Port   Protocol      Timestamp  \\\n",
       "227208   192.168.10.50                 80          6  7/7/2017 1:05   \n",
       "227212   192.168.10.50                 80          6  7/7/2017 1:05   \n",
       "227213   192.168.10.50                 80          6  7/7/2017 1:05   \n",
       "227225   192.168.10.50                 80          6  7/7/2017 1:05   \n",
       "227256   192.168.10.50                 80          6  7/7/2017 1:05   \n",
       "...                ...                ...        ...            ...   \n",
       "504717   192.168.10.50                445          6  7/7/2017 3:23   \n",
       "504718   192.168.10.50                 80          6  7/7/2017 3:23   \n",
       "504719   192.168.10.50                139          6  7/7/2017 3:23   \n",
       "504729   192.168.10.50               2000          6  7/7/2017 3:23   \n",
       "504833   192.168.10.50                 80          6  7/7/2017 3:23   \n",
       "\n",
       "         Flow Duration   Total Fwd Packets   Total Backward Packets  ...  \\\n",
       "227208         5021059                   6                        5  ...   \n",
       "227212              70                   1                        1  ...   \n",
       "227213         5024211                   6                        5  ...   \n",
       "227225              52                   1                        1  ...   \n",
       "227256         5386396                   3                        1  ...   \n",
       "...                ...                 ...                      ...  ...   \n",
       "504717         6026748                   5                        3  ...   \n",
       "504718         6007698                   3                        6  ...   \n",
       "504719         8439702                   4                        2  ...   \n",
       "504729              57                   1                        1  ...   \n",
       "504833           18632                   5                        0  ...   \n",
       "\n",
       "         min_seg_size_forward  Active Mean   Active Std   Active Max  \\\n",
       "227208                     32          0.0          0.0          0.0   \n",
       "227212                     32          0.0          0.0          0.0   \n",
       "227213                     32          0.0          0.0          0.0   \n",
       "227225                     32          0.0          0.0          0.0   \n",
       "227256                     32          0.0          0.0          0.0   \n",
       "...                       ...          ...          ...          ...   \n",
       "504717                     32        596.0          0.0        596.0   \n",
       "504718                     32        606.0          0.0        606.0   \n",
       "504719                     32        598.0          0.0        598.0   \n",
       "504729                     40          0.0          0.0          0.0   \n",
       "504833                     32          0.0          0.0          0.0   \n",
       "\n",
       "         Active Min  Idle Mean   Idle Std   Idle Max   Idle Min     Label  \n",
       "227208          0.0        0.0        0.0        0.0        0.0  PortScan  \n",
       "227212          0.0        0.0        0.0        0.0        0.0  PortScan  \n",
       "227213          0.0        0.0        0.0        0.0        0.0  PortScan  \n",
       "227225          0.0        0.0        0.0        0.0        0.0  PortScan  \n",
       "227256          0.0        0.0        0.0        0.0        0.0  PortScan  \n",
       "...             ...        ...        ...        ...        ...       ...  \n",
       "504717        596.0  6006327.0        0.0  6006327.0  6006327.0  PortScan  \n",
       "504718        606.0  6006317.0        0.0  6006317.0  6006317.0  PortScan  \n",
       "504719        598.0  6006325.0        0.0  6006325.0  6006325.0  PortScan  \n",
       "504729          0.0        0.0        0.0        0.0        0.0  PortScan  \n",
       "504833          0.0        0.0        0.0        0.0        0.0  PortScan  \n",
       "\n",
       "[158930 rows x 85 columns]"
      ]
     },
     "execution_count": 44,
     "metadata": {},
     "output_type": "execute_result"
    }
   ],
   "source": [
    "cic[cic[\" Label\"].apply(lambda x: True if x.casefold() in targetText else False)]"
   ]
  },
  {
   "cell_type": "code",
   "execution_count": 19,
   "id": "488ddcb5-5147-48de-abd3-d25085d37460",
   "metadata": {},
   "outputs": [
    {
     "data": {
      "text/plain": [
       "0    1\n",
       "1    1\n",
       "2    1\n",
       "3    0\n",
       "dtype: int64"
      ]
     },
     "execution_count": 19,
     "metadata": {},
     "output_type": "execute_result"
    }
   ],
   "source": [
    "targetText = [\"reconnaissance\", \"portscan\", \"scanning\"]\n",
    "y = [\"reconnaissance\", \"portscan\", \"scanning\", \"lero\"]\n",
    "y = pd.Series(y)\n",
    "y.apply(lambda x: 1 if x.casefold() in targetText else 0)"
   ]
  },
  {
   "cell_type": "code",
   "execution_count": 51,
   "id": "d5179762-d8cd-4fa5-9cdc-b3410f741129",
   "metadata": {},
   "outputs": [
    {
     "data": {
      "text/plain": [
       "array(['BENIGN', 'DDoS', 'PortScan', 'Bot'], dtype=object)"
      ]
     },
     "execution_count": 51,
     "metadata": {},
     "output_type": "execute_result"
    }
   ],
   "source": [
    "cic[\" Label\"].unique()"
   ]
  },
  {
   "cell_type": "code",
   "execution_count": 5,
   "id": "ef13f4ea-4065-44de-9af2-b4e48ac38bf0",
   "metadata": {},
   "outputs": [
    {
     "data": {
      "text/plain": [
       "{'mean_fit_time': array([1856.97490556]),\n",
       " 'std_fit_time': array([403.78173613]),\n",
       " 'mean_score_time': array([4.58511491]),\n",
       " 'std_score_time': array([3.46067176]),\n",
       " 'params': [{}],\n",
       " 'split0_test_score': array([0.91514413]),\n",
       " 'split1_test_score': array([0.91331963]),\n",
       " 'split2_test_score': array([0.91284748]),\n",
       " 'split3_test_score': array([0.91535834]),\n",
       " 'split4_test_score': array([0.9146174]),\n",
       " 'split5_test_score': array([0.91331752]),\n",
       " 'split6_test_score': array([0.91283044]),\n",
       " 'split7_test_score': array([0.9151981]),\n",
       " 'split8_test_score': array([0.91098792]),\n",
       " 'split9_test_score': array([0.9164557]),\n",
       " 'mean_test_score': array([0.91400767]),\n",
       " 'std_test_score': array([0.00153942]),\n",
       " 'rank_test_score': array([1])}"
      ]
     },
     "execution_count": 5,
     "metadata": {},
     "output_type": "execute_result"
    }
   ],
   "source": [
    "teste.cv_results_"
   ]
  },
  {
   "cell_type": "code",
   "execution_count": 12,
   "id": "ca2bfc48-1d0f-4fd3-a290-5ad0b72bdebc",
   "metadata": {},
   "outputs": [
    {
     "ename": "KeyError",
     "evalue": "'split*'",
     "output_type": "error",
     "traceback": [
      "\u001b[1;31m---------------------------------------------------------------------------\u001b[0m",
      "\u001b[1;31mKeyError\u001b[0m                                  Traceback (most recent call last)",
      "\u001b[1;32m<ipython-input-12-b98be07ea4bc>\u001b[0m in \u001b[0;36m<module>\u001b[1;34m\u001b[0m\n\u001b[1;32m----> 1\u001b[1;33m \u001b[0mteste\u001b[0m\u001b[1;33m.\u001b[0m\u001b[0mcv_results_\u001b[0m\u001b[1;33m[\u001b[0m\u001b[1;34m\"split*\"\u001b[0m\u001b[1;33m]\u001b[0m\u001b[1;33m[\u001b[0m\u001b[1;36m0\u001b[0m\u001b[1;33m]\u001b[0m\u001b[1;33m\u001b[0m\u001b[1;33m\u001b[0m\u001b[0m\n\u001b[0m",
      "\u001b[1;31mKeyError\u001b[0m: 'split*'"
     ]
    }
   ],
   "source": [
    "teste.cv_results_[\"split\"][0]"
   ]
  },
  {
   "cell_type": "code",
   "execution_count": null,
   "id": "8a85f6c2-5313-4c53-9680-6289a41c6778",
   "metadata": {},
   "outputs": [],
   "source": [
    "\"\\begin{table}[H]\\n\\tab\\centering\\n\\tab\\caption{F1 score of each dataset with best model}\\n\\tab\\label{tab:f1_cross_datasets}\\n\\tab\\begin{tabular}{ c | c | c | c | c | c | c}{$DATASET$} & {$ML$} & {$AB-TRAP$}  & {$CIC-IDS$}  & {$IoT$}  & {$BoT$} & {$NB-15$}  \\\\\\n\\tab\\tabAB-TRAP     & MLP & - & +8.872 & 16.128 & 1.402 & 1.373 \\\\\\n\\tab\\tabCIC-IDS     & SVM & 3.442  & - & 3.442  & 0.299 & 0.343  \\\\\\n\\tab\\tabIoT     & KNN & 1.826  & -0.363 & -  & 0.159 & 0.119 \\\\\\n\\tab\\tabBoT     & XGB & 0.993  & -0.429 & 0.993  & - & 0.08     \\\\ \\n\\tab\\tabNB-15     & DT & 0.598  & -0.597 & 0.598  & 0.052 & - \\\\\\n\\tab\\end{tabular}\\n\\end{table}\""
   ]
  },
  {
   "cell_type": "code",
   "execution_count": 2,
   "id": "5c904159-b3ad-4280-9ced-0545bdf24fbf",
   "metadata": {},
   "outputs": [],
   "source": [
    "pcapType = {0:\"output\", 1:\"NB15_\", 2:\"WorkingHours\", 3:\"ToN-IoT\", 4:\"BoT-IoT\"}\n",
    "datasetType = {0:\"_NB15.csv\", 1:\"_CIC.csv\"}\n",
    "\n",
    "## Select PCAP and dataset types\n",
    "#\n",
    "# pcapType 0: MAWILab\n",
    "# pcapType 1: UNSW_NB15\n",
    "# pcapType 2: CIC-IDS\n",
    "# pcapType 3: ToN-IoT\n",
    "# pcapType 4: BoT-IoT\n",
    "#\n",
    "# datasetType 0: UNSW_NB15\n",
    "# datasetType 1: CIC-IDS\n",
    "##\n",
    "\n",
    "pcapTypeNum = 0\n",
    "datasetTypeNum = 1\n",
    "\n",
    "# Select maximum number of files to load\n",
    "maxNumFiles = 48"
   ]
  },
  {
   "cell_type": "code",
   "execution_count": 27,
   "id": "8f927aca-644b-421b-9eaa-4f7a2bb07e7e",
   "metadata": {},
   "outputs": [
    {
     "data": {
      "text/plain": [
       "False"
      ]
     },
     "execution_count": 27,
     "metadata": {},
     "output_type": "execute_result"
    }
   ],
   "source": [
    "lero = {0: \"bla\", 1:\"lero\"}\n",
    "bla = list(lero)\n",
    "bla.append(2)\n",
    "[x for x in bla[0:3] if x not in lero.keys()] == []"
   ]
  },
  {
   "cell_type": "code",
   "execution_count": 8,
   "id": "fe502cbe-a1e4-4118-909b-a082b4ba98e4",
   "metadata": {},
   "outputs": [],
   "source": [
    "lero = pd.read_csv(\"./dataset/1_CIC.csv\", sep=',')"
   ]
  },
  {
   "cell_type": "code",
   "execution_count": 26,
   "id": "7a307627-4a6b-4a07-a5bb-fd8847c1e857",
   "metadata": {},
   "outputs": [
    {
     "data": {
      "text/plain": [
       "array(['src_ip', 'dst_ip', 'src_port', 'dst_port', 'protocol',\n",
       "       'timestamp', 'flow_duration', 'flow_byts_s', 'flow_pkts_s',\n",
       "       'fwd_pkts_s', 'bwd_pkts_s', 'tot_fwd_pkts', 'tot_bwd_pkts',\n",
       "       'totlen_fwd_pkts', 'totlen_bwd_pkts', 'fwd_pkt_len_max',\n",
       "       'fwd_pkt_len_min', 'fwd_pkt_len_mean', 'fwd_pkt_len_std',\n",
       "       'bwd_pkt_len_max', 'bwd_pkt_len_min', 'bwd_pkt_len_mean',\n",
       "       'bwd_pkt_len_std', 'pkt_len_max', 'pkt_len_min', 'pkt_len_mean',\n",
       "       'pkt_len_std', 'pkt_len_var', 'fwd_header_len', 'bwd_header_len',\n",
       "       'fwd_seg_size_min', 'fwd_act_data_pkts', 'flow_iat_mean',\n",
       "       'flow_iat_max', 'flow_iat_min', 'flow_iat_std', 'fwd_iat_tot',\n",
       "       'fwd_iat_max', 'fwd_iat_min', 'fwd_iat_mean', 'fwd_iat_std',\n",
       "       'bwd_iat_tot', 'bwd_iat_max', 'bwd_iat_min', 'bwd_iat_mean',\n",
       "       'bwd_iat_std', 'fwd_psh_flags', 'bwd_psh_flags', 'fwd_urg_flags',\n",
       "       'bwd_urg_flags', 'fin_flag_cnt', 'syn_flag_cnt', 'rst_flag_cnt',\n",
       "       'psh_flag_cnt', 'ack_flag_cnt', 'urg_flag_cnt', 'ece_flag_cnt',\n",
       "       'down_up_ratio', 'pkt_size_avg', 'init_fwd_win_byts',\n",
       "       'init_bwd_win_byts', 'active_max', 'active_min', 'active_mean',\n",
       "       'active_std', 'idle_max', 'idle_min', 'idle_mean', 'idle_std',\n",
       "       'fwd_byts_b_avg', 'fwd_pkts_b_avg', 'bwd_byts_b_avg',\n",
       "       'bwd_pkts_b_avg', 'fwd_blk_rate_avg', 'bwd_blk_rate_avg',\n",
       "       'fwd_seg_size_avg', 'bwd_seg_size_avg', 'cwe_flag_count',\n",
       "       'subflow_fwd_pkts', 'subflow_bwd_pkts', 'subflow_fwd_byts',\n",
       "       'subflow_bwd_byts', 'flow_ID', 'Label'], dtype=object)"
      ]
     },
     "execution_count": 26,
     "metadata": {},
     "output_type": "execute_result"
    }
   ],
   "source": [
    "lero.columns.values"
   ]
  },
  {
   "cell_type": "code",
   "execution_count": 8,
   "id": "17390684-2c7e-4ea3-b2e9-267c40539245",
   "metadata": {},
   "outputs": [
    {
     "ename": "TypeError",
     "evalue": "write() argument must be str, not list",
     "output_type": "error",
     "traceback": [
      "\u001b[1;31m---------------------------------------------------------------------------\u001b[0m",
      "\u001b[1;31mTypeError\u001b[0m                                 Traceback (most recent call last)",
      "\u001b[1;32m<ipython-input-8-cfddaea7652c>\u001b[0m in \u001b[0;36m<module>\u001b[1;34m\u001b[0m\n\u001b[0;32m      1\u001b[0m \u001b[0mlero\u001b[0m \u001b[1;33m=\u001b[0m \u001b[1;33m[\u001b[0m\u001b[1;34m\"texto1\"\u001b[0m\u001b[1;33m,\u001b[0m\u001b[1;34m\"texto2\"\u001b[0m\u001b[1;33m,\u001b[0m\u001b[1;34m\"texto3\"\u001b[0m\u001b[1;33m]\u001b[0m\u001b[1;33m\u001b[0m\u001b[1;33m\u001b[0m\u001b[0m\n\u001b[0;32m      2\u001b[0m \u001b[0mfeatFile\u001b[0m \u001b[1;33m=\u001b[0m \u001b[0mopen\u001b[0m\u001b[1;33m(\u001b[0m\u001b[1;34m\"./teste.txt\"\u001b[0m\u001b[1;33m,\u001b[0m\u001b[1;34m\"w\"\u001b[0m\u001b[1;33m)\u001b[0m\u001b[1;33m\u001b[0m\u001b[1;33m\u001b[0m\u001b[0m\n\u001b[1;32m----> 3\u001b[1;33m \u001b[0mfeatFile\u001b[0m\u001b[1;33m.\u001b[0m\u001b[0mwrite\u001b[0m\u001b[1;33m(\u001b[0m\u001b[0mlero\u001b[0m\u001b[1;33m)\u001b[0m\u001b[1;33m\u001b[0m\u001b[1;33m\u001b[0m\u001b[0m\n\u001b[0m\u001b[0;32m      4\u001b[0m \u001b[0mfeatFile\u001b[0m\u001b[1;33m.\u001b[0m\u001b[0mclose\u001b[0m\u001b[1;33m(\u001b[0m\u001b[1;33m)\u001b[0m\u001b[1;33m\u001b[0m\u001b[1;33m\u001b[0m\u001b[0m\n",
      "\u001b[1;31mTypeError\u001b[0m: write() argument must be str, not list"
     ]
    }
   ],
   "source": [
    "lero = [\"texto1\",\"texto2\",\"texto3\"]\n",
    "featFile = open(\"./teste.txt\",\"w\")\n",
    "featFile.write(\"{:}\".format(lero))\n",
    "featFile.close()"
   ]
  },
  {
   "cell_type": "code",
   "execution_count": null,
   "id": "d4ef666d-595a-4c88-a21f-ed85219f8e81",
   "metadata": {},
   "outputs": [],
   "source": []
  }
 ],
 "metadata": {
  "kernelspec": {
   "display_name": "Python 3",
   "language": "python",
   "name": "python3"
  },
  "language_info": {
   "codemirror_mode": {
    "name": "ipython",
    "version": 3
   },
   "file_extension": ".py",
   "mimetype": "text/x-python",
   "name": "python",
   "nbconvert_exporter": "python",
   "pygments_lexer": "ipython3",
   "version": "3.8.8"
  }
 },
 "nbformat": 4,
 "nbformat_minor": 5
}
