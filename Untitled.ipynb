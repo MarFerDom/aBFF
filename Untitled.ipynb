{
 "cells": [
  {
   "cell_type": "code",
   "execution_count": 1,
   "id": "ff5636b9-f684-4424-9a99-b0f2c897a53e",
   "metadata": {},
   "outputs": [],
   "source": [
    "import os\n",
    "import pandas as pd\n",
    "import numpy as np"
   ]
  },
  {
   "cell_type": "code",
   "execution_count": 2,
   "id": "5c904159-b3ad-4280-9ced-0545bdf24fbf",
   "metadata": {},
   "outputs": [],
   "source": [
    "pcapType = {0:\"output\", 1:\"NB15_\", 2:\"WorkingHours\", 3:\"ToN-IoT\", 4:\"BoT-IoT\"}\n",
    "datasetType = {0:\"_NB15.csv\", 1:\"_CIC.csv\"}\n",
    "\n",
    "## Select PCAP and dataset types\n",
    "#\n",
    "# pcapType 0: MAWILab\n",
    "# pcapType 1: UNSW_NB15\n",
    "# pcapType 2: CIC-IDS\n",
    "# pcapType 3: ToN-IoT\n",
    "# pcapType 4: BoT-IoT\n",
    "#\n",
    "# datasetType 0: UNSW_NB15\n",
    "# datasetType 1: CIC-IDS\n",
    "##\n",
    "\n",
    "pcapTypeNum = 0\n",
    "datasetTypeNum = 1\n",
    "\n",
    "# Select maximum number of files to load\n",
    "maxNumFiles = 48"
   ]
  },
  {
   "cell_type": "code",
   "execution_count": 3,
   "id": "4d5601fd-5eb7-48d1-8e86-0b4a700d2eb8",
   "metadata": {},
   "outputs": [],
   "source": [
    "files = [s for s in os.listdir(\"./dataset/\") if (datasetType[datasetTypeNum] in s and pcapType[pcapTypeNum] in s)]"
   ]
  },
  {
   "cell_type": "code",
   "execution_count": 27,
   "id": "8f927aca-644b-421b-9eaa-4f7a2bb07e7e",
   "metadata": {},
   "outputs": [
    {
     "data": {
      "text/plain": [
       "False"
      ]
     },
     "execution_count": 27,
     "metadata": {},
     "output_type": "execute_result"
    }
   ],
   "source": [
    "lero = {0: \"bla\", 1:\"lero\"}\n",
    "bla = list(lero)\n",
    "bla.append(2)\n",
    "[x for x in bla[0:3] if x not in lero.keys()] == []"
   ]
  },
  {
   "cell_type": "code",
   "execution_count": 8,
   "id": "fe502cbe-a1e4-4118-909b-a082b4ba98e4",
   "metadata": {},
   "outputs": [],
   "source": [
    "lero = pd.read_csv(\"./dataset/1_CIC.csv\", sep=',')"
   ]
  },
  {
   "cell_type": "code",
   "execution_count": 26,
   "id": "7a307627-4a6b-4a07-a5bb-fd8847c1e857",
   "metadata": {},
   "outputs": [
    {
     "data": {
      "text/plain": [
       "array(['src_ip', 'dst_ip', 'src_port', 'dst_port', 'protocol',\n",
       "       'timestamp', 'flow_duration', 'flow_byts_s', 'flow_pkts_s',\n",
       "       'fwd_pkts_s', 'bwd_pkts_s', 'tot_fwd_pkts', 'tot_bwd_pkts',\n",
       "       'totlen_fwd_pkts', 'totlen_bwd_pkts', 'fwd_pkt_len_max',\n",
       "       'fwd_pkt_len_min', 'fwd_pkt_len_mean', 'fwd_pkt_len_std',\n",
       "       'bwd_pkt_len_max', 'bwd_pkt_len_min', 'bwd_pkt_len_mean',\n",
       "       'bwd_pkt_len_std', 'pkt_len_max', 'pkt_len_min', 'pkt_len_mean',\n",
       "       'pkt_len_std', 'pkt_len_var', 'fwd_header_len', 'bwd_header_len',\n",
       "       'fwd_seg_size_min', 'fwd_act_data_pkts', 'flow_iat_mean',\n",
       "       'flow_iat_max', 'flow_iat_min', 'flow_iat_std', 'fwd_iat_tot',\n",
       "       'fwd_iat_max', 'fwd_iat_min', 'fwd_iat_mean', 'fwd_iat_std',\n",
       "       'bwd_iat_tot', 'bwd_iat_max', 'bwd_iat_min', 'bwd_iat_mean',\n",
       "       'bwd_iat_std', 'fwd_psh_flags', 'bwd_psh_flags', 'fwd_urg_flags',\n",
       "       'bwd_urg_flags', 'fin_flag_cnt', 'syn_flag_cnt', 'rst_flag_cnt',\n",
       "       'psh_flag_cnt', 'ack_flag_cnt', 'urg_flag_cnt', 'ece_flag_cnt',\n",
       "       'down_up_ratio', 'pkt_size_avg', 'init_fwd_win_byts',\n",
       "       'init_bwd_win_byts', 'active_max', 'active_min', 'active_mean',\n",
       "       'active_std', 'idle_max', 'idle_min', 'idle_mean', 'idle_std',\n",
       "       'fwd_byts_b_avg', 'fwd_pkts_b_avg', 'bwd_byts_b_avg',\n",
       "       'bwd_pkts_b_avg', 'fwd_blk_rate_avg', 'bwd_blk_rate_avg',\n",
       "       'fwd_seg_size_avg', 'bwd_seg_size_avg', 'cwe_flag_count',\n",
       "       'subflow_fwd_pkts', 'subflow_bwd_pkts', 'subflow_fwd_byts',\n",
       "       'subflow_bwd_byts', 'flow_ID', 'Label'], dtype=object)"
      ]
     },
     "execution_count": 26,
     "metadata": {},
     "output_type": "execute_result"
    }
   ],
   "source": [
    "lero.columns.values"
   ]
  },
  {
   "cell_type": "code",
   "execution_count": 12,
   "id": "a077a3f6-d55d-4719-b8c3-1ac629eee825",
   "metadata": {},
   "outputs": [],
   "source": [
    "from joblib import dump, load\n",
    "teste = load('./ML-output/FirstTry/best.joblib')"
   ]
  },
  {
   "cell_type": "code",
   "execution_count": 25,
   "id": "ef13f4ea-4065-44de-9af2-b4e48ac38bf0",
   "metadata": {},
   "outputs": [
    {
     "ename": "AttributeError",
     "evalue": "'GridSearchCV' object has no attribute 'feature_names_in_'",
     "output_type": "error",
     "traceback": [
      "\u001b[1;31m---------------------------------------------------------------------------\u001b[0m",
      "\u001b[1;31mAttributeError\u001b[0m                            Traceback (most recent call last)",
      "\u001b[1;32m<ipython-input-25-61c2aae36fd0>\u001b[0m in \u001b[0;36m<module>\u001b[1;34m\u001b[0m\n\u001b[1;32m----> 1\u001b[1;33m \u001b[0mteste\u001b[0m\u001b[1;33m.\u001b[0m\u001b[0mfeature_names_in_\u001b[0m\u001b[1;33m\u001b[0m\u001b[1;33m\u001b[0m\u001b[0m\n\u001b[0m",
      "\u001b[1;31mAttributeError\u001b[0m: 'GridSearchCV' object has no attribute 'feature_names_in_'"
     ]
    }
   ],
   "source": [
    "teste.feature_names_in_"
   ]
  },
  {
   "cell_type": "code",
   "execution_count": 8,
   "id": "17390684-2c7e-4ea3-b2e9-267c40539245",
   "metadata": {},
   "outputs": [
    {
     "ename": "TypeError",
     "evalue": "write() argument must be str, not list",
     "output_type": "error",
     "traceback": [
      "\u001b[1;31m---------------------------------------------------------------------------\u001b[0m",
      "\u001b[1;31mTypeError\u001b[0m                                 Traceback (most recent call last)",
      "\u001b[1;32m<ipython-input-8-cfddaea7652c>\u001b[0m in \u001b[0;36m<module>\u001b[1;34m\u001b[0m\n\u001b[0;32m      1\u001b[0m \u001b[0mlero\u001b[0m \u001b[1;33m=\u001b[0m \u001b[1;33m[\u001b[0m\u001b[1;34m\"texto1\"\u001b[0m\u001b[1;33m,\u001b[0m\u001b[1;34m\"texto2\"\u001b[0m\u001b[1;33m,\u001b[0m\u001b[1;34m\"texto3\"\u001b[0m\u001b[1;33m]\u001b[0m\u001b[1;33m\u001b[0m\u001b[1;33m\u001b[0m\u001b[0m\n\u001b[0;32m      2\u001b[0m \u001b[0mfeatFile\u001b[0m \u001b[1;33m=\u001b[0m \u001b[0mopen\u001b[0m\u001b[1;33m(\u001b[0m\u001b[1;34m\"./teste.txt\"\u001b[0m\u001b[1;33m,\u001b[0m\u001b[1;34m\"w\"\u001b[0m\u001b[1;33m)\u001b[0m\u001b[1;33m\u001b[0m\u001b[1;33m\u001b[0m\u001b[0m\n\u001b[1;32m----> 3\u001b[1;33m \u001b[0mfeatFile\u001b[0m\u001b[1;33m.\u001b[0m\u001b[0mwrite\u001b[0m\u001b[1;33m(\u001b[0m\u001b[0mlero\u001b[0m\u001b[1;33m)\u001b[0m\u001b[1;33m\u001b[0m\u001b[1;33m\u001b[0m\u001b[0m\n\u001b[0m\u001b[0;32m      4\u001b[0m \u001b[0mfeatFile\u001b[0m\u001b[1;33m.\u001b[0m\u001b[0mclose\u001b[0m\u001b[1;33m(\u001b[0m\u001b[1;33m)\u001b[0m\u001b[1;33m\u001b[0m\u001b[1;33m\u001b[0m\u001b[0m\n",
      "\u001b[1;31mTypeError\u001b[0m: write() argument must be str, not list"
     ]
    }
   ],
   "source": [
    "lero = [\"texto1\",\"texto2\",\"texto3\"]\n",
    "featFile = open(\"./teste.txt\",\"w\")\n",
    "featFile.write(\"{:}\".format(lero))\n",
    "featFile.close()"
   ]
  },
  {
   "cell_type": "code",
   "execution_count": null,
   "id": "d4ef666d-595a-4c88-a21f-ed85219f8e81",
   "metadata": {},
   "outputs": [],
   "source": []
  }
 ],
 "metadata": {
  "kernelspec": {
   "display_name": "Python 3",
   "language": "python",
   "name": "python3"
  },
  "language_info": {
   "codemirror_mode": {
    "name": "ipython",
    "version": 3
   },
   "file_extension": ".py",
   "mimetype": "text/x-python",
   "name": "python",
   "nbconvert_exporter": "python",
   "pygments_lexer": "ipython3",
   "version": "3.8.8"
  }
 },
 "nbformat": 4,
 "nbformat_minor": 5
}
