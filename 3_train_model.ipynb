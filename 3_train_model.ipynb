{
 "cells": [
  {
   "cell_type": "markdown",
   "id": "ac047b22-0265-4372-a037-51f5e8f5c226",
   "metadata": {},
   "source": [
    "## Help"
   ]
  },
  {
   "cell_type": "code",
   "execution_count": 1,
   "id": "6e2e28db-4f17-4e48-ad93-8a251fd1e4d9",
   "metadata": {},
   "outputs": [
    {
     "name": "stdout",
     "output_type": "stream",
     "text": [
      "Usage: supportFiles/train_model.py <MAX_NUM_FILES> <FEATURE_SET> <PCAP_SOURCE> [\"KEEP\"] [\"SCAN_ALL\" (has precedence)] [\"SCAN_ONLY\"]\n",
      "Datasets available are :\n",
      " {0: 'output', 1: 'NB15_', 2: 'WorkingHours', 3: 'ToN-IoT', 4: 'BoT-IoT'}\n"
     ]
    }
   ],
   "source": [
    "%run supportFiles/train_model.py"
   ]
  },
  {
   "cell_type": "markdown",
   "id": "225c1c4a-c8b6-40c6-84d1-c385faa55da0",
   "metadata": {},
   "source": [
    "## Train ToN-IoT and BoT-IoT data sets models for scanning attack detection"
   ]
  },
  {
   "cell_type": "code",
   "execution_count": null,
   "id": "9f568375-1e24-4a6e-bd62-2a42f58aa469",
   "metadata": {
    "collapsed": true,
    "jupyter": {
     "outputs_hidden": true
    },
    "tags": []
   },
   "outputs": [
    {
     "name": "stdout",
     "output_type": "stream",
     "text": [
      "ToN-IoT and BoT-IoT only available in CIC dataset type\n",
      "No Overwrite selected. Skipping ML for existing joblib files\n",
      "Target Class: Scanning\\Reconnaissance selected\n",
      "Loading data set from existing file: ToN-IoT_CIC.csv\n",
      "reading file: \n",
      "2021-12-11 23:55:42\n",
      "training MLP from ToN-IoT_CIC\n",
      "\n",
      "2021-12-12 01:26:50\n",
      "training SVM from ToN-IoT_CIC\n",
      "\n",
      "2021-12-12 07:53:04\n",
      "training XGB from ToN-IoT_CIC\n",
      "\n",
      "2021-12-12 12:30:05\n",
      "training NB from ToN-IoT_CIC\n",
      "\n",
      "2021-12-12 12:32:23\n",
      "training LR from ToN-IoT_CIC\n",
      "\n",
      "2021-12-12 14:39:05\n",
      "training DT from ToN-IoT_CIC\n",
      "\n",
      "2021-12-12 17:18:25\n",
      "Done!\n",
      "\n",
      "ToN-IoT and BoT-IoT only available in CIC dataset type\n",
      "No Overwrite selected. Skipping ML for existing joblib files\n",
      "Target Class: Scanning\\Reconnaissance selected\n",
      "Not Found: building BoT-IoT_CIC.csv\n",
      "Flow count: 13428602\n",
      "2021-12-12 18:18:35\n",
      "Removed 0 lines of full NaN values\n",
      "\n",
      "Flow count: 13428602\n",
      "2021-12-12 18:43:17\n",
      "Removed 0 lines of NaN ID values\n",
      "\n",
      "Flow count: 13428602\n",
      "2021-12-12 18:51:10\n",
      "Removed 1033 lines with infinity valued features\n",
      "\n",
      "Flow count: 13427569\n",
      "2021-12-12 19:10:08\n",
      "Removed 0 duplicated lines\n",
      "\n",
      "Flow count: 13427569\n",
      "2021-12-12 19:57:50\n",
      "Total examples of 13427569 with 13338335 attacks and 89234 bonafide flows\n",
      "\n",
      "writing file: \n",
      "saving finalized dataset\n",
      "reading file: \n",
      "2021-12-12 20:42:23\n",
      "training MLP from BoT-IoT_CIC\n",
      "\n",
      "2021-12-13 02:36:00\n",
      "training SVM from BoT-IoT_CIC\n",
      "\n"
     ]
    }
   ],
   "source": [
    "%run supportFiles/train_model.py 96 1 3 \"KEEP\" \"SCAN_ALL\"\n",
    "%run supportFiles/train_model.py 96 1 4 \"KEEP\" \"SCAN_ALL\""
   ]
  },
  {
   "cell_type": "markdown",
   "id": "ae032418-2187-427f-8872-e3758353e7de",
   "metadata": {},
   "source": [
    "## Train AB-TRAP data set models for scanning attack detection"
   ]
  },
  {
   "cell_type": "code",
   "execution_count": null,
   "id": "e0035a4a-1f66-40de-bc24-e3bec58599b4",
   "metadata": {},
   "outputs": [
    {
     "name": "stdout",
     "output_type": "stream",
     "text": [
      "No Overwrite selected. Skipping ML for existing joblib files\n",
      "Target Class: Scanning\\Reconnaissance selected\n",
      "Loading data set from existing file: AB-TRAP_CIC.csv\n",
      "reading file: \n",
      "MLP not overwriten\n",
      "2021-12-15 10:07:00\n",
      "training XGB from AB-TRAP_CIC\n",
      "\n"
     ]
    }
   ],
   "source": [
    "%run supportFiles/train_model.py 96 1 0 \"KEEP\" \"SCAN_ALL\""
   ]
  },
  {
   "cell_type": "markdown",
   "id": "5548f548-ccad-4872-956b-017a281cdb59",
   "metadata": {},
   "source": [
    "## Train UNSW-NB15 data set models for scanning attack detection"
   ]
  },
  {
   "cell_type": "code",
   "execution_count": 1,
   "id": "8dfe851d-7f8d-4f15-b329-6884f4c88aa7",
   "metadata": {
    "collapsed": true,
    "jupyter": {
     "outputs_hidden": true
    },
    "tags": []
   },
   "outputs": [
    {
     "name": "stdout",
     "output_type": "stream",
     "text": [
      "Target Class: Scanning\\Reconnaissance selected\n",
      "Not Found: building NB15_CIC.csv\n",
      "Flow count: 38987\n",
      "2021-12-15 01:09:07\n",
      "Removed 0 lines of full NaN values\n",
      "\n",
      "Flow count: 38987\n",
      "2021-12-15 01:09:07\n",
      "Removed 0 lines of NaN ID values\n",
      "\n",
      "Flow count: 38987\n",
      "2021-12-15 01:09:07\n",
      "Removed 0 lines with infinity valued features\n",
      "\n",
      "Flow count: 38987\n",
      "2021-12-15 01:09:08\n",
      "Removed 0 duplicated lines\n",
      "\n",
      "Flow count: 38987\n",
      "2021-12-15 01:09:08\n",
      "Total examples of 38987 with 2312 attacks and 36675 bonafide flows\n",
      "\n",
      "writing file: \n",
      "saving finalized dataset\n",
      "reading file: \n",
      "2021-12-15 01:09:09\n",
      "training MLP from NB15_CIC\n",
      "\n",
      "2021-12-15 01:12:06\n",
      "training SVM from NB15_CIC\n",
      "\n",
      "2021-12-15 01:12:28\n",
      "training XGB from NB15_CIC\n",
      "\n",
      "2021-12-15 01:13:21\n",
      "training NB from NB15_CIC\n",
      "\n",
      "2021-12-15 01:13:22\n",
      "training LR from NB15_CIC\n",
      "\n",
      "2021-12-15 01:14:19\n",
      "training DT from NB15_CIC\n",
      "\n",
      "2021-12-15 01:14:53\n",
      "Done!\n",
      "\n"
     ]
    }
   ],
   "source": [
    "%run supportFiles/train_model.py 96 1 1 \"SCAN_ALL\""
   ]
  },
  {
   "cell_type": "markdown",
   "id": "220fe746-f092-4337-a334-64a951801317",
   "metadata": {},
   "source": [
    "## Train CIC-IDS data set models for scanning attack detection"
   ]
  },
  {
   "cell_type": "code",
   "execution_count": 3,
   "id": "16e1a28c-cd1f-4df8-a8eb-81df715b504f",
   "metadata": {},
   "outputs": [
    {
     "name": "stdout",
     "output_type": "stream",
     "text": [
      "No Overwrite selected. Skipping ML for existing joblib files\n",
      "Target Class: Scanning\\Reconnaissance selected\n",
      "Loading data set from existing file: CIC-IDS_CIC.csv\n",
      "reading file: \n",
      "training MLP from CIC-IDS_CIC\n",
      "2021-12-11 07:23:21\n",
      "training SVM from CIC-IDS_CIC\n",
      "2021-12-11 08:38:29\n",
      "training XGB from CIC-IDS_CIC\n",
      "2021-12-11 09:22:05\n",
      "[09:22:19] WARNING: C:/Users/Administrator/workspace/xgboost-win64_release_1.5.0/src/learner.cc:1115: Starting in XGBoost 1.3.0, the default evaluation metric used with the objective 'binary:logistic' was changed from 'error' to 'logloss'. Explicitly set eval_metric if you'd like to restore the old behavior.\n",
      "[09:32:08] WARNING: C:/Users/Administrator/workspace/xgboost-win64_release_1.5.0/src/learner.cc:1115: Starting in XGBoost 1.3.0, the default evaluation metric used with the objective 'binary:logistic' was changed from 'error' to 'logloss'. Explicitly set eval_metric if you'd like to restore the old behavior.\n",
      "[09:42:02] WARNING: C:/Users/Administrator/workspace/xgboost-win64_release_1.5.0/src/learner.cc:1115: Starting in XGBoost 1.3.0, the default evaluation metric used with the objective 'binary:logistic' was changed from 'error' to 'logloss'. Explicitly set eval_metric if you'd like to restore the old behavior.\n",
      "[09:51:55] WARNING: C:/Users/Administrator/workspace/xgboost-win64_release_1.5.0/src/learner.cc:1115: Starting in XGBoost 1.3.0, the default evaluation metric used with the objective 'binary:logistic' was changed from 'error' to 'logloss'. Explicitly set eval_metric if you'd like to restore the old behavior.\n",
      "[10:01:51] WARNING: C:/Users/Administrator/workspace/xgboost-win64_release_1.5.0/src/learner.cc:1115: Starting in XGBoost 1.3.0, the default evaluation metric used with the objective 'binary:logistic' was changed from 'error' to 'logloss'. Explicitly set eval_metric if you'd like to restore the old behavior.\n",
      "[10:11:44] WARNING: C:/Users/Administrator/workspace/xgboost-win64_release_1.5.0/src/learner.cc:1115: Starting in XGBoost 1.3.0, the default evaluation metric used with the objective 'binary:logistic' was changed from 'error' to 'logloss'. Explicitly set eval_metric if you'd like to restore the old behavior.\n",
      "[10:21:41] WARNING: C:/Users/Administrator/workspace/xgboost-win64_release_1.5.0/src/learner.cc:1115: Starting in XGBoost 1.3.0, the default evaluation metric used with the objective 'binary:logistic' was changed from 'error' to 'logloss'. Explicitly set eval_metric if you'd like to restore the old behavior.\n",
      "[10:31:37] WARNING: C:/Users/Administrator/workspace/xgboost-win64_release_1.5.0/src/learner.cc:1115: Starting in XGBoost 1.3.0, the default evaluation metric used with the objective 'binary:logistic' was changed from 'error' to 'logloss'. Explicitly set eval_metric if you'd like to restore the old behavior.\n",
      "[10:41:35] WARNING: C:/Users/Administrator/workspace/xgboost-win64_release_1.5.0/src/learner.cc:1115: Starting in XGBoost 1.3.0, the default evaluation metric used with the objective 'binary:logistic' was changed from 'error' to 'logloss'. Explicitly set eval_metric if you'd like to restore the old behavior.\n",
      "[10:51:31] WARNING: C:/Users/Administrator/workspace/xgboost-win64_release_1.5.0/src/learner.cc:1115: Starting in XGBoost 1.3.0, the default evaluation metric used with the objective 'binary:logistic' was changed from 'error' to 'logloss'. Explicitly set eval_metric if you'd like to restore the old behavior.\n",
      "[11:01:30] WARNING: C:/Users/Administrator/workspace/xgboost-win64_release_1.5.0/src/learner.cc:1115: Starting in XGBoost 1.3.0, the default evaluation metric used with the objective 'binary:logistic' was changed from 'error' to 'logloss'. Explicitly set eval_metric if you'd like to restore the old behavior.\n",
      "training NB from CIC-IDS_CIC\n",
      "2021-12-11 11:12:21\n",
      "training LR from CIC-IDS_CIC\n",
      "2021-12-11 11:13:11\n",
      "training DT from CIC-IDS_CIC\n",
      "2021-12-11 12:31:35\n"
     ]
    }
   ],
   "source": [
    "%run supportFiles/train_model.py 96 1 2 \"KEEP\" \"SCAN_ALL\"\n",
    "#<MAX_NUM_FILES> <DATASET_TYPE> <TRAINING_DATASET>"
   ]
  },
  {
   "cell_type": "code",
   "execution_count": null,
   "id": "0017a682-1221-4175-9152-bcf78a70baf0",
   "metadata": {},
   "outputs": [],
   "source": []
  }
 ],
 "metadata": {
  "kernelspec": {
   "display_name": "Python 3",
   "language": "python",
   "name": "python3"
  },
  "language_info": {
   "codemirror_mode": {
    "name": "ipython",
    "version": 3
   },
   "file_extension": ".py",
   "mimetype": "text/x-python",
   "name": "python",
   "nbconvert_exporter": "python",
   "pygments_lexer": "ipython3",
   "version": "3.8.8"
  }
 },
 "nbformat": 4,
 "nbformat_minor": 5
}
