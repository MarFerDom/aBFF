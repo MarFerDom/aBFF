{
 "cells": [
  {
   "cell_type": "code",
   "execution_count": null,
   "id": "8dfe851d-7f8d-4f15-b329-6884f4c88aa7",
   "metadata": {},
   "outputs": [
    {
     "name": "stdout",
     "output_type": "stream",
     "text": [
      "No Overwrite selected. Skipping ML for existing joblib files\n",
      "Total examples of 9310859 with 162023 attacks and 9148836 bonafide flows\n",
      "MLP not overwriten\n",
      "SVM not overwriten\n",
      "training KNN from output_CIC\n",
      "2021-12-01 06:37:16\n"
     ]
    }
   ],
   "source": [
    "%run supportFiles/train_model.py 96 1 0 \"KEEP\"\n",
    "#<MAX_NUM_FILES> <DATASET_TYPE> <TRAINING_DATASET>"
   ]
  },
  {
   "cell_type": "code",
   "execution_count": null,
   "id": "1037f7d2-f50d-41ae-aba5-db8057d3210d",
   "metadata": {},
   "outputs": [],
   "source": []
  }
 ],
 "metadata": {
  "kernelspec": {
   "display_name": "Python 3",
   "language": "python",
   "name": "python3"
  },
  "language_info": {
   "codemirror_mode": {
    "name": "ipython",
    "version": 3
   },
   "file_extension": ".py",
   "mimetype": "text/x-python",
   "name": "python",
   "nbconvert_exporter": "python",
   "pygments_lexer": "ipython3",
   "version": "3.8.8"
  }
 },
 "nbformat": 4,
 "nbformat_minor": 5
}
