{
 "cells": [
  {
   "cell_type": "markdown",
   "id": "ac047b22-0265-4372-a037-51f5e8f5c226",
   "metadata": {},
   "source": [
    "## Help"
   ]
  },
  {
   "cell_type": "code",
   "execution_count": 1,
   "id": "6e2e28db-4f17-4e48-ad93-8a251fd1e4d9",
   "metadata": {},
   "outputs": [
    {
     "name": "stdout",
     "output_type": "stream",
     "text": [
      "Usage: supportFiles/train_model.py <MAX_NUM_FILES> <FEATURE_SET> <PCAP_SOURCE> [\"KEEP\"] [\"SCAN_ALL\" (has precedence)] [\"SCAN_ONLY\"]\n",
      "Datasets available are :\n",
      " {0: 'output', 1: 'NB15_', 2: 'WorkingHours', 3: 'ToN-IoT', 4: 'BoT-IoT'}\n"
     ]
    }
   ],
   "source": [
    "%run supportFiles/train_model.py"
   ]
  },
  {
   "cell_type": "markdown",
   "id": "225c1c4a-c8b6-40c6-84d1-c385faa55da0",
   "metadata": {},
   "source": [
    "## Train AB-TRAP data set models for scanning attack detection"
   ]
  },
  {
   "cell_type": "code",
   "execution_count": null,
   "id": "e0035a4a-1f66-40de-bc24-e3bec58599b4",
   "metadata": {},
   "outputs": [],
   "source": [
    "%run supportFiles/train_model.py 96 1 0 \"KEEP\" \"SCAN_ALL\"\n",
    "#<MAX_NUM_FILES> <DATASET_TYPE> <TRAINING_DATASET>"
   ]
  },
  {
   "cell_type": "markdown",
   "id": "5548f548-ccad-4872-956b-017a281cdb59",
   "metadata": {},
   "source": [
    "## Train UNSW-NB15 data set models for scanning attack detection"
   ]
  },
  {
   "cell_type": "code",
   "execution_count": 4,
   "id": "8dfe851d-7f8d-4f15-b329-6884f4c88aa7",
   "metadata": {
    "tags": []
   },
   "outputs": [
    {
     "name": "stdout",
     "output_type": "stream",
     "text": [
      "No Overwrite selected. Skipping ML for existing joblib files\n",
      "Target Class: Scanning\\Reconnaissance selected\n",
      "Loading data set from existing file: NB15_CIC.csv\n",
      "reading file: \n",
      "MLP not overwriten\n",
      "training SVM from NB15_CIC\n",
      "2021-12-11 15:04:21\n",
      "Something went wrong with SVM from NB15_CIC\n",
      "training XGB from NB15_CIC\n",
      "2021-12-11 15:04:26\n",
      "[15:04:30] WARNING: C:/Users/Administrator/workspace/xgboost-win64_release_1.5.0/src/learner.cc:1115: Starting in XGBoost 1.3.0, the default evaluation metric used with the objective 'binary:logistic' was changed from 'error' to 'logloss'. Explicitly set eval_metric if you'd like to restore the old behavior.\n",
      "[15:05:16] WARNING: C:/Users/Administrator/workspace/xgboost-win64_release_1.5.0/src/learner.cc:1115: Starting in XGBoost 1.3.0, the default evaluation metric used with the objective 'binary:logistic' was changed from 'error' to 'logloss'. Explicitly set eval_metric if you'd like to restore the old behavior.\n",
      "[15:06:04] WARNING: C:/Users/Administrator/workspace/xgboost-win64_release_1.5.0/src/learner.cc:1115: Starting in XGBoost 1.3.0, the default evaluation metric used with the objective 'binary:logistic' was changed from 'error' to 'logloss'. Explicitly set eval_metric if you'd like to restore the old behavior.\n",
      "[15:06:52] WARNING: C:/Users/Administrator/workspace/xgboost-win64_release_1.5.0/src/learner.cc:1115: Starting in XGBoost 1.3.0, the default evaluation metric used with the objective 'binary:logistic' was changed from 'error' to 'logloss'. Explicitly set eval_metric if you'd like to restore the old behavior.\n",
      "[15:07:41] WARNING: C:/Users/Administrator/workspace/xgboost-win64_release_1.5.0/src/learner.cc:1115: Starting in XGBoost 1.3.0, the default evaluation metric used with the objective 'binary:logistic' was changed from 'error' to 'logloss'. Explicitly set eval_metric if you'd like to restore the old behavior.\n",
      "[15:08:29] WARNING: C:/Users/Administrator/workspace/xgboost-win64_release_1.5.0/src/learner.cc:1115: Starting in XGBoost 1.3.0, the default evaluation metric used with the objective 'binary:logistic' was changed from 'error' to 'logloss'. Explicitly set eval_metric if you'd like to restore the old behavior.\n",
      "[15:09:19] WARNING: C:/Users/Administrator/workspace/xgboost-win64_release_1.5.0/src/learner.cc:1115: Starting in XGBoost 1.3.0, the default evaluation metric used with the objective 'binary:logistic' was changed from 'error' to 'logloss'. Explicitly set eval_metric if you'd like to restore the old behavior.\n",
      "[15:10:07] WARNING: C:/Users/Administrator/workspace/xgboost-win64_release_1.5.0/src/learner.cc:1115: Starting in XGBoost 1.3.0, the default evaluation metric used with the objective 'binary:logistic' was changed from 'error' to 'logloss'. Explicitly set eval_metric if you'd like to restore the old behavior.\n",
      "[15:10:56] WARNING: C:/Users/Administrator/workspace/xgboost-win64_release_1.5.0/src/learner.cc:1115: Starting in XGBoost 1.3.0, the default evaluation metric used with the objective 'binary:logistic' was changed from 'error' to 'logloss'. Explicitly set eval_metric if you'd like to restore the old behavior.\n",
      "[15:11:46] WARNING: C:/Users/Administrator/workspace/xgboost-win64_release_1.5.0/src/learner.cc:1115: Starting in XGBoost 1.3.0, the default evaluation metric used with the objective 'binary:logistic' was changed from 'error' to 'logloss'. Explicitly set eval_metric if you'd like to restore the old behavior.\n",
      "[15:12:35] WARNING: C:/Users/Administrator/workspace/xgboost-win64_release_1.5.0/src/learner.cc:1115: Starting in XGBoost 1.3.0, the default evaluation metric used with the objective 'binary:logistic' was changed from 'error' to 'logloss'. Explicitly set eval_metric if you'd like to restore the old behavior.\n",
      "training NB from NB15_CIC\n",
      "2021-12-11 15:13:27\n",
      "training LR from NB15_CIC\n",
      "2021-12-11 15:13:43\n",
      "Something went wrong with LR from NB15_CIC\n",
      "training DT from NB15_CIC\n",
      "2021-12-11 15:13:48\n",
      "Done!\n",
      "2021-12-11 15:15:06\n"
     ]
    }
   ],
   "source": [
    "%run supportFiles/train_model.py 96 1 1 \"KEEP\" \"SCAN_ALL\"\n",
    "#<MAX_NUM_FILES> <DATASET_TYPE> <TRAINING_DATASET>"
   ]
  },
  {
   "cell_type": "markdown",
   "id": "220fe746-f092-4337-a334-64a951801317",
   "metadata": {},
   "source": [
    "## Train CIC-IDS data set models for scanning attack detection"
   ]
  },
  {
   "cell_type": "code",
   "execution_count": 3,
   "id": "16e1a28c-cd1f-4df8-a8eb-81df715b504f",
   "metadata": {},
   "outputs": [
    {
     "name": "stdout",
     "output_type": "stream",
     "text": [
      "No Overwrite selected. Skipping ML for existing joblib files\n",
      "Target Class: Scanning\\Reconnaissance selected\n",
      "Loading data set from existing file: CIC-IDS_CIC.csv\n",
      "reading file: \n",
      "training MLP from CIC-IDS_CIC\n",
      "2021-12-11 07:23:21\n",
      "training SVM from CIC-IDS_CIC\n",
      "2021-12-11 08:38:29\n",
      "training XGB from CIC-IDS_CIC\n",
      "2021-12-11 09:22:05\n",
      "[09:22:19] WARNING: C:/Users/Administrator/workspace/xgboost-win64_release_1.5.0/src/learner.cc:1115: Starting in XGBoost 1.3.0, the default evaluation metric used with the objective 'binary:logistic' was changed from 'error' to 'logloss'. Explicitly set eval_metric if you'd like to restore the old behavior.\n",
      "[09:32:08] WARNING: C:/Users/Administrator/workspace/xgboost-win64_release_1.5.0/src/learner.cc:1115: Starting in XGBoost 1.3.0, the default evaluation metric used with the objective 'binary:logistic' was changed from 'error' to 'logloss'. Explicitly set eval_metric if you'd like to restore the old behavior.\n",
      "[09:42:02] WARNING: C:/Users/Administrator/workspace/xgboost-win64_release_1.5.0/src/learner.cc:1115: Starting in XGBoost 1.3.0, the default evaluation metric used with the objective 'binary:logistic' was changed from 'error' to 'logloss'. Explicitly set eval_metric if you'd like to restore the old behavior.\n",
      "[09:51:55] WARNING: C:/Users/Administrator/workspace/xgboost-win64_release_1.5.0/src/learner.cc:1115: Starting in XGBoost 1.3.0, the default evaluation metric used with the objective 'binary:logistic' was changed from 'error' to 'logloss'. Explicitly set eval_metric if you'd like to restore the old behavior.\n",
      "[10:01:51] WARNING: C:/Users/Administrator/workspace/xgboost-win64_release_1.5.0/src/learner.cc:1115: Starting in XGBoost 1.3.0, the default evaluation metric used with the objective 'binary:logistic' was changed from 'error' to 'logloss'. Explicitly set eval_metric if you'd like to restore the old behavior.\n",
      "[10:11:44] WARNING: C:/Users/Administrator/workspace/xgboost-win64_release_1.5.0/src/learner.cc:1115: Starting in XGBoost 1.3.0, the default evaluation metric used with the objective 'binary:logistic' was changed from 'error' to 'logloss'. Explicitly set eval_metric if you'd like to restore the old behavior.\n",
      "[10:21:41] WARNING: C:/Users/Administrator/workspace/xgboost-win64_release_1.5.0/src/learner.cc:1115: Starting in XGBoost 1.3.0, the default evaluation metric used with the objective 'binary:logistic' was changed from 'error' to 'logloss'. Explicitly set eval_metric if you'd like to restore the old behavior.\n",
      "[10:31:37] WARNING: C:/Users/Administrator/workspace/xgboost-win64_release_1.5.0/src/learner.cc:1115: Starting in XGBoost 1.3.0, the default evaluation metric used with the objective 'binary:logistic' was changed from 'error' to 'logloss'. Explicitly set eval_metric if you'd like to restore the old behavior.\n",
      "[10:41:35] WARNING: C:/Users/Administrator/workspace/xgboost-win64_release_1.5.0/src/learner.cc:1115: Starting in XGBoost 1.3.0, the default evaluation metric used with the objective 'binary:logistic' was changed from 'error' to 'logloss'. Explicitly set eval_metric if you'd like to restore the old behavior.\n",
      "[10:51:31] WARNING: C:/Users/Administrator/workspace/xgboost-win64_release_1.5.0/src/learner.cc:1115: Starting in XGBoost 1.3.0, the default evaluation metric used with the objective 'binary:logistic' was changed from 'error' to 'logloss'. Explicitly set eval_metric if you'd like to restore the old behavior.\n",
      "[11:01:30] WARNING: C:/Users/Administrator/workspace/xgboost-win64_release_1.5.0/src/learner.cc:1115: Starting in XGBoost 1.3.0, the default evaluation metric used with the objective 'binary:logistic' was changed from 'error' to 'logloss'. Explicitly set eval_metric if you'd like to restore the old behavior.\n",
      "training NB from CIC-IDS_CIC\n",
      "2021-12-11 11:12:21\n",
      "training LR from CIC-IDS_CIC\n",
      "2021-12-11 11:13:11\n",
      "training DT from CIC-IDS_CIC\n",
      "2021-12-11 12:31:35\n"
     ]
    }
   ],
   "source": [
    "%run supportFiles/train_model.py 96 1 2 \"KEEP\" \"SCAN_ALL\"\n",
    "#<MAX_NUM_FILES> <DATASET_TYPE> <TRAINING_DATASET>"
   ]
  },
  {
   "cell_type": "code",
   "execution_count": null,
   "id": "0017a682-1221-4175-9152-bcf78a70baf0",
   "metadata": {},
   "outputs": [],
   "source": []
  }
 ],
 "metadata": {
  "kernelspec": {
   "display_name": "Python 3",
   "language": "python",
   "name": "python3"
  },
  "language_info": {
   "codemirror_mode": {
    "name": "ipython",
    "version": 3
   },
   "file_extension": ".py",
   "mimetype": "text/x-python",
   "name": "python",
   "nbconvert_exporter": "python",
   "pygments_lexer": "ipython3",
   "version": "3.8.8"
  }
 },
 "nbformat": 4,
 "nbformat_minor": 5
}
