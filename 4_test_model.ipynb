{
 "cells": [
  {
   "cell_type": "code",
   "execution_count": 1,
   "id": "8dfe851d-7f8d-4f15-b329-6884f4c88aa7",
   "metadata": {
    "tags": []
   },
   "outputs": [
    {
     "name": "stdout",
     "output_type": "stream",
     "text": [
      "No Overwrite selected. Skipping data sets already tested\n",
      "Target Class: Scanning\\Reconnaissance selected\n",
      "loading models from AB-TRAP_CIC\n",
      "5\n",
      "0\n",
      "0\n",
      "0\n",
      "0\n",
      "0\n",
      "F1-score file for AB-TRAP_CIC data set not found. Creating..\n",
      "Not Found: building CIC-IDS_CIC.csv\n",
      "Total examples of 2827876 with 556556 attacks and 2271320 bonafide flows\n",
      "writing file: \n",
      "saving finalized dataset\n",
      "reading file: \n",
      "Evaluating AB-TRAP_CIC's DT ML model on CIC-IDS_CIC data set\n",
      "2021-12-10 22:45:55\n",
      "F1-score: AB-TRAP_CIC    0.019547\n",
      "Name: CIC-IDS_CIC, dtype: float64\n",
      "2021-12-10 22:45:58\n",
      "Not Found: building ToN-IoT_CIC.csv\n"
     ]
    },
    {
     "ename": "AttributeError",
     "evalue": "'int' object has no attribute 'casefold'",
     "output_type": "error",
     "traceback": [
      "\u001b[1;31m---------------------------------------------------------------------------\u001b[0m",
      "\u001b[1;31mAttributeError\u001b[0m                            Traceback (most recent call last)",
      "\u001b[1;32m~\\Documents\\Shared\\aBFF\\supportFiles\\evaluate.py\u001b[0m in \u001b[0;36m<module>\u001b[1;34m\u001b[0m\n\u001b[0;32m    173\u001b[0m \u001b[1;33m\u001b[0m\u001b[0m\n\u001b[0;32m    174\u001b[0m \u001b[1;33m\u001b[0m\u001b[0m\n\u001b[1;32m--> 175\u001b[1;33m     \u001b[0mrunEvaluation\u001b[0m\u001b[1;33m(\u001b[0m\u001b[0mpNum\u001b[0m\u001b[1;33m,\u001b[0m \u001b[0mmaxNumFiles\u001b[0m\u001b[1;33m,\u001b[0m \u001b[0mdNum\u001b[0m\u001b[1;33m,\u001b[0m \u001b[0mscanOnly\u001b[0m\u001b[1;33m,\u001b[0m \u001b[0mscan\u001b[0m\u001b[1;33m,\u001b[0m \u001b[0mno_overwrite\u001b[0m\u001b[1;33m)\u001b[0m\u001b[1;33m\u001b[0m\u001b[1;33m\u001b[0m\u001b[0m\n\u001b[0m\u001b[0;32m    176\u001b[0m \u001b[1;33m\u001b[0m\u001b[0m\n\u001b[0;32m    177\u001b[0m \u001b[1;31m#XXXXXXXXXXXXXXXXXXXXXXXXXXXXXXXXXXXXXXXXXXXXXXXXXXX\u001b[0m\u001b[1;33m\u001b[0m\u001b[1;33m\u001b[0m\u001b[1;33m\u001b[0m\u001b[0m\n",
      "\u001b[1;32m~\\Documents\\Shared\\aBFF\\supportFiles\\evaluate.py\u001b[0m in \u001b[0;36mrunEvaluation\u001b[1;34m(pNum, maxNumFiles, dNum, scanOnly, scan, no_overwrite)\u001b[0m\n\u001b[0;32m    106\u001b[0m         \u001b[1;31m# load target data set\u001b[0m\u001b[1;33m\u001b[0m\u001b[1;33m\u001b[0m\u001b[1;33m\u001b[0m\u001b[0m\n\u001b[0;32m    107\u001b[0m         \u001b[0mtName\u001b[0m \u001b[1;33m=\u001b[0m \u001b[0mmyFunc\u001b[0m\u001b[1;33m.\u001b[0m\u001b[0mgetDSName\u001b[0m\u001b[1;33m(\u001b[0m\u001b[0mtargetNum\u001b[0m\u001b[1;33m,\u001b[0m \u001b[0mdNum\u001b[0m\u001b[1;33m)\u001b[0m\u001b[1;33m\u001b[0m\u001b[1;33m\u001b[0m\u001b[0m\n\u001b[1;32m--> 108\u001b[1;33m         \u001b[0mX\u001b[0m\u001b[1;33m,\u001b[0m \u001b[0my\u001b[0m \u001b[1;33m=\u001b[0m \u001b[0mmyFunc\u001b[0m\u001b[1;33m.\u001b[0m\u001b[0msetTarget\u001b[0m\u001b[1;33m(\u001b[0m\u001b[0mmyFunc\u001b[0m\u001b[1;33m.\u001b[0m\u001b[0mloadDataset\u001b[0m\u001b[1;33m(\u001b[0m\u001b[0mtargetNum\u001b[0m\u001b[1;33m,\u001b[0m \u001b[0mmaxNumFiles\u001b[0m\u001b[1;33m,\u001b[0m \u001b[0mdNum\u001b[0m\u001b[1;33m)\u001b[0m\u001b[1;33m,\u001b[0m \u001b[0mtargetNum\u001b[0m\u001b[1;33m,\u001b[0m \u001b[0mscanOnly\u001b[0m\u001b[1;33m,\u001b[0m \u001b[0mscan\u001b[0m\u001b[1;33m,\u001b[0m \u001b[0mpNum\u001b[0m\u001b[1;33m)\u001b[0m\u001b[1;33m\u001b[0m\u001b[1;33m\u001b[0m\u001b[0m\n\u001b[0m\u001b[0;32m    109\u001b[0m         \u001b[0mprint\u001b[0m\u001b[1;33m(\u001b[0m\u001b[0mMSG\u001b[0m\u001b[1;33m.\u001b[0m\u001b[0mformat\u001b[0m\u001b[1;33m(\u001b[0m\u001b[0mtName\u001b[0m\u001b[1;33m)\u001b[0m\u001b[1;33m)\u001b[0m\u001b[1;33m\u001b[0m\u001b[1;33m\u001b[0m\u001b[0m\n\u001b[0;32m    110\u001b[0m         \u001b[0mprint\u001b[0m\u001b[1;33m(\u001b[0m\u001b[0mdatetime\u001b[0m\u001b[1;33m.\u001b[0m\u001b[0mdatetime\u001b[0m\u001b[1;33m.\u001b[0m\u001b[0mnow\u001b[0m\u001b[1;33m(\u001b[0m\u001b[1;33m)\u001b[0m\u001b[1;33m.\u001b[0m\u001b[0mstrftime\u001b[0m\u001b[1;33m(\u001b[0m\u001b[1;34m\"%Y-%m-%d %H:%M:%S\"\u001b[0m\u001b[1;33m)\u001b[0m\u001b[1;33m)\u001b[0m\u001b[1;33m\u001b[0m\u001b[1;33m\u001b[0m\u001b[0m\n",
      "\u001b[1;32m~\\Documents\\Shared\\aBFF\\supportFiles\\myFunc.py\u001b[0m in \u001b[0;36mloadDataset\u001b[1;34m(pNum, maxNumFiles, dNum, filepath, BUILD)\u001b[0m\n\u001b[0;32m    295\u001b[0m             \u001b[0mMSG\u001b[0m \u001b[1;33m=\u001b[0m \u001b[1;34m\"Not Found\"\u001b[0m\u001b[1;33m\u001b[0m\u001b[1;33m\u001b[0m\u001b[0m\n\u001b[0;32m    296\u001b[0m         \u001b[0mprint\u001b[0m\u001b[1;33m(\u001b[0m \u001b[1;34m\"{1}: building {0}.csv\"\u001b[0m\u001b[1;33m.\u001b[0m\u001b[0mformat\u001b[0m\u001b[1;33m(\u001b[0m\u001b[0mgetDSName\u001b[0m\u001b[1;33m(\u001b[0m\u001b[0mpNum\u001b[0m\u001b[1;33m,\u001b[0m \u001b[0mdNum\u001b[0m\u001b[1;33m)\u001b[0m\u001b[1;33m,\u001b[0m \u001b[0mMSG\u001b[0m\u001b[1;33m)\u001b[0m \u001b[1;33m)\u001b[0m\u001b[1;33m\u001b[0m\u001b[1;33m\u001b[0m\u001b[0m\n\u001b[1;32m--> 297\u001b[1;33m         \u001b[0mdata\u001b[0m \u001b[1;33m=\u001b[0m \u001b[0mbuildDataset\u001b[0m\u001b[1;33m(\u001b[0m\u001b[0mpNum\u001b[0m\u001b[1;33m,\u001b[0m \u001b[0mmaxNumFiles\u001b[0m\u001b[1;33m,\u001b[0m \u001b[0mdNum\u001b[0m\u001b[1;33m,\u001b[0m \u001b[0mfilepath\u001b[0m\u001b[1;33m)\u001b[0m\u001b[1;33m\u001b[0m\u001b[1;33m\u001b[0m\u001b[0m\n\u001b[0m\u001b[0;32m    298\u001b[0m     \u001b[1;32mreturn\u001b[0m \u001b[0mdata\u001b[0m\u001b[1;33m\u001b[0m\u001b[1;33m\u001b[0m\u001b[0m\n\u001b[0;32m    299\u001b[0m \u001b[1;33m\u001b[0m\u001b[0m\n",
      "\u001b[1;32m~\\Documents\\Shared\\aBFF\\supportFiles\\myFunc.py\u001b[0m in \u001b[0;36mbuildDataset\u001b[1;34m(pcapTypeNum, maxNumFiles, datasetTypeNum, filepath)\u001b[0m\n\u001b[0;32m    354\u001b[0m         \u001b[0mcolumnValue\u001b[0m \u001b[1;33m=\u001b[0m \u001b[1;34m'benign'\u001b[0m\u001b[1;33m\u001b[0m\u001b[1;33m\u001b[0m\u001b[0m\n\u001b[0;32m    355\u001b[0m     \u001b[1;31m#print( \"DEBUG: \", full_data[columnName].unique() )#apply(lambda x: x.casefold()) )\u001b[0m\u001b[1;33m\u001b[0m\u001b[1;33m\u001b[0m\u001b[1;33m\u001b[0m\u001b[0m\n\u001b[1;32m--> 356\u001b[1;33m     \u001b[0mexamples_bonafide\u001b[0m \u001b[1;33m=\u001b[0m \u001b[0mfull_data\u001b[0m\u001b[1;33m[\u001b[0m\u001b[0mfull_data\u001b[0m\u001b[1;33m[\u001b[0m\u001b[0mcolumnName\u001b[0m\u001b[1;33m]\u001b[0m\u001b[1;33m.\u001b[0m\u001b[0mapply\u001b[0m\u001b[1;33m(\u001b[0m\u001b[1;32mlambda\u001b[0m \u001b[0mx\u001b[0m\u001b[1;33m:\u001b[0m \u001b[1;32mTrue\u001b[0m \u001b[1;32mif\u001b[0m \u001b[0mx\u001b[0m\u001b[1;33m.\u001b[0m\u001b[0mcasefold\u001b[0m\u001b[1;33m(\u001b[0m\u001b[1;33m)\u001b[0m \u001b[1;33m==\u001b[0m \u001b[0mcolumnValue\u001b[0m \u001b[1;32melse\u001b[0m \u001b[1;32mFalse\u001b[0m\u001b[1;33m)\u001b[0m\u001b[1;33m]\u001b[0m\u001b[1;33m.\u001b[0m\u001b[0mshape\u001b[0m\u001b[1;33m[\u001b[0m\u001b[1;36m0\u001b[0m\u001b[1;33m]\u001b[0m \u001b[1;31m#examples_bonafide = full_data[full_data[columnName] == columnValue].shape[0]\u001b[0m\u001b[1;33m\u001b[0m\u001b[1;33m\u001b[0m\u001b[0m\n\u001b[0m\u001b[0;32m    357\u001b[0m     \u001b[0mtotal\u001b[0m \u001b[1;33m=\u001b[0m \u001b[0mfull_data\u001b[0m\u001b[1;33m.\u001b[0m\u001b[0mshape\u001b[0m\u001b[1;33m[\u001b[0m\u001b[1;36m0\u001b[0m\u001b[1;33m]\u001b[0m\u001b[1;33m\u001b[0m\u001b[1;33m\u001b[0m\u001b[0m\n\u001b[0;32m    358\u001b[0m     \u001b[0mprint\u001b[0m\u001b[1;33m(\u001b[0m\u001b[1;34m'Total examples of {0} with {1} attacks and {2} bonafide flows'\u001b[0m\u001b[1;33m.\u001b[0m\u001b[0mformat\u001b[0m\u001b[1;33m(\u001b[0m\u001b[0mtotal\u001b[0m\u001b[1;33m,\u001b[0m \u001b[0mtotal\u001b[0m \u001b[1;33m-\u001b[0m \u001b[0mexamples_bonafide\u001b[0m\u001b[1;33m,\u001b[0m \u001b[0mexamples_bonafide\u001b[0m\u001b[1;33m)\u001b[0m\u001b[1;33m)\u001b[0m\u001b[1;33m\u001b[0m\u001b[1;33m\u001b[0m\u001b[0m\n",
      "\u001b[1;32m~\\anaconda3\\lib\\site-packages\\pandas\\core\\series.py\u001b[0m in \u001b[0;36mapply\u001b[1;34m(self, func, convert_dtype, args, **kwds)\u001b[0m\n\u001b[0;32m   4136\u001b[0m             \u001b[1;32melse\u001b[0m\u001b[1;33m:\u001b[0m\u001b[1;33m\u001b[0m\u001b[1;33m\u001b[0m\u001b[0m\n\u001b[0;32m   4137\u001b[0m                 \u001b[0mvalues\u001b[0m \u001b[1;33m=\u001b[0m \u001b[0mself\u001b[0m\u001b[1;33m.\u001b[0m\u001b[0mastype\u001b[0m\u001b[1;33m(\u001b[0m\u001b[0mobject\u001b[0m\u001b[1;33m)\u001b[0m\u001b[1;33m.\u001b[0m\u001b[0m_values\u001b[0m\u001b[1;33m\u001b[0m\u001b[1;33m\u001b[0m\u001b[0m\n\u001b[1;32m-> 4138\u001b[1;33m                 \u001b[0mmapped\u001b[0m \u001b[1;33m=\u001b[0m \u001b[0mlib\u001b[0m\u001b[1;33m.\u001b[0m\u001b[0mmap_infer\u001b[0m\u001b[1;33m(\u001b[0m\u001b[0mvalues\u001b[0m\u001b[1;33m,\u001b[0m \u001b[0mf\u001b[0m\u001b[1;33m,\u001b[0m \u001b[0mconvert\u001b[0m\u001b[1;33m=\u001b[0m\u001b[0mconvert_dtype\u001b[0m\u001b[1;33m)\u001b[0m\u001b[1;33m\u001b[0m\u001b[1;33m\u001b[0m\u001b[0m\n\u001b[0m\u001b[0;32m   4139\u001b[0m \u001b[1;33m\u001b[0m\u001b[0m\n\u001b[0;32m   4140\u001b[0m         \u001b[1;32mif\u001b[0m \u001b[0mlen\u001b[0m\u001b[1;33m(\u001b[0m\u001b[0mmapped\u001b[0m\u001b[1;33m)\u001b[0m \u001b[1;32mand\u001b[0m \u001b[0misinstance\u001b[0m\u001b[1;33m(\u001b[0m\u001b[0mmapped\u001b[0m\u001b[1;33m[\u001b[0m\u001b[1;36m0\u001b[0m\u001b[1;33m]\u001b[0m\u001b[1;33m,\u001b[0m \u001b[0mSeries\u001b[0m\u001b[1;33m)\u001b[0m\u001b[1;33m:\u001b[0m\u001b[1;33m\u001b[0m\u001b[1;33m\u001b[0m\u001b[0m\n",
      "\u001b[1;32mpandas\\_libs\\lib.pyx\u001b[0m in \u001b[0;36mpandas._libs.lib.map_infer\u001b[1;34m()\u001b[0m\n",
      "\u001b[1;32m~\\Documents\\Shared\\aBFF\\supportFiles\\myFunc.py\u001b[0m in \u001b[0;36m<lambda>\u001b[1;34m(x)\u001b[0m\n\u001b[0;32m    354\u001b[0m         \u001b[0mcolumnValue\u001b[0m \u001b[1;33m=\u001b[0m \u001b[1;34m'benign'\u001b[0m\u001b[1;33m\u001b[0m\u001b[1;33m\u001b[0m\u001b[0m\n\u001b[0;32m    355\u001b[0m     \u001b[1;31m#print( \"DEBUG: \", full_data[columnName].unique() )#apply(lambda x: x.casefold()) )\u001b[0m\u001b[1;33m\u001b[0m\u001b[1;33m\u001b[0m\u001b[1;33m\u001b[0m\u001b[0m\n\u001b[1;32m--> 356\u001b[1;33m     \u001b[0mexamples_bonafide\u001b[0m \u001b[1;33m=\u001b[0m \u001b[0mfull_data\u001b[0m\u001b[1;33m[\u001b[0m\u001b[0mfull_data\u001b[0m\u001b[1;33m[\u001b[0m\u001b[0mcolumnName\u001b[0m\u001b[1;33m]\u001b[0m\u001b[1;33m.\u001b[0m\u001b[0mapply\u001b[0m\u001b[1;33m(\u001b[0m\u001b[1;32mlambda\u001b[0m \u001b[0mx\u001b[0m\u001b[1;33m:\u001b[0m \u001b[1;32mTrue\u001b[0m \u001b[1;32mif\u001b[0m \u001b[0mx\u001b[0m\u001b[1;33m.\u001b[0m\u001b[0mcasefold\u001b[0m\u001b[1;33m(\u001b[0m\u001b[1;33m)\u001b[0m \u001b[1;33m==\u001b[0m \u001b[0mcolumnValue\u001b[0m \u001b[1;32melse\u001b[0m \u001b[1;32mFalse\u001b[0m\u001b[1;33m)\u001b[0m\u001b[1;33m]\u001b[0m\u001b[1;33m.\u001b[0m\u001b[0mshape\u001b[0m\u001b[1;33m[\u001b[0m\u001b[1;36m0\u001b[0m\u001b[1;33m]\u001b[0m \u001b[1;31m#examples_bonafide = full_data[full_data[columnName] == columnValue].shape[0]\u001b[0m\u001b[1;33m\u001b[0m\u001b[1;33m\u001b[0m\u001b[0m\n\u001b[0m\u001b[0;32m    357\u001b[0m     \u001b[0mtotal\u001b[0m \u001b[1;33m=\u001b[0m \u001b[0mfull_data\u001b[0m\u001b[1;33m.\u001b[0m\u001b[0mshape\u001b[0m\u001b[1;33m[\u001b[0m\u001b[1;36m0\u001b[0m\u001b[1;33m]\u001b[0m\u001b[1;33m\u001b[0m\u001b[1;33m\u001b[0m\u001b[0m\n\u001b[0;32m    358\u001b[0m     \u001b[0mprint\u001b[0m\u001b[1;33m(\u001b[0m\u001b[1;34m'Total examples of {0} with {1} attacks and {2} bonafide flows'\u001b[0m\u001b[1;33m.\u001b[0m\u001b[0mformat\u001b[0m\u001b[1;33m(\u001b[0m\u001b[0mtotal\u001b[0m\u001b[1;33m,\u001b[0m \u001b[0mtotal\u001b[0m \u001b[1;33m-\u001b[0m \u001b[0mexamples_bonafide\u001b[0m\u001b[1;33m,\u001b[0m \u001b[0mexamples_bonafide\u001b[0m\u001b[1;33m)\u001b[0m\u001b[1;33m)\u001b[0m\u001b[1;33m\u001b[0m\u001b[1;33m\u001b[0m\u001b[0m\n",
      "\u001b[1;31mAttributeError\u001b[0m: 'int' object has no attribute 'casefold'"
     ]
    }
   ],
   "source": [
    "%run supportFiles/evaluate.py 96 1 0 \"KEEP\" \"SCAN_ALL\"\n",
    "#<MAX_NUM_FILES> <DATASET_TYPE> <TRAINING_DATASET>"
   ]
  },
  {
   "cell_type": "code",
   "execution_count": 2,
   "id": "b776b7b5-f831-4193-83ae-186272679b6e",
   "metadata": {},
   "outputs": [
    {
     "name": "stderr",
     "output_type": "stream",
     "text": [
      "C:\\Users\\Aang\\anaconda3\\lib\\site-packages\\IPython\\core\\interactiveshell.py:3165: DtypeWarning: Columns (0,1,3,6,84) have mixed types.Specify dtype option on import or set low_memory=False.\n",
      "  has_raised = await self.run_ast_nodes(code_ast.body, cell_name,\n"
     ]
    }
   ],
   "source": [
    "import pandas as pd\n",
    "import numpy as np\n",
    "import os\n",
    "full_data = pd.DataFrame({}, columns=[])\n",
    "filepath = \"./dataset/\"\n",
    "files = [s for s in os.listdir(filepath) if \"WorkingHours\" in s]\n",
    "for file in files:\n",
    "    temp = pd.read_csv(filepath+file, sep=',')\n",
    "    full_data = pd.concat([full_data,temp], ignore_index=True)\n",
    "\n",
    "# another for comparison\n",
    "temp = pd.read_csv(filepath+\"attack_CIC.csv\", sep=',')"
   ]
  },
  {
   "cell_type": "code",
   "execution_count": 207,
   "id": "c648d80e-356b-48f4-afd6-839b054146f5",
   "metadata": {},
   "outputs": [
    {
     "name": "stdout",
     "output_type": "stream",
     "text": [
      "[]\n",
      "[]\n"
     ]
    }
   ],
   "source": [
    "print([x for x in full_data.columns.values if x not in temp.columns.values] )\n",
    "print([x for x in temp.columns.values if x not in full_data.columns.values] ) #[x for x in teste if x not in temp.columns]"
   ]
  },
  {
   "cell_type": "code",
   "execution_count": 2,
   "id": "cff016a2-c557-4485-bba6-19a165b3e048",
   "metadata": {},
   "outputs": [],
   "source": [
    "import pandas as pd\n",
    "import numpy as np\n",
    "temp = pd.read_csv(\"./dataset/final/CIC-IDS_CIC.csv\", sep=',')"
   ]
  },
  {
   "cell_type": "code",
   "execution_count": 3,
   "id": "3788580f-09bd-4ffc-a390-69289e402e32",
   "metadata": {},
   "outputs": [
    {
     "data": {
      "text/plain": [
       "flow_ID      object\n",
       "src_ip       object\n",
       "dst_ip       object\n",
       "dst_port      int64\n",
       "timestamp    object\n",
       "Label        object\n",
       "dtype: object"
      ]
     },
     "execution_count": 3,
     "metadata": {},
     "output_type": "execute_result"
    }
   ],
   "source": [
    "temp.dtypes[temp.dtypes != float]"
   ]
  },
  {
   "cell_type": "code",
   "execution_count": 34,
   "id": "39be1915-542e-4868-855c-d4a4a01b4305",
   "metadata": {},
   "outputs": [
    {
     "data": {
      "text/plain": [
       "flow_byts_s    inf\n",
       "flow_pkts_s    inf\n",
       "Name: 65, dtype: float64"
      ]
     },
     "execution_count": 34,
     "metadata": {},
     "output_type": "execute_result"
    }
   ],
   "source": [
    "temp.select_dtypes(exclude=['object'])[np.isinf(temp.select_dtypes(exclude=['object'])).any(axis=1)].iloc[0].nlargest(2)"
   ]
  },
  {
   "cell_type": "code",
   "execution_count": 39,
   "id": "78130dc8-b3bc-4c71-8bb9-048521ecd5a2",
   "metadata": {},
   "outputs": [
    {
     "data": {
      "text/plain": [
       "Index(['flow_byts_s', 'flow_pkts_s'], dtype='object')"
      ]
     },
     "execution_count": 39,
     "metadata": {},
     "output_type": "execute_result"
    }
   ],
   "source": [
    "temp.columns[(temp == np.inf).any()]"
   ]
  },
  {
   "cell_type": "code",
   "execution_count": 44,
   "id": "44a588dc-7aa0-4ba4-b5b9-83057d735bd5",
   "metadata": {},
   "outputs": [
    {
     "data": {
      "text/plain": [
       "2867"
      ]
     },
     "execution_count": 44,
     "metadata": {},
     "output_type": "execute_result"
    }
   ],
   "source": [
    "len(temp[(temp == np.inf).any(axis=1)].index)"
   ]
  },
  {
   "cell_type": "code",
   "execution_count": null,
   "id": "4c9b8e4d-ab14-4486-a680-2b117fd82941",
   "metadata": {},
   "outputs": [],
   "source": []
  }
 ],
 "metadata": {
  "kernelspec": {
   "display_name": "Python 3",
   "language": "python",
   "name": "python3"
  },
  "language_info": {
   "codemirror_mode": {
    "name": "ipython",
    "version": 3
   },
   "file_extension": ".py",
   "mimetype": "text/x-python",
   "name": "python",
   "nbconvert_exporter": "python",
   "pygments_lexer": "ipython3",
   "version": "3.8.8"
  }
 },
 "nbformat": 4,
 "nbformat_minor": 5
}
