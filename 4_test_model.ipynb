{
 "cells": [
  {
   "cell_type": "code",
   "execution_count": null,
   "id": "8dfe851d-7f8d-4f15-b329-6884f4c88aa7",
   "metadata": {},
   "outputs": [
    {
     "name": "stdout",
     "output_type": "stream",
     "text": [
      "No Overwrite selected. Skipping ML for existing joblib files\n",
      "MLP not overwriten\n",
      "SVM not overwriten\n",
      "XGB not overwriten\n",
      "NB not overwriten\n",
      "LR not overwriten\n",
      "training RF from AB-TRAP_CIC\n",
      "2021-12-07 15:00:16\n"
     ]
    }
   ],
   "source": [
    "%run supportFiles/evaluate.py 96 1 0 \"KEEP\"\n",
    "#<MAX_NUM_FILES> <DATASET_TYPE> <TRAINING_DATASET>"
   ]
  },
  {
   "cell_type": "code",
   "execution_count": null,
   "id": "6e2e28db-4f17-4e48-ad93-8a251fd1e4d9",
   "metadata": {},
   "outputs": [],
   "source": []
  }
 ],
 "metadata": {
  "kernelspec": {
   "display_name": "Python 3",
   "language": "python",
   "name": "python3"
  },
  "language_info": {
   "codemirror_mode": {
    "name": "ipython",
    "version": 3
   },
   "file_extension": ".py",
   "mimetype": "text/x-python",
   "name": "python",
   "nbconvert_exporter": "python",
   "pygments_lexer": "ipython3",
   "version": "3.8.8"
  }
 },
 "nbformat": 4,
 "nbformat_minor": 5
}
