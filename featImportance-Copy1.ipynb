{
 "cells": [
  {
   "cell_type": "markdown",
   "id": "59dfb756-bd95-42f5-afc9-0a48b3b7ea10",
   "metadata": {},
   "source": [
    "# Feature Importance"
   ]
  },
  {
   "cell_type": "code",
   "execution_count": 1,
   "id": "c1f3af14-1fec-45da-86af-0753763be02f",
   "metadata": {},
   "outputs": [
    {
     "data": {
      "text/plain": [
       "'AB-TRAP_CIC'"
      ]
     },
     "execution_count": 1,
     "metadata": {},
     "output_type": "execute_result"
    }
   ],
   "source": [
    "from supportFiles.myFunc import loadModel, getDSName, setTarget, loadDataset, getFeatureList\n",
    "from joblib import dump, load\n",
    "import pandas as pd\n",
    "import numpy as np\n",
    "import os\n",
    "getDSName(0)"
   ]
  },
  {
   "cell_type": "markdown",
   "id": "13dc1678-92fa-4693-a87b-7e122d32cb84",
   "metadata": {},
   "source": [
    "### define functions"
   ]
  },
  {
   "cell_type": "code",
   "execution_count": 37,
   "id": "e5ea11a4-6da5-4b35-96f7-3015dbe44ec0",
   "metadata": {},
   "outputs": [],
   "source": [
    "hocuspocus = lambda a,b: [[r*q for r,q in zip(p,b)] for p in a]\n",
    "\n",
    "def getTopFeat(relevantes, cols, qty):\n",
    "    fi_df = pd.DataFrame({'feature_importance': relevantes, 'feature_name': cols})\n",
    "    fi_df.sort_values(by=['feature_importance'], ascending=False, inplace=True)\n",
    "    return \"; \".join(fi_df['feature_name'].iloc[0:qty].values)\n",
    "\n",
    "def getLine(datasetName, models, cols):\n",
    "    qty = 5\n",
    "    line = {}\n",
    "    line['Data Set'] = \"\\rotatebox{90}{\\\\parbox{30pt}{\\\\textbf{CIC-\"+ datasetName.split(\"_\")[1] +\"}}}\"\n",
    "    relevantes = models['DT'].best_estimator_.feature_importances_\n",
    "    line['DT'] = getTopFeat(relevantes, cols, qty)\n",
    "    relevantes = list(map(abs, models[\"LR\"].best_estimator_.coef_))[0]\n",
    "    line['LR'] = getTopFeat(relevantes, cols, qty)\n",
    "    c = hocuspocus(models[\"MLP\"].best_estimator_.coefs_[0],models[\"MLP\"].best_estimator_.coefs_[1])\n",
    "    relevantes = []\n",
    "    for entry in c:\n",
    "        relevantes.append(sum(list(map(abs, entry))[0]) )\n",
    "    line['MLP'] = getTopFeat(relevantes, cols, qty)\n",
    "    relevantes = list(map(abs, models[\"SVM\"].best_estimator_.decision_function(np.identity(len(cols)))))\n",
    "    line['SVM'] = getTopFeat(relevantes, cols, qty)\n",
    "    relevantes = list(map(abs, models[\"XGB\"].best_estimator_.feature_importances_))\n",
    "    line['XGB'] = getTopFeat(relevantes, cols, qty)\n",
    "    return line"
   ]
  },
  {
   "cell_type": "markdown",
   "id": "b2fd8187-a589-4189-b357-5d9c62281696",
   "metadata": {},
   "source": [
    "### build information table"
   ]
  },
  {
   "cell_type": "code",
   "execution_count": 38,
   "id": "d9b09936-a6ae-4507-b2f4-12b15c90650b",
   "metadata": {
    "tags": []
   },
   "outputs": [
    {
     "name": "stdout",
     "output_type": "stream",
     "text": [
      "loading models from SCAN_AB-TRAP_CIC\n",
      "Models fetched: ['SCAN_AB-TRAP_CIC_DT.joblib', 'SCAN_AB-TRAP_CIC_LR.joblib', 'SCAN_AB-TRAP_CIC_MLP.joblib', 'SCAN_AB-TRAP_CIC_NB.joblib', 'SCAN_AB-TRAP_CIC_SVM.joblib', 'SCAN_AB-TRAP_CIC_XGB.joblib']\n",
      "DT's index of best performance: 5\n",
      "LR's index of best performance: 0\n",
      "MLP's index of best performance: 0\n",
      "NB's index of best performance: 0\n",
      "SVM's index of best performance: 0\n",
      "XGB's index of best performance: 0\n",
      "DT\n",
      "reading file: \n",
      "loading models from SCAN_NB15_CIC\n",
      "Models fetched: ['SCAN_NB15_CIC_DT.joblib', 'SCAN_NB15_CIC_LR.joblib', 'SCAN_NB15_CIC_MLP.joblib', 'SCAN_NB15_CIC_NB.joblib', 'SCAN_NB15_CIC_SVM.joblib', 'SCAN_NB15_CIC_XGB.joblib']\n",
      "DT's index of best performance: 10\n",
      "LR's index of best performance: 0\n",
      "MLP's index of best performance: 0\n",
      "NB's index of best performance: 0\n",
      "SVM's index of best performance: 0\n",
      "XGB's index of best performance: 0\n",
      "DT\n",
      "reading file: \n",
      "loading models from SCAN_CIC-IDS_CIC\n",
      "Models fetched: ['SCAN_CIC-IDS_CIC_DT.joblib', 'SCAN_CIC-IDS_CIC_LR.joblib', 'SCAN_CIC-IDS_CIC_MLP.joblib', 'SCAN_CIC-IDS_CIC_NB.joblib', 'SCAN_CIC-IDS_CIC_SVM.joblib', 'SCAN_CIC-IDS_CIC_XGB.joblib']\n",
      "DT's index of best performance: 4\n",
      "LR's index of best performance: 0\n",
      "MLP's index of best performance: 0\n",
      "NB's index of best performance: 0\n",
      "SVM's index of best performance: 0\n",
      "XGB's index of best performance: 0\n",
      "XGB\n",
      "reading file: \n",
      "loading models from SCAN_ToN-IoT_CIC\n",
      "Models fetched: ['SCAN_ToN-IoT_CIC_DT.joblib', 'SCAN_ToN-IoT_CIC_LR.joblib', 'SCAN_ToN-IoT_CIC_MLP.joblib', 'SCAN_ToN-IoT_CIC_NB.joblib', 'SCAN_ToN-IoT_CIC_SVM.joblib', 'SCAN_ToN-IoT_CIC_XGB.joblib']\n",
      "DT's index of best performance: 5\n",
      "LR's index of best performance: 0\n",
      "MLP's index of best performance: 0\n",
      "NB's index of best performance: 0\n",
      "SVM's index of best performance: 0\n",
      "XGB's index of best performance: 0\n",
      "XGB\n",
      "reading file: \n",
      "loading models from SCAN_BoT-IoT_CIC\n",
      "Models fetched: ['SCAN_BoT-IoT_CIC_DT.joblib', 'SCAN_BoT-IoT_CIC_LR.joblib', 'SCAN_BoT-IoT_CIC_MLP.joblib', 'SCAN_BoT-IoT_CIC_NB.joblib', 'SCAN_BoT-IoT_CIC_SVM.joblib', 'SCAN_BoT-IoT_CIC_XGB.joblib']\n",
      "DT's index of best performance: 5\n",
      "LR's index of best performance: 0\n",
      "MLP's index of best performance: 0\n",
      "NB's index of best performance: 0\n",
      "SVM's index of best performance: 0\n",
      "XGB's index of best performance: 0\n",
      "XGB\n",
      "reading file: \n"
     ]
    }
   ],
   "source": [
    "#Datasets available are :\n",
    "# {0: 'AB-TRAP', 1: 'NB15', 2: 'CIC-IDS', 3: 'ToN-IoT', 4: 'BoT-IoT'}\n",
    "tableInfo = []\n",
    "#for each Data Set\n",
    "for DS in range(5):\n",
    "    #get name\n",
    "    trainerDSName = getDSName(DS,1,True,True)\n",
    "    #load models\n",
    "    models, prep, table, algo = loadModel(trainerDSName)\n",
    "    #get feature list\n",
    "    cols = getFeatureList(DS)[0:-1]\n",
    "    #append line with list of top 10 important features\n",
    "    tableInfo.append(getLine(trainerDSName, models, cols))"
   ]
  },
  {
   "cell_type": "code",
   "execution_count": 40,
   "id": "e84073ae-deed-4f72-987d-e5e694eb00ba",
   "metadata": {},
   "outputs": [
    {
     "name": "stdout",
     "output_type": "stream",
     "text": [
      "\\begin{table}[H]\n",
      "\\centering\n",
      "\\caption{\\textit{Features} ordenadas por importância para cada modelo e \\textit{Data Set}}\n",
      "\\label{tab:importFeat}\n",
      "\\begin{tabular}{cccccc}\n",
      "\\toprule\n",
      "                                           Data Set &                                                                      DT &                                                                                 LR &                                                                               MLP &                                                                               SVM &                                                                              XGB \\\\\n",
      "\\midrule\n",
      "\\rotatebox{90}{\\parbox{30pt}{\\textbf{CIC-AB-TRAP}}} &  bwd_pkts_s; bwd_header_len; init_fwd_win_byts; flow_duration; dst_port &   flow_duration; subflow_bwd_byts; totlen_bwd_pkts; subflow_bwd_pkts; tot_bwd_pkts &             dst_port; pkt_len_std; fin_flag_cnt; init_fwd_win_byts; flow_duration &    subflow_bwd_byts; totlen_bwd_pkts; bwd_header_len; flow_iat_min; flow_duration &               bwd_pkts_s; pkt_len_max; bwd_header_len; totlen_bwd_pkts; protocol \\\\\n",
      "   \\rotatebox{90}{\\parbox{30pt}{\\textbf{CIC-NB15}}} &    fin_flag_cnt; dst_port; pkt_size_avg; init_fwd_win_byts; flow_pkts_s &            dst_port; bwd_pkt_len_max; pkt_len_var; fwd_act_data_pkts; fin_flag_cnt &                  active_std; idle_max; flow_iat_max; fwd_iat_max; fwd_pkt_len_std &          pkt_len_var; dst_port; bwd_pkt_len_max; flow_iat_mean; fwd_act_data_pkts &         bwd_pkt_len_mean; dst_port; fwd_pkt_len_mean; flow_duration; flow_byts_s \\\\\n",
      "\\rotatebox{90}{\\parbox{30pt}{\\textbf{CIC-CIC-IDS}}} & subflow_fwd_byts; flow_byts_s; psh_flag_cnt; fwd_header_len; bwd_pkts_s & fwd_pkt_len_max; flow_iat_min; fwd_pkt_len_std; fwd_seg_size_avg; fwd_pkt_len_mean & fwd_act_data_pkts; tot_fwd_pkts; subflow_fwd_pkts; tot_bwd_pkts; subflow_bwd_pkts &     fwd_act_data_pkts; tot_fwd_pkts; subflow_fwd_pkts; pkt_len_mean; tot_bwd_pkts &            totlen_fwd_pkts; flow_byts_s; psh_flag_cnt; pkt_size_avg; pkt_len_min \\\\\n",
      "\\rotatebox{90}{\\parbox{30pt}{\\textbf{CIC-ToN-IoT}}} &       fwd_header_len; dst_port; idle_mean; bwd_iat_max; fwd_pkt_len_max &                   dst_port; pkt_len_min; bwd_byts_b_avg; protocol; totlen_bwd_pkts &          bwd_iat_min; rst_flag_cnt; bwd_pkt_len_max; pkt_len_var; bwd_pkt_len_std &              bwd_header_len; fwd_header_len; psh_flag_cnt; dst_port; syn_flag_cnt & bwd_pkt_len_min; dst_port; init_bwd_win_byts; bwd_pkt_len_std; init_fwd_win_byts \\\\\n",
      "\\rotatebox{90}{\\parbox{30pt}{\\textbf{CIC-BoT-IoT}}} &          syn_flag_cnt; dst_port; flow_iat_min; protocol; bwd_header_len &     bwd_iat_tot; init_bwd_win_byts; fwd_header_len; tot_fwd_pkts; subflow_fwd_pkts &  bwd_header_len; subflow_bwd_pkts; tot_bwd_pkts; fwd_header_len; subflow_fwd_pkts & tot_bwd_pkts; subflow_bwd_pkts; bwd_header_len; fwd_act_data_pkts; fwd_header_len &          protocol; fwd_pkt_len_min; init_bwd_win_byts; syn_flag_cnt; pkt_len_max \\\\\n",
      "\\bottomrule\n",
      "\\end{tabular}\n",
      "\\end{table}\n",
      "\n"
     ]
    }
   ],
   "source": [
    "pd.set_option('display.max_colwidth', None)\n",
    "table = pd.DataFrame(tableInfo)\n",
    "mylabel = \"tab:importFeat\"\n",
    "mycaption = \"\\\\textit{Features} ordenadas por importância para cada modelo e \\\\textit{Data Set}\"\n",
    "tableName = \"top10importFeat\"\n",
    "\n",
    "featFile = open(\"./dissertation/{0}.tex\".format(tableName),\"w\")\n",
    "featFile.write(table.to_latex(column_format='c'*table.columns.size, index=False, caption=mycaption, label=mylabel, position=\"H\", escape=False))\n",
    "featFile.close()\n",
    "\n",
    "print(table.to_latex(column_format='c'*table.columns.size, index=False, caption=mycaption, label=mylabel, position=\"H\", escape=False))\n",
    "#print(pd.DataFrame(table[['DT',\t'LR',\t'MLP',\t'SVM',\t'XGB']].values, columns=['DT',\t'LR',\t'MLP',\t'SVM',\t'XGB'], index=table['Data Set']).to_latex())"
   ]
  },
  {
   "cell_type": "code",
   "execution_count": null,
   "id": "759912b5-6d6a-4549-ae14-e2b862001b7c",
   "metadata": {},
   "outputs": [],
   "source": []
  }
 ],
 "metadata": {
  "kernelspec": {
   "display_name": "Python 3",
   "language": "python",
   "name": "python3"
  },
  "language_info": {
   "codemirror_mode": {
    "name": "ipython",
    "version": 3
   },
   "file_extension": ".py",
   "mimetype": "text/x-python",
   "name": "python",
   "nbconvert_exporter": "python",
   "pygments_lexer": "ipython3",
   "version": "3.8.8"
  }
 },
 "nbformat": 4,
 "nbformat_minor": 5
}
