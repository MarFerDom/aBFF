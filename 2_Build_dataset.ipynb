{
 "cells": [
  {
   "cell_type": "markdown",
   "id": "59071732-d169-4b98-83f1-c613928fa46e",
   "metadata": {},
   "source": [
    "# Build data set (parcial)\n",
    "\n",
    "### Final data sets are built in 3_train_model (before training model) or 4_test_model (if target yet incomplete)\n",
    "### Help below "
   ]
  },
  {
   "cell_type": "code",
   "execution_count": 43,
   "id": "65b936db-a001-4129-b9b2-92ece66217c2",
   "metadata": {},
   "outputs": [
    {
     "name": "stdout",
     "output_type": "stream",
     "text": [
      "Usage: supportFiles/featuresCIC.py <TYPE_LABEL> <PATH_TO_CSV> [OUTPUT_NAME]\n",
      "Types of labels are \n",
      "1 - Bonafide\n",
      "2 - Attack\n",
      "3 - NB15\n",
      "4 - CIC\n"
     ]
    }
   ],
   "source": [
    "%run supportFiles/featuresCIC.py"
   ]
  },
  {
   "cell_type": "markdown",
   "id": "166a253e-3456-43bf-bbe0-e523806866ad",
   "metadata": {},
   "source": [
    "### Examples"
   ]
  },
  {
   "cell_type": "code",
   "execution_count": 13,
   "id": "f4fe7760-f146-497e-a5ba-64bd77a9c0b0",
   "metadata": {},
   "outputs": [
    {
     "name": "stdout",
     "output_type": "stream",
     "text": [
      "loading cic.csv..\n",
      "calculating..\n",
      "labeling...\n",
      "saving..\n"
     ]
    }
   ],
   "source": [
    "%run supportFiles/featuresCIC.py 3 \"./csv/6/\"\n",
    "#<TYPE_LABEL> <PATH_TO_CSV> [OUTPUT_NAME]"
   ]
  },
  {
   "cell_type": "code",
   "execution_count": null,
   "id": "5ace3db6-b95a-4e36-9e93-d196eaeab796",
   "metadata": {},
   "outputs": [],
   "source": [
    "%run supportFiles/featuresCIC.py 2 \"./csv/attack/\""
   ]
  },
  {
   "cell_type": "markdown",
   "id": "f0faf34d-ea8d-4385-9b6c-2f1d5384d925",
   "metadata": {},
   "source": [
    "### Running UNBW-NB15 complete set"
   ]
  },
  {
   "cell_type": "code",
   "execution_count": 1,
   "id": "3e9d6ecb-9836-4664-a13e-3532602cd143",
   "metadata": {},
   "outputs": [
    {
     "name": "stdout",
     "output_type": "stream",
     "text": [
      "running on file #10\n",
      "2021-12-10 14:07:06\n",
      "running on file #11\n",
      "2021-12-10 14:07:19\n",
      "running on file #12\n",
      "2021-12-10 14:07:23\n",
      "running on file #13\n",
      "2021-12-10 14:07:27\n",
      "running on file #14\n",
      "2021-12-10 14:07:32\n",
      "running on file #15\n",
      "2021-12-10 14:07:37\n",
      "running on file #16\n",
      "2021-12-10 14:07:41\n",
      "running on file #17\n",
      "2021-12-10 14:07:46\n",
      "running on file #18\n",
      "2021-12-10 14:07:50\n",
      "running on file #19\n",
      "2021-12-10 14:07:54\n",
      "running on file #20\n",
      "2021-12-10 14:07:58\n",
      "running on file #21\n",
      "2021-12-10 14:08:03\n",
      "running on file #22\n",
      "2021-12-10 14:08:07\n",
      "running on file #23\n",
      "2021-12-10 14:08:12\n",
      "running on file #24\n",
      "2021-12-10 14:08:15\n",
      "running on file #25\n",
      "2021-12-10 14:08:20\n",
      "running on file #26\n",
      "2021-12-10 14:08:25\n",
      "running on file #27\n",
      "2021-12-10 14:08:31\n",
      "running on file #7\n",
      "2021-12-10 14:08:33\n",
      "running on file #8\n",
      "2021-12-10 14:08:38\n",
      "running on file #9\n",
      "2021-12-10 14:08:43\n",
      "Done!\n"
     ]
    }
   ],
   "source": [
    "# run featuresCIC on all UNBW-NB15/cic.csv\n",
    "import os\n",
    "import datetime\n",
    "\n",
    "ignore = ['1', '2', '3', '4', '5', '6']\n",
    "for folder in [x for x in os.listdir('./csv/') if (x.isnumeric() and x not in ignore)]:\n",
    "    print(\"running on file #{0}\".format(folder))\n",
    "    print(datetime.datetime.now().strftime(\"%Y-%m-%d %H:%M:%S\"))\n",
    "    os.system('python ./supportFiles/featuresCIC.py 3 \\\"./csv/{0}/\\\"'.format(folder))\n",
    "print(\"Done!\")\n",
    "#for dir in os.listdir('./csv/') if dir.isnumeric():\n"
   ]
  },
  {
   "cell_type": "code",
   "execution_count": null,
   "id": "159de8c9-8e7e-4ae2-9328-ddcd42a54b5a",
   "metadata": {},
   "outputs": [],
   "source": []
  }
 ],
 "metadata": {
  "kernelspec": {
   "display_name": "Python 3",
   "language": "python",
   "name": "python3"
  },
  "language_info": {
   "codemirror_mode": {
    "name": "ipython",
    "version": 3
   },
   "file_extension": ".py",
   "mimetype": "text/x-python",
   "name": "python",
   "nbconvert_exporter": "python",
   "pygments_lexer": "ipython3",
   "version": "3.8.8"
  }
 },
 "nbformat": 4,
 "nbformat_minor": 5
}
