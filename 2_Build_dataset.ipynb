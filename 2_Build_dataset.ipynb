{
 "cells": [
  {
   "cell_type": "markdown",
   "id": "59071732-d169-4b98-83f1-c613928fa46e",
   "metadata": {},
   "source": [
    "# Build data set (parcial)\n",
    "\n",
    "### Final data sets are built in 3_train_model (before training model) or 4_test_model (if target yet incomplete)\n",
    "### Help below "
   ]
  },
  {
   "cell_type": "code",
   "execution_count": 43,
   "id": "65b936db-a001-4129-b9b2-92ece66217c2",
   "metadata": {},
   "outputs": [
    {
     "name": "stdout",
     "output_type": "stream",
     "text": [
      "Usage: supportFiles/featuresCIC.py <TYPE_LABEL> <PATH_TO_CSV> [OUTPUT_NAME]\n",
      "Types of labels are \n",
      "1 - Bonafide\n",
      "2 - Attack\n",
      "3 - NB15\n",
      "4 - CIC\n"
     ]
    }
   ],
   "source": [
    "%run supportFiles/featuresCIC.py"
   ]
  },
  {
   "cell_type": "markdown",
   "id": "166a253e-3456-43bf-bbe0-e523806866ad",
   "metadata": {},
   "source": [
    "### Examples"
   ]
  },
  {
   "cell_type": "code",
   "execution_count": 1,
   "id": "f4fe7760-f146-497e-a5ba-64bd77a9c0b0",
   "metadata": {},
   "outputs": [
    {
     "name": "stdout",
     "output_type": "stream",
     "text": [
      "loading cic.csv from ./csv/12/\n",
      "calculating..\n",
      "labeling...\n",
      "saving..\n",
      "Done!\n"
     ]
    }
   ],
   "source": [
    "%run supportFiles/featuresCIC.py 3 \"./csv/12/\""
   ]
  },
  {
   "cell_type": "code",
   "execution_count": 1,
   "id": "5ace3db6-b95a-4e36-9e93-d196eaeab796",
   "metadata": {},
   "outputs": [
    {
     "name": "stdout",
     "output_type": "stream",
     "text": [
      "loading cic.csv from ./csv/attack/\n",
      "calculating..\n",
      "labeling...\n",
      "saving..\n",
      "Done!\n"
     ]
    }
   ],
   "source": [
    "%run supportFiles/featuresCIC.py 2 \"./csv/attack/\""
   ]
  },
  {
   "cell_type": "code",
   "execution_count": 2,
   "id": "b95efa0b-8bb6-4f50-ba15-53ce8e849ba3",
   "metadata": {},
   "outputs": [
    {
     "name": "stdout",
     "output_type": "stream",
     "text": [
      "loading cic.csv from ./csv/internet/\n",
      "calculating..\n",
      "labeling...\n",
      "saving..\n",
      "Done!\n"
     ]
    }
   ],
   "source": [
    "%run supportFiles/featuresCIC.py 5 \"./csv/internet/\""
   ]
  },
  {
   "cell_type": "markdown",
   "id": "3349fc5d-2f5f-4ee8-a593-229351e3b84e",
   "metadata": {},
   "source": [
    "### Running Bonafide complete set"
   ]
  },
  {
   "cell_type": "code",
   "execution_count": 2,
   "id": "9566d492-f73b-4bbd-8067-95ee26453e05",
   "metadata": {
    "collapsed": true,
    "jupyter": {
     "outputs_hidden": true
    },
    "tags": []
   },
   "outputs": [
    {
     "name": "stdout",
     "output_type": "stream",
     "text": [
      "running on file #output_00000_20201110020000filtered\n",
      "2021-12-14 23:21:40\n",
      "running on file #output_00001_20201110020009filtered\n",
      "2021-12-14 23:21:44\n",
      "running on file #output_00002_20201110020018filtered\n",
      "2021-12-14 23:21:48\n",
      "running on file #output_00003_20201110020027filtered\n",
      "2021-12-14 23:21:52\n",
      "running on file #output_00004_20201110020036filtered\n",
      "2021-12-14 23:21:57\n",
      "running on file #output_00005_20201110020045filtered\n",
      "2021-12-14 23:22:01\n",
      "running on file #output_00006_20201110020055filtered\n",
      "2021-12-14 23:22:05\n",
      "running on file #output_00007_20201110020104filtered\n",
      "2021-12-14 23:22:11\n",
      "running on file #output_00008_20201110020114filtered\n",
      "2021-12-14 23:22:15\n",
      "running on file #output_00009_20201110020123filtered\n",
      "2021-12-14 23:22:20\n",
      "running on file #output_00010_20201110020134filtered\n",
      "2021-12-14 23:22:26\n",
      "running on file #output_00011_20201110020144filtered\n",
      "2021-12-14 23:22:30\n",
      "running on file #output_00012_20201110020154filtered\n",
      "2021-12-14 23:22:35\n",
      "running on file #output_00013_20201110020204filtered\n",
      "2021-12-14 23:22:40\n",
      "running on file #output_00014_20201110020213filtered\n",
      "2021-12-14 23:22:44\n",
      "running on file #output_00015_20201110020222filtered\n",
      "2021-12-14 23:22:48\n",
      "running on file #output_00016_20201110020230filtered\n",
      "2021-12-14 23:22:52\n",
      "running on file #output_00017_20201110020238filtered\n",
      "2021-12-14 23:22:56\n",
      "running on file #output_00018_20201110020245filtered\n",
      "2021-12-14 23:23:00\n",
      "running on file #output_00019_20201110020254filtered\n",
      "2021-12-14 23:23:04\n",
      "running on file #output_00020_20201110020302filtered\n",
      "2021-12-14 23:23:08\n",
      "running on file #output_00021_20201110020310filtered\n",
      "2021-12-14 23:23:12\n",
      "running on file #output_00022_20201110020318filtered\n",
      "2021-12-14 23:23:16\n",
      "running on file #output_00023_20201110020326filtered\n",
      "2021-12-14 23:23:20\n",
      "running on file #output_00024_20201110020335filtered\n",
      "2021-12-14 23:23:24\n",
      "running on file #output_00025_20201110020344filtered\n",
      "2021-12-14 23:23:29\n",
      "running on file #output_00026_20201110020353filtered\n",
      "2021-12-14 23:23:33\n",
      "running on file #output_00027_20201110020403filtered\n",
      "2021-12-14 23:23:37\n",
      "running on file #output_00028_20201110020412filtered\n",
      "2021-12-14 23:23:41\n",
      "running on file #output_00029_20201110020421filtered\n",
      "2021-12-14 23:23:46\n",
      "running on file #output_00030_20201110020430filtered\n",
      "2021-12-14 23:23:50\n",
      "running on file #output_00031_20201110020439filtered\n",
      "2021-12-14 23:23:54\n",
      "running on file #output_00032_20201110020448filtered\n",
      "2021-12-14 23:23:58\n",
      "running on file #output_00033_20201110020457filtered\n",
      "2021-12-14 23:24:02\n",
      "running on file #output_00034_20201110020506filtered\n",
      "2021-12-14 23:24:06\n",
      "running on file #output_00035_20201110020515filtered\n",
      "2021-12-14 23:24:10\n",
      "running on file #output_00036_20201110020524filtered\n",
      "2021-12-14 23:24:14\n",
      "running on file #output_00037_20201110020534filtered\n",
      "2021-12-14 23:24:18\n",
      "running on file #output_00038_20201110020543filtered\n",
      "2021-12-14 23:24:22\n",
      "running on file #output_00039_20201110020553filtered\n",
      "2021-12-14 23:24:26\n",
      "running on file #output_00040_20201110020602filtered\n",
      "2021-12-14 23:24:30\n",
      "running on file #output_00041_20201110020611filtered\n",
      "2021-12-14 23:24:35\n",
      "running on file #output_00042_20201110020621filtered\n",
      "2021-12-14 23:24:40\n",
      "running on file #output_00043_20201110020632filtered\n",
      "2021-12-14 23:24:45\n",
      "running on file #output_00044_20201110020642filtered\n",
      "2021-12-14 23:24:50\n",
      "running on file #output_00045_20201110020652filtered\n",
      "2021-12-14 23:24:54\n",
      "running on file #output_00046_20201110020703filtered\n",
      "2021-12-14 23:24:59\n",
      "running on file #output_00047_20201110020714filtered\n",
      "2021-12-14 23:25:04\n",
      "running on file #output_00048_20201110020725filtered\n",
      "2021-12-14 23:25:08\n",
      "running on file #output_00049_20201110020736filtered\n",
      "2021-12-14 23:25:13\n",
      "running on file #output_00050_20201110020746filtered\n",
      "2021-12-14 23:25:18\n",
      "running on file #output_00051_20201110020756filtered\n",
      "2021-12-14 23:25:22\n",
      "running on file #output_00052_20201110020806filtered\n",
      "2021-12-14 23:25:27\n",
      "running on file #output_00053_20201110020817filtered\n",
      "2021-12-14 23:25:32\n",
      "running on file #output_00054_20201110020828filtered\n",
      "2021-12-14 23:25:37\n",
      "running on file #output_00055_20201110020838filtered\n",
      "2021-12-14 23:25:42\n",
      "running on file #output_00056_20201110020849filtered\n",
      "2021-12-14 23:25:47\n",
      "running on file #output_00057_20201110020859filtered\n",
      "2021-12-14 23:25:51\n",
      "running on file #output_00058_20201110020908filtered\n",
      "2021-12-14 23:25:55\n",
      "running on file #output_00059_20201110020917filtered\n",
      "2021-12-14 23:25:59\n",
      "running on file #output_00060_20201110020926filtered\n",
      "2021-12-14 23:26:03\n",
      "running on file #output_00061_20201110020935filtered\n",
      "2021-12-14 23:26:07\n",
      "running on file #output_00062_20201110020944filtered\n",
      "2021-12-14 23:26:11\n",
      "running on file #output_00063_20201110020953filtered\n",
      "2021-12-14 23:26:16\n",
      "running on file #output_00064_20201110021003filtered\n",
      "2021-12-14 23:26:21\n",
      "running on file #output_00065_20201110021013filtered\n",
      "2021-12-14 23:26:25\n",
      "running on file #output_00066_20201110021023filtered\n",
      "2021-12-14 23:26:30\n",
      "running on file #output_00067_20201110021034filtered\n",
      "2021-12-14 23:26:35\n",
      "running on file #output_00068_20201110021044filtered\n",
      "2021-12-14 23:26:40\n",
      "running on file #output_00069_20201110021054filtered\n",
      "2021-12-14 23:26:44\n",
      "running on file #output_00070_20201110021103filtered\n",
      "2021-12-14 23:26:49\n",
      "running on file #output_00071_20201110021111filtered\n",
      "2021-12-14 23:26:52\n",
      "running on file #output_00072_20201110021118filtered\n",
      "2021-12-14 23:26:56\n",
      "running on file #output_00073_20201110021126filtered\n",
      "2021-12-14 23:27:00\n",
      "running on file #output_00074_20201110021134filtered\n",
      "2021-12-14 23:27:03\n",
      "running on file #output_00075_20201110021143filtered\n",
      "2021-12-14 23:27:08\n",
      "running on file #output_00076_20201110021152filtered\n",
      "2021-12-14 23:27:12\n",
      "running on file #output_00077_20201110021201filtered\n",
      "2021-12-14 23:27:16\n",
      "running on file #output_00078_20201110021211filtered\n",
      "2021-12-14 23:27:21\n",
      "running on file #output_00079_20201110021220filtered\n",
      "2021-12-14 23:27:25\n",
      "running on file #output_00080_20201110021230filtered\n",
      "2021-12-14 23:27:29\n",
      "running on file #output_00081_20201110021239filtered\n",
      "2021-12-14 23:27:34\n",
      "running on file #output_00082_20201110021248filtered\n",
      "2021-12-14 23:27:37\n",
      "running on file #output_00083_20201110021257filtered\n",
      "2021-12-14 23:27:42\n",
      "running on file #output_00084_20201110021306filtered\n",
      "2021-12-14 23:27:46\n",
      "running on file #output_00085_20201110021315filtered\n",
      "2021-12-14 23:27:50\n",
      "running on file #output_00086_20201110021325filtered\n",
      "2021-12-14 23:27:54\n",
      "running on file #output_00087_20201110021335filtered\n",
      "2021-12-14 23:27:58\n",
      "running on file #output_00088_20201110021345filtered\n",
      "2021-12-14 23:28:03\n",
      "running on file #output_00089_20201110021354filtered\n",
      "2021-12-14 23:28:07\n",
      "running on file #output_00090_20201110021403filtered\n",
      "2021-12-14 23:28:12\n",
      "running on file #output_00091_20201110021412filtered\n",
      "2021-12-14 23:28:15\n",
      "running on file #output_00092_20201110021421filtered\n",
      "2021-12-14 23:28:20\n",
      "running on file #output_00093_20201110021429filtered\n",
      "2021-12-14 23:28:24\n",
      "running on file #output_00094_20201110021438filtered\n",
      "2021-12-14 23:28:28\n",
      "running on file #output_00095_20201110021448filtered\n",
      "2021-12-14 23:28:32\n",
      "running on file #output_00096_20201110021458filtered\n",
      "2021-12-14 23:28:37\n",
      "Done!\n"
     ]
    }
   ],
   "source": [
    "# run featuresCIC on all AB-TRAP(bonafide)/cic.csv\n",
    "import os\n",
    "import datetime\n",
    "\n",
    "ignore = []#['1', '2', '3', '4', '5', '6']\n",
    "for folder in [x for x in os.listdir('./csv/') if ('output' in x and x not in ignore)]:\n",
    "    print(\"running on file #{0}\".format(folder))\n",
    "    print(datetime.datetime.now().strftime(\"%Y-%m-%d %H:%M:%S\"))\n",
    "    os.system('python ./supportFiles/featuresCIC.py 1 \\\"./csv/{0}/\\\"'.format(folder))\n",
    "print(\"Done!\")\n",
    "#for dir in os.listdir('./csv/') if dir.isnumeric():\n"
   ]
  },
  {
   "cell_type": "markdown",
   "id": "f0faf34d-ea8d-4385-9b6c-2f1d5384d925",
   "metadata": {},
   "source": [
    "### Running UNBW-NB15 complete set"
   ]
  },
  {
   "cell_type": "code",
   "execution_count": 2,
   "id": "3e9d6ecb-9836-4664-a13e-3532602cd143",
   "metadata": {
    "collapsed": true,
    "jupyter": {
     "outputs_hidden": true
    },
    "tags": []
   },
   "outputs": [
    {
     "name": "stdout",
     "output_type": "stream",
     "text": [
      "running on file #1\n",
      "2021-12-14 23:13:39\n",
      "running on file #10\n",
      "2021-12-14 23:13:43\n",
      "running on file #11\n",
      "2021-12-14 23:13:46\n",
      "running on file #13\n",
      "2021-12-14 23:13:49\n",
      "running on file #14\n",
      "2021-12-14 23:13:52\n",
      "running on file #15\n",
      "2021-12-14 23:13:55\n",
      "running on file #16\n",
      "2021-12-14 23:13:58\n",
      "running on file #17\n",
      "2021-12-14 23:14:01\n",
      "running on file #18\n",
      "2021-12-14 23:14:04\n",
      "running on file #19\n",
      "2021-12-14 23:14:06\n",
      "running on file #2\n",
      "2021-12-14 23:14:09\n",
      "running on file #20\n",
      "2021-12-14 23:14:12\n",
      "running on file #21\n",
      "2021-12-14 23:14:15\n",
      "running on file #22\n",
      "2021-12-14 23:14:18\n",
      "running on file #23\n",
      "2021-12-14 23:14:21\n",
      "running on file #24\n",
      "2021-12-14 23:14:23\n",
      "running on file #25\n",
      "2021-12-14 23:14:26\n",
      "running on file #26\n",
      "2021-12-14 23:14:29\n",
      "running on file #27\n",
      "2021-12-14 23:14:32\n",
      "running on file #3\n",
      "2021-12-14 23:14:35\n",
      "running on file #4\n",
      "2021-12-14 23:14:38\n",
      "running on file #5\n",
      "2021-12-14 23:14:41\n",
      "running on file #6\n",
      "2021-12-14 23:14:44\n",
      "running on file #7\n",
      "2021-12-14 23:14:47\n",
      "running on file #8\n",
      "2021-12-14 23:14:50\n",
      "running on file #9\n",
      "2021-12-14 23:14:53\n",
      "Done!\n"
     ]
    }
   ],
   "source": [
    "# run featuresCIC on all UNBW-NB15/cic.csv\n",
    "import os\n",
    "import datetime\n",
    "\n",
    "ignore = ['12']#['1', '2', '3', '4', '5', '6']\n",
    "for folder in [x for x in os.listdir('./csv/') if (x.isnumeric() and x not in ignore)]:\n",
    "    print(\"running on file #{0}\".format(folder))\n",
    "    print(datetime.datetime.now().strftime(\"%Y-%m-%d %H:%M:%S\"))\n",
    "    os.system('python ./supportFiles/featuresCIC.py 3 \\\"./csv/{0}/\\\"'.format(folder))\n",
    "print(\"Done!\")\n",
    "#for dir in os.listdir('./csv/') if dir.isnumeric():\n"
   ]
  },
  {
   "cell_type": "markdown",
   "id": "8d67ec29-740f-490f-ae42-73f255e456ed",
   "metadata": {},
   "source": [
    "# Tests with csv files"
   ]
  },
  {
   "cell_type": "code",
   "execution_count": 5,
   "id": "6f9482b6-a805-4f52-9f46-39c7afd50916",
   "metadata": {
    "tags": []
   },
   "outputs": [],
   "source": [
    "import pandas as pd\n",
    "argus = pd.read_csv(\"./csv/6/argus.csv\", dtype={'Proto':'str'} ,sep=',')\n",
    "argus = argus[['SrcAddr','Sport','DstAddr','Dport','Proto']]\n",
    "nb = pd.read_csv(\"./dataset/NB15_12_CIC.csv\", sep=',')"
   ]
  },
  {
   "cell_type": "code",
   "execution_count": 6,
   "id": "a1a083c9-1ec5-4f9d-baa6-663cc4a82ed0",
   "metadata": {},
   "outputs": [
    {
     "data": {
      "text/html": [
       "<div>\n",
       "<style scoped>\n",
       "    .dataframe tbody tr th:only-of-type {\n",
       "        vertical-align: middle;\n",
       "    }\n",
       "\n",
       "    .dataframe tbody tr th {\n",
       "        vertical-align: top;\n",
       "    }\n",
       "\n",
       "    .dataframe thead th {\n",
       "        text-align: right;\n",
       "    }\n",
       "</style>\n",
       "<table border=\"1\" class=\"dataframe\">\n",
       "  <thead>\n",
       "    <tr style=\"text-align: right;\">\n",
       "      <th></th>\n",
       "      <th>src_ip</th>\n",
       "      <th>dst_ip</th>\n",
       "      <th>src_port</th>\n",
       "      <th>dst_port</th>\n",
       "      <th>timestamp</th>\n",
       "      <th>flow_duration</th>\n",
       "      <th>flow_byts_s</th>\n",
       "      <th>flow_pkts_s</th>\n",
       "      <th>fwd_pkts_s</th>\n",
       "      <th>bwd_pkts_s</th>\n",
       "      <th>...</th>\n",
       "      <th>fwd_seg_size_avg</th>\n",
       "      <th>bwd_seg_size_avg</th>\n",
       "      <th>cwe_flag_count</th>\n",
       "      <th>subflow_fwd_pkts</th>\n",
       "      <th>subflow_bwd_pkts</th>\n",
       "      <th>subflow_fwd_byts</th>\n",
       "      <th>subflow_bwd_byts</th>\n",
       "      <th>flow_ID</th>\n",
       "      <th>protocol</th>\n",
       "      <th>Label</th>\n",
       "    </tr>\n",
       "  </thead>\n",
       "  <tbody>\n",
       "  </tbody>\n",
       "</table>\n",
       "<p>0 rows × 84 columns</p>\n",
       "</div>"
      ],
      "text/plain": [
       "Empty DataFrame\n",
       "Columns: [src_ip, dst_ip, src_port, dst_port, timestamp, flow_duration, flow_byts_s, flow_pkts_s, fwd_pkts_s, bwd_pkts_s, tot_fwd_pkts, tot_bwd_pkts, totlen_fwd_pkts, totlen_bwd_pkts, fwd_pkt_len_max, fwd_pkt_len_min, fwd_pkt_len_mean, fwd_pkt_len_std, bwd_pkt_len_max, bwd_pkt_len_min, bwd_pkt_len_mean, bwd_pkt_len_std, pkt_len_max, pkt_len_min, pkt_len_mean, pkt_len_std, pkt_len_var, fwd_header_len, bwd_header_len, fwd_seg_size_min, fwd_act_data_pkts, flow_iat_mean, flow_iat_max, flow_iat_min, flow_iat_std, fwd_iat_tot, fwd_iat_max, fwd_iat_min, fwd_iat_mean, fwd_iat_std, bwd_iat_tot, bwd_iat_max, bwd_iat_min, bwd_iat_mean, bwd_iat_std, fwd_psh_flags, bwd_psh_flags, fwd_urg_flags, bwd_urg_flags, fin_flag_cnt, syn_flag_cnt, rst_flag_cnt, psh_flag_cnt, ack_flag_cnt, urg_flag_cnt, ece_flag_cnt, down_up_ratio, pkt_size_avg, init_fwd_win_byts, init_bwd_win_byts, active_max, active_min, active_mean, active_std, idle_max, idle_min, idle_mean, idle_std, fwd_byts_b_avg, fwd_pkts_b_avg, bwd_byts_b_avg, bwd_pkts_b_avg, fwd_blk_rate_avg, bwd_blk_rate_avg, fwd_seg_size_avg, bwd_seg_size_avg, cwe_flag_count, subflow_fwd_pkts, subflow_bwd_pkts, subflow_fwd_byts, subflow_bwd_byts, flow_ID, protocol, Label]\n",
       "Index: []\n",
       "\n",
       "[0 rows x 84 columns]"
      ]
     },
     "execution_count": 6,
     "metadata": {},
     "output_type": "execute_result"
    }
   ],
   "source": [
    "nb.head(5)"
   ]
  },
  {
   "cell_type": "code",
   "execution_count": 3,
   "id": "bbfcc252-6353-48cc-b163-ff40098d5f40",
   "metadata": {},
   "outputs": [],
   "source": [
    "teste = argus['Proto']\n",
    "teste = teste[teste != 'man']\n",
    "teste = teste.apply(int)"
   ]
  },
  {
   "cell_type": "code",
   "execution_count": 6,
   "id": "0ffd0332-ee5b-4b67-9b79-49c65bda57b2",
   "metadata": {
    "tags": []
   },
   "outputs": [
    {
     "data": {
      "text/plain": [
       "array([ 6, 17,  0], dtype=int64)"
      ]
     },
     "execution_count": 6,
     "metadata": {},
     "output_type": "execute_result"
    }
   ],
   "source": [
    "#print([x for x in teste if x not in nb['protocol']] )\n",
    "#print([x for x in nb['protocol'] if x not in teste] )\n",
    "nb['protocol'].unique()\n",
    "#nb.dtypes[nb.dtypes==float].keys()"
   ]
  },
  {
   "cell_type": "markdown",
   "id": "5394ec25-70a5-4d7c-a4a9-37ab8ea3f78d",
   "metadata": {},
   "source": [
    "# Check NB15 label file"
   ]
  },
  {
   "cell_type": "code",
   "execution_count": 6,
   "id": "1ed6c7b3-d2cf-490e-b83c-21e23d4b301d",
   "metadata": {
    "tags": []
   },
   "outputs": [
    {
     "data": {
      "text/plain": [
       "array(['tcp', 'udp', 'ospf', 'sctp', 'sep', 'mobile', 'sun-nd', 'swipe',\n",
       "       'pim', 'ggp', 'ip', 'ipnip', 'st2', 'cbt', 'egp', 'argus',\n",
       "       'bbn-rcc', 'chaos', 'emcon', 'igp', 'nvp', 'pup', 'xnet', 'mux',\n",
       "       'dcn', 'hmp', 'prm', 'trunk-1', 'xns-idp', 'trunk-2', 'leaf-1',\n",
       "       'leaf-2', 'irtp', 'rdp', 'iso-tp4', 'netblt', 'merit-inp',\n",
       "       'mfe-nsp', '3pc', 'idpr', 'xtp', 'ddp', 'idpr-cmtp', 'tp++', 'il',\n",
       "       'ipv6', 'idrp', 'ipv6-frag', 'ipv6-route', 'sdrp', 'gre', 'mhrp',\n",
       "       'rsvp', 'bna', 'i-nlsp', 'rvd', 'narp', 'ipv6-no', 'skip', 'tlsp',\n",
       "       'ipv6-opts', 'any', 'cftp', 'kryptolan', 'sat-expak', 'ippc',\n",
       "       'sat-mon', 'cpnx', 'ipcv', 'visa', 'cphb', 'wsn', 'br-sat-mon',\n",
       "       'pvp', 'wb-expak', 'wb-mon', 'iso-ip', 'secure-vmtp', 'vmtp',\n",
       "       'ttp', 'vines', 'nsfnet-igp', 'dgp', 'eigrp', 'tcf', 'sprite-rpc',\n",
       "       'larp', 'mtp', 'ax.25', 'ipip', 'micp', 'aes-sp3-d', 'encap',\n",
       "       'etherip', 'gmtp', 'pri-enc', 'ifmp', 'pnni', 'aris', 'a/n', 'qnx',\n",
       "       'scps', 'compaq-peer', 'ipcomp', 'snp', 'ipx-n-ip', 'vrrp', 'pgm',\n",
       "       'zero', 'ddx', 'iatp', 'l2tp', 'srp', 'stp', 'smp', 'uti', 'sm',\n",
       "       'ptp', 'crtp', 'fire', 'isis', 'crudp', 'sccopmce', 'iplt', 'pipe',\n",
       "       'sps', 'fc', 'unas', 'ib'], dtype=object)"
      ]
     },
     "execution_count": 6,
     "metadata": {},
     "output_type": "execute_result"
    }
   ],
   "source": [
    "labels = pd.read_csv(\"./labels/NUSW-NB15_GT.csv\")\n",
    "labels['Protocol'].unique()"
   ]
  },
  {
   "cell_type": "code",
   "execution_count": 19,
   "id": "cc048bbb-5e99-48d6-b8ea-72f6186c0b4f",
   "metadata": {
    "tags": []
   },
   "outputs": [
    {
     "name": "stdout",
     "output_type": "stream",
     "text": [
      "\"tcp\": '6', \"udp\": '17', \"ggp\": '3', \"ip\": '0', \"egp\": '8', \"pup\": '12', \"hmp\": '20', \"xns-idp\": '22', \"rdp\": '27', \"ipv6\": '41', \"ipv6-frag\": '44', \"ipv6-route\": '43', \"rvd\": '66', \"ipv6-opts\": '60'\n",
      "\n",
      "Bad Protocols: ospf, sctp, sep, mobile, sun-nd, swipe, pim, ipnip, st2, cbt, argus, bbn-rcc, chaos, emcon, igp, nvp, xnet, mux, dcn, prm, trunk-1, trunk-2, leaf-1, leaf-2, irtp, iso-tp4, netblt, merit-inp, mfe-nsp, 3pc, idpr, xtp, ddp, idpr-cmtp, tp++, il, idrp, sdrp, gre, mhrp, rsvp, bna, i-nlsp, narp, ipv6-no, skip, tlsp, any, cftp, kryptolan, sat-expak, ippc, sat-mon, cpnx, ipcv, visa, cphb, wsn, br-sat-mon, pvp, wb-expak, wb-mon, iso-ip, secure-vmtp, vmtp, ttp, vines, nsfnet-igp, dgp, eigrp, tcf, sprite-rpc, larp, mtp, ax.25, ipip, micp, aes-sp3-d, encap, etherip, gmtp, pri-enc, ifmp, pnni, aris, a/n, qnx, scps, compaq-peer, ipcomp, snp, ipx-n-ip, vrrp, pgm, zero, ddx, iatp, l2tp, srp, stp, smp, uti, sm, ptp, crtp, fire, isis, crudp, sccopmce, iplt, pipe, sps, fc, unas, ib\n"
     ]
    }
   ],
   "source": [
    "import socket\n",
    "msg = \"\"\n",
    "badProto = \"\"\n",
    "for label in labels['Protocol'].unique():\n",
    "    try:\n",
    "        msg = msg + \"\\\"{0}\\\": \\'{1}\\', \".format(label, socket.getprotobyname(label))\n",
    "    except Exception as e:\n",
    "        badProto = badProto + label + \", \"\n",
    "        #print(\"Error: {0}\\nProtocol: {1}\".format(e,label))\n",
    "print(msg[0:-2])\n",
    "print(\"\\nBad Protocols: \"+badProto[0:-2])"
   ]
  },
  {
   "cell_type": "code",
   "execution_count": null,
   "id": "159de8c9-8e7e-4ae2-9328-ddcd42a54b5a",
   "metadata": {},
   "outputs": [],
   "source": []
  }
 ],
 "metadata": {
  "kernelspec": {
   "display_name": "Python 3",
   "language": "python",
   "name": "python3"
  },
  "language_info": {
   "codemirror_mode": {
    "name": "ipython",
    "version": 3
   },
   "file_extension": ".py",
   "mimetype": "text/x-python",
   "name": "python",
   "nbconvert_exporter": "python",
   "pygments_lexer": "ipython3",
   "version": "3.8.8"
  }
 },
 "nbformat": 4,
 "nbformat_minor": 5
}
