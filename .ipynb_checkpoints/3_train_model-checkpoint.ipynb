{
 "cells": [
  {
   "cell_type": "code",
   "execution_count": 13,
   "id": "f4fe7760-f146-497e-a5ba-64bd77a9c0b0",
   "metadata": {},
   "outputs": [
    {
     "name": "stdout",
     "output_type": "stream",
     "text": [
      "loading cic.csv..\n",
      "calculating..\n",
      "labeling...\n",
      "saving..\n"
     ]
    }
   ],
   "source": [
    "%run supportFiles/featuresCIC.py 3 \"./csv/6/\"\n",
    "#<TYPE_LABEL> <PATH_TO_CSV> [OUTPUT_NAME]"
   ]
  },
  {
   "cell_type": "code",
   "execution_count": null,
   "id": "5ace3db6-b95a-4e36-9e93-d196eaeab796",
   "metadata": {},
   "outputs": [],
   "source": [
    "%run supportFiles/featuresCIC.py 2 \"./csv/attack/\""
   ]
  }
 ],
 "metadata": {
  "kernelspec": {
   "display_name": "Python 3",
   "language": "python",
   "name": "python3"
  },
  "language_info": {
   "codemirror_mode": {
    "name": "ipython",
    "version": 3
   },
   "file_extension": ".py",
   "mimetype": "text/x-python",
   "name": "python",
   "nbconvert_exporter": "python",
   "pygments_lexer": "ipython3",
   "version": "3.8.8"
  }
 },
 "nbformat": 4,
 "nbformat_minor": 5
}
