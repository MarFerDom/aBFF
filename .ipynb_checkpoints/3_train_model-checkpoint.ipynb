{
 "cells": [
  {
   "cell_type": "markdown",
   "id": "ac047b22-0265-4372-a037-51f5e8f5c226",
   "metadata": {},
   "source": [
    "## Help"
   ]
  },
  {
   "cell_type": "code",
   "execution_count": 1,
   "id": "6e2e28db-4f17-4e48-ad93-8a251fd1e4d9",
   "metadata": {},
   "outputs": [
    {
     "name": "stdout",
     "output_type": "stream",
     "text": [
      "Usage: supportFiles/train_model.py <MAX_NUM_FILES> <FEATURE_SET> <PCAP_SOURCE> [\"KEEP\"] [\"SCAN_ALL\" (has precedence)] [\"SCAN_ONLY\"]\n",
      "Datasets available are :\n",
      " {0: 'AB-TRAP', 1: 'NB15', 2: 'CIC-IDS', 3: 'ToN-IoT', 4: 'BoT-IoT', 5: 'internet'}\n"
     ]
    }
   ],
   "source": [
    "%run supportFiles/train_model.py"
   ]
  },
  {
   "cell_type": "code",
   "execution_count": 2,
   "id": "76973c57-74d2-478f-949e-2c14ffaf2409",
   "metadata": {},
   "outputs": [],
   "source": [
    "TYPE_OF_TEST = \"\\\"KEEP\\\" \\\"SCAN_ONLY\\\" \\\"oversampling\\\"\" #\\\"undersampling\\\"\" #\"SCAN_ALL\"\n",
    "MAX_NUM_FILES = 96\n",
    "CIC_FEATURES = 1"
   ]
  },
  {
   "cell_type": "markdown",
   "id": "316cdb66-a22d-4957-b1a2-90106d2982cc",
   "metadata": {},
   "source": [
    "### TRAIN ALL"
   ]
  },
  {
   "cell_type": "code",
   "execution_count": 3,
   "id": "c71132b1-f944-4c6e-a546-5a59f87d1f68",
   "metadata": {
    "collapsed": true,
    "jupyter": {
     "outputs_hidden": true
    },
    "tags": []
   },
   "outputs": [
    {
     "name": "stdout",
     "output_type": "stream",
     "text": [
      "No Overwrite selected. Skipping ML for existing joblib files\n",
      "Target Class: Scanning\\Reconnaissance selected, exclude other attacks from Benign data\n",
      "Loading data set from existing file: AB-TRAP_CIC.csv\n",
      "reading file: \n",
      "Undersampling majority class\n",
      "2022-03-13 22:22:08\n",
      "training MLP from SCAN_AB-TRAP_CIC_us\n",
      "\n",
      "2022-03-13 22:34:57\n",
      "training SVM from SCAN_AB-TRAP_CIC_us\n",
      "\n",
      "2022-03-13 22:52:22\n",
      "training XGB from SCAN_AB-TRAP_CIC_us\n",
      "\n",
      "2022-03-13 22:59:10\n",
      "training NB from SCAN_AB-TRAP_CIC_us\n",
      "\n",
      "2022-03-13 22:59:15\n",
      "training LR from SCAN_AB-TRAP_CIC_us\n",
      "\n",
      "2022-03-13 23:06:14\n",
      "training DT from SCAN_AB-TRAP_CIC_us\n",
      "\n",
      "2022-03-13 23:11:28\n",
      "Done!\n",
      "\n",
      "No Overwrite selected. Skipping ML for existing joblib files\n",
      "Target Class: Scanning\\Reconnaissance selected, exclude other attacks from Benign data\n",
      "Loading data set from existing file: NB15_CIC.csv\n",
      "reading file: \n",
      "2022-03-13 23:11:29\n",
      "setTarget: Removed 1911 flows from other attack types\n",
      "\n",
      "Undersampling majority class\n",
      "2022-03-13 23:11:29\n",
      "training MLP from SCAN_NB15_CIC_us\n",
      "\n",
      "2022-03-13 23:11:36\n",
      "training SVM from SCAN_NB15_CIC_us\n",
      "\n",
      "2022-03-13 23:11:36\n",
      "training XGB from SCAN_NB15_CIC_us\n",
      "\n",
      "2022-03-13 23:11:38\n",
      "training NB from SCAN_NB15_CIC_us\n",
      "\n",
      "2022-03-13 23:11:39\n",
      "training LR from SCAN_NB15_CIC_us\n",
      "\n",
      "2022-03-13 23:11:43\n",
      "training DT from SCAN_NB15_CIC_us\n",
      "\n",
      "2022-03-13 23:11:44\n",
      "Done!\n",
      "\n",
      "No Overwrite selected. Skipping ML for existing joblib files\n",
      "Target Class: Scanning\\Reconnaissance selected, exclude other attacks from Benign data\n",
      "Loading data set from existing file: CIC-IDS_CIC.csv\n",
      "reading file: \n",
      "2022-03-13 23:12:10\n",
      "setTarget: Removed 397751 flows from other attack types\n",
      "\n",
      "Undersampling majority class\n",
      "2022-03-13 23:12:14\n",
      "training MLP from SCAN_CIC-IDS_CIC_us\n",
      "\n",
      "2022-03-13 23:39:33\n",
      "training SVM from SCAN_CIC-IDS_CIC_us\n",
      "\n",
      "2022-03-13 23:51:45\n",
      "training XGB from SCAN_CIC-IDS_CIC_us\n",
      "\n",
      "2022-03-13 23:59:58\n",
      "training NB from SCAN_CIC-IDS_CIC_us\n",
      "\n",
      "2022-03-14 00:00:04\n",
      "training LR from SCAN_CIC-IDS_CIC_us\n",
      "\n",
      "2022-03-14 00:07:46\n",
      "training DT from SCAN_CIC-IDS_CIC_us\n",
      "\n",
      "2022-03-14 00:15:49\n",
      "Done!\n",
      "\n",
      "ToN-IoT and BoT-IoT only available in CIC dataset type\n",
      "No Overwrite selected. Skipping ML for existing joblib files\n",
      "Target Class: Scanning\\Reconnaissance selected, exclude other attacks from Benign data\n",
      "Loading data set from existing file: ToN-IoT_CIC.csv\n",
      "reading file: \n",
      "2022-03-14 00:16:53\n",
      "setTarget: Removed 2800319 flows from other attack types\n",
      "\n",
      "Undersampling majority class\n",
      "2022-03-14 00:16:57\n",
      "training MLP from SCAN_ToN-IoT_CIC_us\n",
      "\n",
      "2022-03-14 00:22:20\n",
      "training SVM from SCAN_ToN-IoT_CIC_us\n",
      "\n",
      "2022-03-14 00:24:21\n",
      "training XGB from SCAN_ToN-IoT_CIC_us\n",
      "\n",
      "2022-03-14 00:26:56\n",
      "training NB from SCAN_ToN-IoT_CIC_us\n",
      "\n",
      "2022-03-14 00:26:57\n",
      "training LR from SCAN_ToN-IoT_CIC_us\n",
      "\n",
      "2022-03-14 00:28:38\n",
      "training DT from SCAN_ToN-IoT_CIC_us\n",
      "\n",
      "2022-03-14 00:30:48\n",
      "Done!\n",
      "\n",
      "ToN-IoT and BoT-IoT only available in CIC dataset type\n",
      "No Overwrite selected. Skipping ML for existing joblib files\n",
      "Target Class: Scanning\\Reconnaissance selected, exclude other attacks from Benign data\n",
      "Loading data set from existing file: BoT-IoT_CIC.csv\n",
      "reading file: \n",
      "2022-03-14 00:36:25\n",
      "setTarget: Removed 9824925 flows from other attack types\n",
      "\n",
      "Undersampling majority class\n",
      "2022-03-14 00:36:33\n",
      "training MLP from SCAN_BoT-IoT_CIC_us\n",
      "\n",
      "2022-03-14 00:49:15\n",
      "training SVM from SCAN_BoT-IoT_CIC_us\n",
      "\n",
      "2022-03-14 00:58:43\n",
      "training XGB from SCAN_BoT-IoT_CIC_us\n",
      "\n",
      "2022-03-14 01:04:35\n",
      "training NB from SCAN_BoT-IoT_CIC_us\n",
      "\n",
      "2022-03-14 01:04:38\n",
      "training LR from SCAN_BoT-IoT_CIC_us\n",
      "\n",
      "2022-03-14 01:08:31\n",
      "training DT from SCAN_BoT-IoT_CIC_us\n",
      "\n",
      "2022-03-14 01:13:11\n",
      "Done!\n",
      "\n",
      "No Overwrite selected. Skipping ML for existing joblib files\n",
      "Target Class: Scanning\\Reconnaissance selected, exclude other attacks from Benign data\n",
      "Loading data set from existing file: internet_CIC.csv\n",
      "reading file: \n",
      "2022-03-14 01:14:45\n",
      "setTarget: Removed 0 flows from other attack types\n",
      "\n",
      "Undersampling majority class\n",
      "2022-03-14 01:14:56\n",
      "training MLP from SCAN_internet_CIC_us\n",
      "\n",
      "2022-03-14 01:22:00\n",
      "training SVM from SCAN_internet_CIC_us\n",
      "\n",
      "2022-03-14 01:33:01\n",
      "training XGB from SCAN_internet_CIC_us\n",
      "\n",
      "2022-03-14 01:36:36\n",
      "training NB from SCAN_internet_CIC_us\n",
      "\n",
      "2022-03-14 01:36:39\n",
      "training LR from SCAN_internet_CIC_us\n",
      "\n",
      "2022-03-14 01:40:33\n",
      "training DT from SCAN_internet_CIC_us\n",
      "\n",
      "2022-03-14 01:42:52\n",
      "Done!\n",
      "\n"
     ]
    }
   ],
   "source": [
    "%run supportFiles/train_model.py $MAX_NUM_FILES $CIC_FEATURES 0 $TYPE_OF_TEST\n",
    "%run supportFiles/train_model.py $MAX_NUM_FILES $CIC_FEATURES 1 $TYPE_OF_TEST\n",
    "%run supportFiles/train_model.py $MAX_NUM_FILES $CIC_FEATURES 2 $TYPE_OF_TEST\n",
    "%run supportFiles/train_model.py $MAX_NUM_FILES $CIC_FEATURES 3 $TYPE_OF_TEST\n",
    "%run supportFiles/train_model.py $MAX_NUM_FILES $CIC_FEATURES 4 $TYPE_OF_TEST\n",
    "%run supportFiles/train_model.py $MAX_NUM_FILES $CIC_FEATURES 5 $TYPE_OF_TEST"
   ]
  },
  {
   "cell_type": "markdown",
   "id": "ae032418-2187-427f-8872-e3758353e7de",
   "metadata": {},
   "source": [
    "## Train AB-TRAP data set models for scanning attack detection"
   ]
  },
  {
   "cell_type": "code",
   "execution_count": 1,
   "id": "e0035a4a-1f66-40de-bc24-e3bec58599b4",
   "metadata": {
    "tags": []
   },
   "outputs": [
    {
     "name": "stdout",
     "output_type": "stream",
     "text": [
      "No Overwrite selected. Skipping ML for existing joblib files\n",
      "Target Class: Scanning\\Reconnaissance selected, exclude other attacks from Benign data\n",
      "Loading data set from existing file: AB-TRAP_CIC.csv\n",
      "reading file: \n",
      "2021-12-16 06:22:00\n",
      "training MLP from SCAN_AB-TRAP_CIC\n",
      "\n",
      "2021-12-16 08:17:17\n",
      "training XGB from SCAN_AB-TRAP_CIC\n",
      "\n",
      "2021-12-16 14:49:00\n",
      "training NB from SCAN_AB-TRAP_CIC\n",
      "\n",
      "2021-12-16 16:49:38\n",
      "training LR from SCAN_AB-TRAP_CIC\n",
      "\n",
      "2021-12-16 22:04:02\n",
      "training DT from SCAN_AB-TRAP_CIC\n",
      "\n",
      "2021-12-17 04:32:24\n",
      "Done!\n",
      "\n"
     ]
    }
   ],
   "source": [
    "%run supportFiles/train_model.py $MAX_NUM_FILES $CIC_FEATURES 0 $TYPE_OF_TEST"
   ]
  },
  {
   "cell_type": "markdown",
   "id": "30e77b42-4f65-4d07-b50c-edd3261e842b",
   "metadata": {},
   "source": [
    "## Train internet AB-TRAP data set models for scanning attack detection"
   ]
  },
  {
   "cell_type": "code",
   "execution_count": null,
   "id": "b74734b7-819b-4fda-8b66-b9c881506eec",
   "metadata": {
    "tags": []
   },
   "outputs": [
    {
     "name": "stdout",
     "output_type": "stream",
     "text": [
      "No Overwrite selected. Skipping ML for existing joblib files\n",
      "Target Class: Scanning\\Reconnaissance selected, exclude other attacks from Benign data\n",
      "Loading data set from existing file: internet_CIC.csv\n",
      "reading file: \n",
      "2022-01-30 19:23:44\n",
      "setTarget: Removed 0 flows from other attack types\n",
      "\n",
      "MLP not overwriten\n",
      "2022-01-30 19:24:08\n",
      "training SVM from SCAN_internet_CIC\n",
      "\n",
      "XGB not overwriten\n",
      "2022-01-31 06:50:58\n",
      "training NB from SCAN_internet_CIC\n",
      "\n",
      "2022-01-31 08:01:11\n",
      "training LR from SCAN_internet_CIC\n",
      "\n",
      "DT not overwriten\n",
      "2022-01-31 12:43:41\n",
      "training RF from SCAN_internet_CIC\n",
      "\n"
     ]
    }
   ],
   "source": [
    "%run supportFiles/train_model.py $MAX_NUM_FILES $CIC_FEATURES 5 $TYPE_OF_TEST"
   ]
  },
  {
   "cell_type": "markdown",
   "id": "5548f548-ccad-4872-956b-017a281cdb59",
   "metadata": {},
   "source": [
    "## Train UNSW-NB15 data set models for scanning attack detection"
   ]
  },
  {
   "cell_type": "code",
   "execution_count": 1,
   "id": "8dfe851d-7f8d-4f15-b329-6884f4c88aa7",
   "metadata": {
    "collapsed": true,
    "jupyter": {
     "outputs_hidden": true
    },
    "tags": []
   },
   "outputs": [
    {
     "name": "stdout",
     "output_type": "stream",
     "text": [
      "No Overwrite selected. Skipping ML for existing joblib files\n",
      "Target Class: Scanning\\Reconnaissance selected, exclude other attacks from Benign data\n",
      "Loading data set from existing file: NB15_CIC.csv\n",
      "reading file: \n",
      "2021-12-23 13:22:54\n",
      "setTarget: Removed 1911 flows from other attack types\n",
      "\n",
      "2021-12-23 13:22:54\n",
      "training MLP from SCAN_NB15_CIC\n",
      "\n",
      "2021-12-23 13:26:02\n",
      "training SVM from SCAN_NB15_CIC\n",
      "\n",
      "2021-12-23 13:26:21\n",
      "training XGB from SCAN_NB15_CIC\n",
      "\n",
      "2021-12-23 13:26:46\n",
      "training NB from SCAN_NB15_CIC\n",
      "\n",
      "2021-12-23 13:26:47\n",
      "training LR from SCAN_NB15_CIC\n",
      "\n",
      "2021-12-23 13:27:39\n",
      "training DT from SCAN_NB15_CIC\n",
      "\n",
      "2021-12-23 13:28:05\n",
      "Done!\n",
      "\n"
     ]
    }
   ],
   "source": [
    "%run supportFiles/train_model.py $MAX_NUM_FILES $CIC_FEATURES 1 $TYPE_OF_TEST"
   ]
  },
  {
   "cell_type": "markdown",
   "id": "220fe746-f092-4337-a334-64a951801317",
   "metadata": {},
   "source": [
    "## Train CIC-IDS data set models for scanning attack detection"
   ]
  },
  {
   "cell_type": "code",
   "execution_count": 2,
   "id": "16e1a28c-cd1f-4df8-a8eb-81df715b504f",
   "metadata": {
    "collapsed": true,
    "jupyter": {
     "outputs_hidden": true
    },
    "tags": []
   },
   "outputs": [
    {
     "name": "stdout",
     "output_type": "stream",
     "text": [
      "No Overwrite selected. Skipping ML for existing joblib files\n",
      "Target Class: Scanning\\Reconnaissance selected, exclude other attacks from Benign data\n",
      "Loading data set from existing file: CIC-IDS_CIC.csv\n",
      "reading file: \n",
      "2021-12-23 14:32:10\n",
      "setTarget: Removed 397751 flows from other attack types\n",
      "\n",
      "2021-12-23 14:32:14\n",
      "training MLP from SCAN_CIC-IDS_CIC\n",
      "\n",
      "2021-12-23 15:51:25\n",
      "training SVM from SCAN_CIC-IDS_CIC\n",
      "\n",
      "2021-12-23 16:28:52\n",
      "training XGB from SCAN_CIC-IDS_CIC\n",
      "\n",
      "2021-12-23 18:01:15\n",
      "training NB from SCAN_CIC-IDS_CIC\n",
      "\n",
      "2021-12-23 18:02:11\n",
      "training LR from SCAN_CIC-IDS_CIC\n",
      "\n",
      "2021-12-23 19:01:01\n",
      "training DT from SCAN_CIC-IDS_CIC\n",
      "\n",
      "2021-12-23 21:11:39\n",
      "Done!\n",
      "\n"
     ]
    }
   ],
   "source": [
    "%run supportFiles/train_model.py $MAX_NUM_FILES $CIC_FEATURES 2 $TYPE_OF_TEST"
   ]
  },
  {
   "cell_type": "markdown",
   "id": "f26f827c-f205-4863-bd34-24e641f1d251",
   "metadata": {},
   "source": [
    "## Train ToN-IoT data set models for scanning attack detection"
   ]
  },
  {
   "cell_type": "code",
   "execution_count": 3,
   "id": "9f568375-1e24-4a6e-bd62-2a42f58aa469",
   "metadata": {
    "collapsed": true,
    "jupyter": {
     "outputs_hidden": true
    },
    "tags": []
   },
   "outputs": [
    {
     "name": "stdout",
     "output_type": "stream",
     "text": [
      "ToN-IoT and BoT-IoT only available in CIC dataset type\n",
      "No Overwrite selected. Skipping ML for existing joblib files\n",
      "Target Class: Scanning\\Reconnaissance selected, exclude other attacks from Benign data\n",
      "Loading data set from existing file: ToN-IoT_CIC.csv\n",
      "reading file: \n",
      "2021-12-24 18:57:07\n",
      "setTarget: Removed 2800319 flows from other attack types\n",
      "\n",
      "2021-12-24 18:57:12\n",
      "training MLP from SCAN_ToN-IoT_CIC\n",
      "\n",
      "2021-12-24 19:41:24\n",
      "training SVM from SCAN_ToN-IoT_CIC\n",
      "\n",
      "2021-12-24 20:29:35\n",
      "training XGB from SCAN_ToN-IoT_CIC\n",
      "\n",
      "2021-12-24 21:46:21\n",
      "training NB from SCAN_ToN-IoT_CIC\n",
      "\n",
      "2021-12-24 21:47:06\n",
      "training LR from SCAN_ToN-IoT_CIC\n",
      "\n",
      "2021-12-24 22:44:56\n",
      "training DT from SCAN_ToN-IoT_CIC\n",
      "\n",
      "2021-12-24 23:29:49\n",
      "Done!\n",
      "\n"
     ]
    }
   ],
   "source": [
    "%run supportFiles/train_model.py $MAX_NUM_FILES $CIC_FEATURES 3 $TYPE_OF_TEST"
   ]
  },
  {
   "cell_type": "markdown",
   "id": "225c1c4a-c8b6-40c6-84d1-c385faa55da0",
   "metadata": {},
   "source": [
    "## Train BoT-IoT data set models for scanning attack detection"
   ]
  },
  {
   "cell_type": "code",
   "execution_count": 1,
   "id": "b9af6574-63b7-4e1e-8c50-83cfd5614332",
   "metadata": {
    "collapsed": true,
    "jupyter": {
     "outputs_hidden": true
    },
    "tags": []
   },
   "outputs": [
    {
     "name": "stdout",
     "output_type": "stream",
     "text": [
      "ToN-IoT and BoT-IoT only available in CIC dataset type\n",
      "No Overwrite selected. Skipping ML for existing joblib files\n",
      "Target Class: Scanning\\Reconnaissance selected, exclude other attacks from Benign data\n",
      "Loading data set from existing file: BoT-IoT_CIC.csv\n",
      "reading file: \n",
      "2021-12-23 22:05:16\n",
      "setTarget: Removed 9824925 flows from other attack types\n",
      "\n",
      "2021-12-23 22:05:23\n",
      "training MLP from SCAN_BoT-IoT_CIC\n",
      "\n",
      "2021-12-23 23:03:24\n",
      "training SVM from SCAN_BoT-IoT_CIC\n",
      "\n",
      "2021-12-24 03:07:30\n",
      "training XGB from SCAN_BoT-IoT_CIC\n",
      "\n",
      "2021-12-24 05:36:21\n",
      "training NB from SCAN_BoT-IoT_CIC\n",
      "\n",
      "2021-12-24 05:37:23\n",
      "training LR from SCAN_BoT-IoT_CIC\n",
      "\n",
      "2021-12-24 06:52:01\n",
      "training DT from SCAN_BoT-IoT_CIC\n",
      "\n",
      "2021-12-24 10:46:18\n",
      "Done!\n",
      "\n"
     ]
    }
   ],
   "source": [
    "%run supportFiles/train_model.py $MAX_NUM_FILES $CIC_FEATURES 4 $TYPE_OF_TEST"
   ]
  },
  {
   "cell_type": "markdown",
   "id": "4d1e23e0-9943-4ab6-a276-309903a656b8",
   "metadata": {
    "tags": []
   },
   "source": [
    "## The ones missing"
   ]
  },
  {
   "cell_type": "code",
   "execution_count": 1,
   "id": "20fc99fe-b70b-4c09-9fa2-e5258ae8ea4b",
   "metadata": {
    "collapsed": true,
    "jupyter": {
     "outputs_hidden": true
    },
    "tags": []
   },
   "outputs": [
    {
     "name": "stdout",
     "output_type": "stream",
     "text": [
      "No Overwrite selected. Skipping ML for existing joblib files\n",
      "Target Class: Scanning\\Reconnaissance selected, exclude other attacks from Benign data\n",
      "Loading data set from existing file: AB-TRAP_CIC.csv\n",
      "reading file: \n",
      "MLP not overwriten\n",
      "SVM not overwriten\n",
      "XGB not overwriten\n",
      "NB not overwriten\n",
      "LR not overwriten\n",
      "DT not overwriten\n",
      "2021-12-19 20:53:17\n",
      "Done!\n",
      "\n",
      "No Overwrite selected. Skipping ML for existing joblib files\n",
      "Target Class: Scanning\\Reconnaissance selected, exclude other attacks from Benign data\n",
      "Loading data set from existing file: NB15_CIC.csv\n",
      "reading file: \n",
      "2021-12-19 20:53:30\n",
      "setTarget: Removed 1911 flows from other attack types\n",
      "\n",
      "MLP not overwriten\n",
      "2021-12-19 20:53:31\n",
      "training SVM from SCAN_NB15_CIC\n",
      "\n",
      "2021-12-19 20:53:34\n",
      "Something went wrong with SVM from SCAN_NB15_CIC\n",
      "All estimators failed to fit\n",
      "\n",
      "\n",
      "XGB not overwriten\n",
      "NB not overwriten\n",
      "2021-12-19 20:53:34\n",
      "training LR from SCAN_NB15_CIC\n",
      "\n",
      "2021-12-19 20:53:34\n",
      "Something went wrong with LR from SCAN_NB15_CIC\n",
      "All estimators failed to fit\n",
      "\n",
      "\n",
      "DT not overwriten\n",
      "2021-12-19 20:53:34\n",
      "Done!\n",
      "\n",
      "No Overwrite selected. Skipping ML for existing joblib files\n",
      "Target Class: Scanning\\Reconnaissance selected, exclude other attacks from Benign data\n",
      "Loading data set from existing file: CIC-IDS_CIC.csv\n",
      "reading file: \n",
      "2021-12-19 20:55:47\n",
      "setTarget: Removed 397751 flows from other attack types\n",
      "\n",
      "MLP not overwriten\n",
      "2021-12-19 20:55:54\n",
      "training SVM from SCAN_CIC-IDS_CIC\n",
      "\n",
      "2021-12-19 20:56:13\n",
      "Something went wrong with SVM from SCAN_CIC-IDS_CIC\n",
      "All estimators failed to fit\n",
      "\n",
      "\n",
      "XGB not overwriten\n",
      "NB not overwriten\n",
      "2021-12-19 20:56:13\n",
      "training LR from SCAN_CIC-IDS_CIC\n",
      "\n",
      "2021-12-19 20:56:31\n",
      "Something went wrong with LR from SCAN_CIC-IDS_CIC\n",
      "All estimators failed to fit\n",
      "\n",
      "\n",
      "DT not overwriten\n",
      "2021-12-19 20:56:31\n",
      "Done!\n",
      "\n",
      "ToN-IoT and BoT-IoT only available in CIC dataset type\n",
      "No Overwrite selected. Skipping ML for existing joblib files\n",
      "Target Class: Scanning\\Reconnaissance selected, exclude other attacks from Benign data\n",
      "Loading data set from existing file: ToN-IoT_CIC.csv\n",
      "reading file: \n",
      "2021-12-19 21:00:05\n",
      "setTarget: Removed 2800319 flows from other attack types\n",
      "\n",
      "MLP not overwriten\n",
      "2021-12-19 21:00:12\n",
      "training SVM from SCAN_ToN-IoT_CIC\n",
      "\n",
      "2021-12-19 21:00:30\n",
      "Something went wrong with SVM from SCAN_ToN-IoT_CIC\n",
      "All estimators failed to fit\n",
      "\n",
      "\n",
      "XGB not overwriten\n",
      "NB not overwriten\n",
      "2021-12-19 21:00:30\n",
      "training LR from SCAN_ToN-IoT_CIC\n",
      "\n",
      "2021-12-19 21:00:47\n",
      "Something went wrong with LR from SCAN_ToN-IoT_CIC\n",
      "All estimators failed to fit\n",
      "\n",
      "\n",
      "DT not overwriten\n",
      "2021-12-19 21:00:47\n",
      "Done!\n",
      "\n",
      "ToN-IoT and BoT-IoT only available in CIC dataset type\n",
      "No Overwrite selected. Skipping ML for existing joblib files\n",
      "Target Class: Scanning\\Reconnaissance selected, exclude other attacks from Benign data\n",
      "Loading data set from existing file: BoT-IoT_CIC.csv\n",
      "reading file: \n",
      "2021-12-19 21:07:42\n",
      "setTarget: Removed 9824925 flows from other attack types\n",
      "\n",
      "MLP not overwriten\n",
      "2021-12-19 21:07:53\n",
      "training SVM from SCAN_BoT-IoT_CIC\n",
      "\n",
      "2021-12-19 21:08:21\n",
      "Something went wrong with SVM from SCAN_BoT-IoT_CIC\n",
      "All estimators failed to fit\n",
      "\n",
      "\n",
      "XGB not overwriten\n",
      "NB not overwriten\n",
      "2021-12-19 21:08:21\n",
      "training LR from SCAN_BoT-IoT_CIC\n",
      "\n",
      "2021-12-19 21:08:45\n",
      "Something went wrong with LR from SCAN_BoT-IoT_CIC\n",
      "All estimators failed to fit\n",
      "\n",
      "\n",
      "DT not overwriten\n",
      "2021-12-19 21:08:45\n",
      "Done!\n",
      "\n"
     ]
    }
   ],
   "source": [
    "%run supportFiles/train_model.py 96 1 0 \"KEEP\" \"SCAN_ONLY\" #\"SCAN_ALL\"\n",
    "%run supportFiles/train_model.py 96 1 1 \"KEEP\" \"SCAN_ONLY\" #\"SCAN_ALL\"\n",
    "%run supportFiles/train_model.py 96 1 2 \"KEEP\" \"SCAN_ONLY\" #\"SCAN_ALL\"\n",
    "%run supportFiles/train_model.py 96 1 3 \"KEEP\" \"SCAN_ONLY\" #\"SCAN_ALL\"\n",
    "%run supportFiles/train_model.py 96 1 4 \"KEEP\" \"SCAN_ONLY\" #\"SCAN_ALL\""
   ]
  },
  {
   "cell_type": "code",
   "execution_count": 1,
   "id": "76564564-6a58-4d7a-a4b7-387233b836b4",
   "metadata": {
    "collapsed": true,
    "jupyter": {
     "outputs_hidden": true
    },
    "tags": []
   },
   "outputs": [
    {
     "name": "stdout",
     "output_type": "stream",
     "text": [
      "Collecting imbalanced-learn\n",
      "  Downloading imbalanced_learn-0.9.0-py3-none-any.whl (199 kB)\n",
      "Requirement already satisfied: threadpoolctl>=2.0.0 in c:\\users\\aang\\anaconda3\\lib\\site-packages (from imbalanced-learn) (2.1.0)\n",
      "Requirement already satisfied: scipy>=1.1.0 in c:\\users\\aang\\anaconda3\\lib\\site-packages (from imbalanced-learn) (1.6.2)\n",
      "Requirement already satisfied: numpy>=1.14.6 in c:\\users\\aang\\anaconda3\\lib\\site-packages (from imbalanced-learn) (1.20.1)\n",
      "Collecting scikit-learn>=1.0.1\n",
      "  Downloading scikit_learn-1.0.2-cp38-cp38-win_amd64.whl (7.2 MB)\n",
      "Requirement already satisfied: joblib>=0.11 in c:\\users\\aang\\anaconda3\\lib\\site-packages (from imbalanced-learn) (1.0.1)\n",
      "Installing collected packages: scikit-learn, imbalanced-learn\n",
      "  Attempting uninstall: scikit-learn\n",
      "    Found existing installation: scikit-learn 0.24.1\n",
      "    Uninstalling scikit-learn-0.24.1:\n",
      "      Successfully uninstalled scikit-learn-0.24.1\n",
      "Successfully installed imbalanced-learn-0.9.0 scikit-learn-1.0.2\n",
      "Note: you may need to restart the kernel to use updated packages.\n"
     ]
    }
   ],
   "source": [
    "%pip install -U imbalanced-learn"
   ]
  },
  {
   "cell_type": "code",
   "execution_count": null,
   "id": "20cc032f-0aaa-4cb1-ac5a-62d9ed51fb3b",
   "metadata": {},
   "outputs": [],
   "source": []
  }
 ],
 "metadata": {
  "kernelspec": {
   "display_name": "Python 3",
   "language": "python",
   "name": "python3"
  },
  "language_info": {
   "codemirror_mode": {
    "name": "ipython",
    "version": 3
   },
   "file_extension": ".py",
   "mimetype": "text/x-python",
   "name": "python",
   "nbconvert_exporter": "python",
   "pygments_lexer": "ipython3",
   "version": "3.8.8"
  }
 },
 "nbformat": 4,
 "nbformat_minor": 5
}
